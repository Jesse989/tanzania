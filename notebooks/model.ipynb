{
 "cells": [
  {
   "cell_type": "markdown",
   "metadata": {},
   "source": [
    "# Modeling"
   ]
  },
  {
   "cell_type": "markdown",
   "metadata": {},
   "source": [
    "### Import Libraries"
   ]
  },
  {
   "cell_type": "code",
   "execution_count": 502,
   "metadata": {},
   "outputs": [],
   "source": [
    "import pandas as pd\n",
    "import numpy as np\n",
    "from sklearn.model_selection import train_test_split\n",
    "import matplotlib.pyplot as plot\n",
    "%matplotlib inline"
   ]
  },
  {
   "cell_type": "markdown",
   "metadata": {},
   "source": [
    "### Create a Pipeline"
   ]
  },
  {
   "cell_type": "code",
   "execution_count": 547,
   "metadata": {},
   "outputs": [],
   "source": [
    "from sklearn.compose import ColumnTransformer\n",
    "from sklearn.pipeline import Pipeline\n",
    "from sklearn.impute import SimpleImputer\n",
    "from sklearn.preprocessing import OneHotEncoder, StandardScaler\n",
    "\n",
    "# Preprocessing for numerical data\n",
    "numerical_transformer = Pipeline(steps=[\n",
    "    ('scale', StandardScaler())\n",
    "])\n",
    "\n",
    "# Preprocessing for categorical data\n",
    "categorical_transformer = Pipeline(steps=[\n",
    "    ('onehot', OneHotEncoder(handle_unknown='ignore'))\n",
    "])\n",
    "\n",
    "# Bundle preprocessing for numerical and categorical data\n",
    "preprocessor = ColumnTransformer(\n",
    "    transformers=[\n",
    "        ('num', numerical_transformer, numerical_cols),\n",
    "        ('cat', categorical_transformer, categorical_cols)\n",
    "])"
   ]
  },
  {
   "cell_type": "markdown",
   "metadata": {},
   "source": [
    "### Function for getting feature names"
   ]
  },
  {
   "cell_type": "code",
   "execution_count": 832,
   "metadata": {},
   "outputs": [],
   "source": [
    "def get_feature_df(grid_search, features):\n",
    "    \"\"\"\n",
    "    Return the feature names and coefficients from the final classifier of the\n",
    "    best pipeline found by GridSearchCV. See https://git.io/vPWLI.\n",
    "\n",
    "    Params\n",
    "    ------\n",
    "    grid_search: GridSearchCV object\n",
    "        A post-fit GridSearchCV object where the estimator is a Pipeline.\n",
    "    features: list\n",
    "        initial feature names\n",
    "\n",
    "    Returns\n",
    "    -------\n",
    "    pandas.DataFrame\n",
    "        Dataframe of feature name and coefficient values\n",
    "    \"\"\"\n",
    "    features = np.array(features)\n",
    "    pipeline = grid_search.best_estimator_\n",
    "    for name, transformer in pipeline.steps:\n",
    "        if name.startswith('select'):\n",
    "            X_index = np.arange(len(features)).reshape(1, -1)\n",
    "            indexes = transformer.transform(X_index).tolist()\n",
    "            features = features[indexes]\n",
    "    step_name, classifier = pipeline.steps[-1]\n",
    "#     coefficients, = classifier.coef_\n",
    "    feature_df = pd.DataFrame([\n",
    "        ('feature', features),\n",
    "#         ('coefficient', coefficients),\n",
    "    ])\n",
    "    return feature_df"
   ]
  },
  {
   "cell_type": "markdown",
   "metadata": {},
   "source": [
    "### Predict\n",
    "- added SMOTE option\n",
    "- added PCA to pipeline and see if time and score increase"
   ]
  },
  {
   "cell_type": "code",
   "execution_count": 826,
   "metadata": {},
   "outputs": [],
   "source": [
    "from sklearn.metrics import mean_absolute_error\n",
    "from sklearn.model_selection import GridSearchCV\n",
    "from imblearn.over_sampling import SMOTE\n",
    "from imblearn.under_sampling import RandomUnderSampler\n",
    "from imblearn.pipeline import Pipeline\n",
    "from sklearn.decomposition import TruncatedSVD\n",
    "\n",
    "def fit_predict(model, X_train, X_test, y_train, y_test, smote=False):\n",
    "    '''fit pipeline using given model, and return predictions'''\n",
    "    \n",
    "    param_grid = model['params']\n",
    "    model = model['model']\n",
    "        \n",
    "    if smote:\n",
    "        # Bundle preprocessing and modeling code in a pipeline\n",
    "        my_pipeline = Pipeline(steps=[('preprocessor', preprocessor),\n",
    "                                      ('smote', SMOTE()),\n",
    "                                     ('under', RandomUnderSampler()),\n",
    "#                                       ('pca', TruncatedSVD()),\n",
    "                                      ('model', model)\n",
    "                                     ])\n",
    "    else:\n",
    "        # Bundle preprocessing and modeling code in a pipeline\n",
    "        my_pipeline = Pipeline(steps=[('preprocessor', preprocessor),\n",
    "#                                       ('pca', TruncatedSVD()),\n",
    "                                      ('model', model)\n",
    "                                     ])\n",
    "\n",
    "    search = GridSearchCV(estimator=my_pipeline,\n",
    "             param_grid=param_grid, n_jobs=-1, verbose=2, cv=3)\n",
    "    \n",
    "    train_preds = search.fit(X_train, y_train)\n",
    "    train_preds = search.predict(X_train)\n",
    "    test_preds = search.predict(X_test)\n",
    "        \n",
    "    print(\"Best parameter (CV score=%0.3f):\" % search.best_score_)\n",
    "    print(search.best_params_)\n",
    "        \n",
    "    return test_preds, train_preds, search"
   ]
  },
  {
   "cell_type": "markdown",
   "metadata": {},
   "source": [
    "## Evaluate\n",
    "What are the most important things to look for with regression?"
   ]
  },
  {
   "cell_type": "code",
   "execution_count": 166,
   "metadata": {},
   "outputs": [],
   "source": [
    "from sklearn.metrics import confusion_matrix\n",
    "import itertools\n",
    "%matplotlib inline\n",
    "\n",
    "\n",
    "def plot_confusion_matrix(y_true, y_preds):\n",
    "    # Print confusion matrix\n",
    "    cnf_matrix = confusion_matrix(y_true, y_preds)\n",
    "    \n",
    "    # Create the basic matrix\n",
    "    plt.imshow(cnf_matrix,  cmap=plt.cm.Blues)\n",
    "    # Add title and axis labels\n",
    "    plt.title('Confusion Matrix')\n",
    "    plt.ylabel('True label')\n",
    "    plt.xlabel('Predicted label')\n",
    "    # Add appropriate axis scales\n",
    "    class_names = set(y) # Get class labels to add to matrix\n",
    "    tick_marks = np.arange(len(class_names))\n",
    "    plt.xticks(tick_marks, class_names, rotation=0)\n",
    "    plt.yticks(tick_marks, class_names)\n",
    "    # Add labels to each cell\n",
    "    thresh = cnf_matrix.max() / 2. # Used for text coloring below\n",
    "    # Here we iterate through the confusion matrix and append labels to our visualization\n",
    "    for i, j in itertools.product(range(cnf_matrix.shape[0]), range(cnf_matrix.shape[1])):\n",
    "            plt.text(j, i, cnf_matrix[i, j],\n",
    "                     horizontalalignment='center',\n",
    "                     color='white' if cnf_matrix[i, j] > thresh else 'black')\n",
    "    # Add a legend\n",
    "    plt.colorbar();\n",
    "    plt.show();"
   ]
  },
  {
   "cell_type": "code",
   "execution_count": 189,
   "metadata": {},
   "outputs": [],
   "source": [
    "from sklearn.metrics import accuracy_score\n",
    "from sklearn.metrics import classification_report\n",
    "\n",
    "def metrics(model_name, y_train, y_test, y_train_pred, y_test_pred):\n",
    "    '''Print out the evaluation metrics for a given models predictions'''\n",
    "    print(f'Model: {model_name}', )\n",
    "    print('-'*60)\n",
    "    plot_confusion_matrix(y_test, y_test_pred)\n",
    "    print('-'*60)\n",
    "    print(f'test accuracy: {accuracy_score(y_test, y_test_pred)}')\n",
    "    print(f'train accuracy: {accuracy_score(y_train, y_train_pred)}')\n",
    "    print('-'*60)\n",
    "    print('\\ntest report:\\n' + classification_report(y_test, y_test_pred))\n",
    "    print('~'*60)\n",
    "    print('\\ntrain report:\\n' + classification_report(y_train, y_train_pred))    \n",
    "    print('-'*60)\n",
    "    "
   ]
  },
  {
   "cell_type": "markdown",
   "metadata": {},
   "source": [
    "## Dataset"
   ]
  },
  {
   "cell_type": "markdown",
   "metadata": {},
   "source": [
    "### Full"
   ]
  },
  {
   "cell_type": "code",
   "execution_count": 661,
   "metadata": {},
   "outputs": [],
   "source": [
    "# full dataset\n",
    "clean_df = pd.read_csv('../data/clean/tanzania.csv', index_col=0)\n",
    "clean_df = clean_df\n",
    "\n",
    "y = clean_df[clean_df['target'] != -1]['target']\n",
    "X = clean_df[clean_df['target'] != -1].drop(['target'], axis=1)\n",
    "\n",
    "X_contest = pd.read_csv('../data/raw/X_test.csv')\n",
    "\n",
    "numerical_cols = list(X.select_dtypes(include=np.number).columns)\n",
    "categorical_cols = list(X.select_dtypes(exclude=np.number).columns)"
   ]
  },
  {
   "cell_type": "code",
   "execution_count": 662,
   "metadata": {},
   "outputs": [
    {
     "data": {
      "text/html": [
       "<div>\n",
       "<style scoped>\n",
       "    .dataframe tbody tr th:only-of-type {\n",
       "        vertical-align: middle;\n",
       "    }\n",
       "\n",
       "    .dataframe tbody tr th {\n",
       "        vertical-align: top;\n",
       "    }\n",
       "\n",
       "    .dataframe thead th {\n",
       "        text-align: right;\n",
       "    }\n",
       "</style>\n",
       "<table border=\"1\" class=\"dataframe\">\n",
       "  <thead>\n",
       "    <tr style=\"text-align: right;\">\n",
       "      <th></th>\n",
       "      <th>id</th>\n",
       "      <th>amount_tsh</th>\n",
       "      <th>date_recorded</th>\n",
       "      <th>funder</th>\n",
       "      <th>gps_height</th>\n",
       "      <th>installer</th>\n",
       "      <th>longitude</th>\n",
       "      <th>latitude</th>\n",
       "      <th>wpt_name</th>\n",
       "      <th>num_private</th>\n",
       "      <th>...</th>\n",
       "      <th>payment_type</th>\n",
       "      <th>water_quality</th>\n",
       "      <th>quality_group</th>\n",
       "      <th>quantity</th>\n",
       "      <th>quantity_group</th>\n",
       "      <th>source</th>\n",
       "      <th>source_type</th>\n",
       "      <th>source_class</th>\n",
       "      <th>waterpoint_type</th>\n",
       "      <th>waterpoint_type_group</th>\n",
       "    </tr>\n",
       "  </thead>\n",
       "  <tbody>\n",
       "    <tr>\n",
       "      <th>4487</th>\n",
       "      <td>15897</td>\n",
       "      <td>0.0</td>\n",
       "      <td>2011-07-29</td>\n",
       "      <td>Danida</td>\n",
       "      <td>0</td>\n",
       "      <td>Central government</td>\n",
       "      <td>33.942577</td>\n",
       "      <td>-9.497702</td>\n",
       "      <td>Kwa Nico Mwakisimba</td>\n",
       "      <td>0</td>\n",
       "      <td>...</td>\n",
       "      <td>monthly</td>\n",
       "      <td>soft</td>\n",
       "      <td>good</td>\n",
       "      <td>enough</td>\n",
       "      <td>enough</td>\n",
       "      <td>spring</td>\n",
       "      <td>spring</td>\n",
       "      <td>groundwater</td>\n",
       "      <td>communal standpipe</td>\n",
       "      <td>communal standpipe</td>\n",
       "    </tr>\n",
       "    <tr>\n",
       "      <th>12296</th>\n",
       "      <td>65092</td>\n",
       "      <td>0.0</td>\n",
       "      <td>2013-01-28</td>\n",
       "      <td>Finw</td>\n",
       "      <td>209</td>\n",
       "      <td>FinW</td>\n",
       "      <td>39.752639</td>\n",
       "      <td>-10.785168</td>\n",
       "      <td>Pachoto</td>\n",
       "      <td>0</td>\n",
       "      <td>...</td>\n",
       "      <td>never pay</td>\n",
       "      <td>soft</td>\n",
       "      <td>good</td>\n",
       "      <td>dry</td>\n",
       "      <td>dry</td>\n",
       "      <td>machine dbh</td>\n",
       "      <td>borehole</td>\n",
       "      <td>groundwater</td>\n",
       "      <td>communal standpipe multiple</td>\n",
       "      <td>communal standpipe</td>\n",
       "    </tr>\n",
       "    <tr>\n",
       "      <th>6860</th>\n",
       "      <td>27627</td>\n",
       "      <td>0.0</td>\n",
       "      <td>2013-02-16</td>\n",
       "      <td>Danida</td>\n",
       "      <td>1723</td>\n",
       "      <td>DANIDA</td>\n",
       "      <td>30.060400</td>\n",
       "      <td>-4.476163</td>\n",
       "      <td>Sagihobe</td>\n",
       "      <td>0</td>\n",
       "      <td>...</td>\n",
       "      <td>never pay</td>\n",
       "      <td>soft</td>\n",
       "      <td>good</td>\n",
       "      <td>enough</td>\n",
       "      <td>enough</td>\n",
       "      <td>spring</td>\n",
       "      <td>spring</td>\n",
       "      <td>groundwater</td>\n",
       "      <td>improved spring</td>\n",
       "      <td>improved spring</td>\n",
       "    </tr>\n",
       "  </tbody>\n",
       "</table>\n",
       "<p>3 rows × 40 columns</p>\n",
       "</div>"
      ],
      "text/plain": [
       "          id  amount_tsh date_recorded  funder  gps_height  \\\n",
       "4487   15897         0.0    2011-07-29  Danida           0   \n",
       "12296  65092         0.0    2013-01-28    Finw         209   \n",
       "6860   27627         0.0    2013-02-16  Danida        1723   \n",
       "\n",
       "                installer  longitude   latitude             wpt_name  \\\n",
       "4487   Central government  33.942577  -9.497702  Kwa Nico Mwakisimba   \n",
       "12296                FinW  39.752639 -10.785168              Pachoto   \n",
       "6860               DANIDA  30.060400  -4.476163             Sagihobe   \n",
       "\n",
       "       num_private  ... payment_type water_quality quality_group  quantity  \\\n",
       "4487             0  ...      monthly          soft          good    enough   \n",
       "12296            0  ...    never pay          soft          good       dry   \n",
       "6860             0  ...    never pay          soft          good    enough   \n",
       "\n",
       "       quantity_group       source source_type  source_class  \\\n",
       "4487           enough       spring      spring   groundwater   \n",
       "12296             dry  machine dbh    borehole   groundwater   \n",
       "6860           enough       spring      spring   groundwater   \n",
       "\n",
       "                   waterpoint_type waterpoint_type_group  \n",
       "4487            communal standpipe    communal standpipe  \n",
       "12296  communal standpipe multiple    communal standpipe  \n",
       "6860               improved spring       improved spring  \n",
       "\n",
       "[3 rows x 40 columns]"
      ]
     },
     "execution_count": 662,
     "metadata": {},
     "output_type": "execute_result"
    }
   ],
   "source": [
    "X_contest.sample(3)"
   ]
  },
  {
   "cell_type": "code",
   "execution_count": 663,
   "metadata": {},
   "outputs": [],
   "source": [
    "# split full data\n",
    "X_total_train, X_total_test, y_total_train, y_total_test = train_test_split(X, y, test_size=.2, random_state=42, stratify=y)"
   ]
  },
  {
   "cell_type": "code",
   "execution_count": 664,
   "metadata": {},
   "outputs": [
    {
     "data": {
      "text/plain": [
       "(20371, 18)"
      ]
     },
     "execution_count": 664,
     "metadata": {},
     "output_type": "execute_result"
    }
   ],
   "source": [
    "clean_df.shape"
   ]
  },
  {
   "cell_type": "code",
   "execution_count": 665,
   "metadata": {},
   "outputs": [
    {
     "data": {
      "text/plain": [
       "0    13412\n",
       "2     5380\n",
       "1     1579\n",
       "Name: target, dtype: int64"
      ]
     },
     "execution_count": 665,
     "metadata": {},
     "output_type": "execute_result"
    }
   ],
   "source": [
    "clean_df['target'].value_counts()"
   ]
  },
  {
   "cell_type": "markdown",
   "metadata": {},
   "source": [
    "### Sub"
   ]
  },
  {
   "cell_type": "code",
   "execution_count": 666,
   "metadata": {},
   "outputs": [],
   "source": [
    "# smaller dataset\n",
    "smallest_num = clean_df['target'].value_counts().sort_values().values[0]\n",
    "target_0 = clean_df[clean_df['target'] == 0].sample(smallest_num)\n",
    "target_1 = clean_df[clean_df['target'] == 1].sample(smallest_num)\n",
    "target_2 = clean_df[clean_df['target'] == 2].sample(smallest_num)\n",
    "\n",
    "sampled_df = pd.concat([target_0, target_1, target_2])"
   ]
  },
  {
   "cell_type": "code",
   "execution_count": 667,
   "metadata": {},
   "outputs": [
    {
     "data": {
      "text/plain": [
       "2    1579\n",
       "1    1579\n",
       "0    1579\n",
       "Name: target, dtype: int64"
      ]
     },
     "execution_count": 667,
     "metadata": {},
     "output_type": "execute_result"
    }
   ],
   "source": [
    "sampled_df['target'].value_counts()"
   ]
  },
  {
   "cell_type": "code",
   "execution_count": 668,
   "metadata": {},
   "outputs": [],
   "source": [
    "X_sampled_df = sampled_df.drop('target', axis=1)\n",
    "y_sampled_df = sampled_df['target']"
   ]
  },
  {
   "cell_type": "code",
   "execution_count": 669,
   "metadata": {},
   "outputs": [],
   "source": [
    "# split sampled data\n",
    "X_train, X_test, y_train, y_test = train_test_split(X_sampled_df, y_sampled_df, test_size=.3, random_state=42)"
   ]
  },
  {
   "cell_type": "code",
   "execution_count": 670,
   "metadata": {},
   "outputs": [
    {
     "data": {
      "text/html": [
       "<div>\n",
       "<style scoped>\n",
       "    .dataframe tbody tr th:only-of-type {\n",
       "        vertical-align: middle;\n",
       "    }\n",
       "\n",
       "    .dataframe tbody tr th {\n",
       "        vertical-align: top;\n",
       "    }\n",
       "\n",
       "    .dataframe thead th {\n",
       "        text-align: right;\n",
       "    }\n",
       "</style>\n",
       "<table border=\"1\" class=\"dataframe\">\n",
       "  <thead>\n",
       "    <tr style=\"text-align: right;\">\n",
       "      <th></th>\n",
       "      <th>gps_height</th>\n",
       "      <th>longitude</th>\n",
       "      <th>latitude</th>\n",
       "      <th>basin</th>\n",
       "      <th>region</th>\n",
       "      <th>district_code</th>\n",
       "      <th>population</th>\n",
       "      <th>scheme_management</th>\n",
       "      <th>permit</th>\n",
       "      <th>extraction_type</th>\n",
       "      <th>management</th>\n",
       "      <th>payment_type</th>\n",
       "      <th>water_quality</th>\n",
       "      <th>quantity</th>\n",
       "      <th>source</th>\n",
       "      <th>waterpoint_type</th>\n",
       "      <th>age</th>\n",
       "    </tr>\n",
       "  </thead>\n",
       "  <tbody>\n",
       "    <tr>\n",
       "      <th>45690</th>\n",
       "      <td>1632</td>\n",
       "      <td>35.053211</td>\n",
       "      <td>-4.364732</td>\n",
       "      <td>Internal</td>\n",
       "      <td>Manyara</td>\n",
       "      <td>2</td>\n",
       "      <td>283</td>\n",
       "      <td>VWC</td>\n",
       "      <td>True</td>\n",
       "      <td>other - play pump</td>\n",
       "      <td>vwc</td>\n",
       "      <td>per bucket</td>\n",
       "      <td>salty</td>\n",
       "      <td>insufficient</td>\n",
       "      <td>rainwater harvesting</td>\n",
       "      <td>hand pump</td>\n",
       "      <td>8</td>\n",
       "    </tr>\n",
       "    <tr>\n",
       "      <th>28130</th>\n",
       "      <td>282</td>\n",
       "      <td>36.119934</td>\n",
       "      <td>-8.319521</td>\n",
       "      <td>Rufiji</td>\n",
       "      <td>Morogoro</td>\n",
       "      <td>3</td>\n",
       "      <td>600</td>\n",
       "      <td>VWC</td>\n",
       "      <td>True</td>\n",
       "      <td>nira/tanira</td>\n",
       "      <td>vwc</td>\n",
       "      <td>never pay</td>\n",
       "      <td>soft</td>\n",
       "      <td>insufficient</td>\n",
       "      <td>shallow well</td>\n",
       "      <td>hand pump</td>\n",
       "      <td>15</td>\n",
       "    </tr>\n",
       "    <tr>\n",
       "      <th>389</th>\n",
       "      <td>1694</td>\n",
       "      <td>34.503924</td>\n",
       "      <td>-9.873567</td>\n",
       "      <td>Lake Nyasa</td>\n",
       "      <td>Iringa</td>\n",
       "      <td>5</td>\n",
       "      <td>95</td>\n",
       "      <td>VWC</td>\n",
       "      <td>True</td>\n",
       "      <td>gravity</td>\n",
       "      <td>vwc</td>\n",
       "      <td>annually</td>\n",
       "      <td>soft</td>\n",
       "      <td>enough</td>\n",
       "      <td>spring</td>\n",
       "      <td>communal standpipe</td>\n",
       "      <td>28</td>\n",
       "    </tr>\n",
       "    <tr>\n",
       "      <th>5864</th>\n",
       "      <td>1517</td>\n",
       "      <td>34.784320</td>\n",
       "      <td>-4.827388</td>\n",
       "      <td>Internal</td>\n",
       "      <td>Singida</td>\n",
       "      <td>4</td>\n",
       "      <td>29</td>\n",
       "      <td>Parastatal</td>\n",
       "      <td>True</td>\n",
       "      <td>windmill</td>\n",
       "      <td>parastatal</td>\n",
       "      <td>never pay</td>\n",
       "      <td>soft</td>\n",
       "      <td>seasonal</td>\n",
       "      <td>machine dbh</td>\n",
       "      <td>communal standpipe multiple</td>\n",
       "      <td>13</td>\n",
       "    </tr>\n",
       "    <tr>\n",
       "      <th>3274</th>\n",
       "      <td>277</td>\n",
       "      <td>36.466733</td>\n",
       "      <td>-8.417176</td>\n",
       "      <td>Rufiji</td>\n",
       "      <td>Morogoro</td>\n",
       "      <td>4</td>\n",
       "      <td>260</td>\n",
       "      <td>VWC</td>\n",
       "      <td>True</td>\n",
       "      <td>nira/tanira</td>\n",
       "      <td>vwc</td>\n",
       "      <td>monthly</td>\n",
       "      <td>soft</td>\n",
       "      <td>enough</td>\n",
       "      <td>shallow well</td>\n",
       "      <td>hand pump</td>\n",
       "      <td>10</td>\n",
       "    </tr>\n",
       "  </tbody>\n",
       "</table>\n",
       "</div>"
      ],
      "text/plain": [
       "       gps_height  longitude  latitude       basin    region  district_code  \\\n",
       "45690        1632  35.053211 -4.364732    Internal   Manyara              2   \n",
       "28130         282  36.119934 -8.319521      Rufiji  Morogoro              3   \n",
       "389          1694  34.503924 -9.873567  Lake Nyasa    Iringa              5   \n",
       "5864         1517  34.784320 -4.827388    Internal   Singida              4   \n",
       "3274          277  36.466733 -8.417176      Rufiji  Morogoro              4   \n",
       "\n",
       "       population scheme_management  permit    extraction_type  management  \\\n",
       "45690         283               VWC    True  other - play pump         vwc   \n",
       "28130         600               VWC    True        nira/tanira         vwc   \n",
       "389            95               VWC    True            gravity         vwc   \n",
       "5864           29        Parastatal    True           windmill  parastatal   \n",
       "3274          260               VWC    True        nira/tanira         vwc   \n",
       "\n",
       "      payment_type water_quality      quantity                source  \\\n",
       "45690   per bucket         salty  insufficient  rainwater harvesting   \n",
       "28130    never pay          soft  insufficient          shallow well   \n",
       "389       annually          soft        enough                spring   \n",
       "5864     never pay          soft      seasonal           machine dbh   \n",
       "3274       monthly          soft        enough          shallow well   \n",
       "\n",
       "                   waterpoint_type  age  \n",
       "45690                    hand pump    8  \n",
       "28130                    hand pump   15  \n",
       "389             communal standpipe   28  \n",
       "5864   communal standpipe multiple   13  \n",
       "3274                     hand pump   10  "
      ]
     },
     "execution_count": 670,
     "metadata": {},
     "output_type": "execute_result"
    }
   ],
   "source": [
    "X_sampled_df.head()"
   ]
  },
  {
   "cell_type": "code",
   "execution_count": 671,
   "metadata": {},
   "outputs": [
    {
     "data": {
      "text/plain": [
       "4737"
      ]
     },
     "execution_count": 671,
     "metadata": {},
     "output_type": "execute_result"
    }
   ],
   "source": [
    "X_sampled_df.shape[0]"
   ]
  },
  {
   "cell_type": "markdown",
   "metadata": {},
   "source": [
    "# Models\n",
    "- LinearSVC\n",
    "- k-NN\n",
    "- Support Vector Machine Algorithm\n",
    "- XGBoost\n",
    "- Random Forest"
   ]
  },
  {
   "cell_type": "markdown",
   "metadata": {},
   "source": [
    "## LinearSVC"
   ]
  },
  {
   "cell_type": "markdown",
   "metadata": {},
   "source": [
    "### Why LinearSVC\n",
    "The objective of a Linear SVC (Support Vector Classifier) is to fit to the data you provide, returning a \"best fit\"\n",
    "hyperplane that divides, or categorizes, your data. \n",
    "\n",
    "It has more flexibility in the choice of penalties and loss functions and should scale better to large numbers of samples.\n",
    "\n",
    "LinearSVC is another (faster) implementation of Support Vector Classification for the case of a linear kernel."
   ]
  },
  {
   "cell_type": "markdown",
   "metadata": {},
   "source": [
    "### Hyperparameters"
   ]
  },
  {
   "cell_type": "code",
   "execution_count": 616,
   "metadata": {},
   "outputs": [],
   "source": [
    "lsvc_params = {\n",
    "    # \n",
    "    'model__C': [.1, 1, 10], \n",
    "    'model__tol': [1,0.1,0.01],\n",
    "    'model__max_iter': [100000],\n",
    "    'model__penalty': ['l1', 'l2'],\n",
    "    'model__multi_class': ['ovr']\n",
    "}\n",
    "\n",
    "# Best parameter (CV score=0.630):\n",
    "# {'model__C': 0.1, 'model__max_iter': 100000, 'model__multi_class': 'crammer_singer', 'model__penalty': 'l1', 'model__tol': 0.1}"
   ]
  },
  {
   "cell_type": "markdown",
   "metadata": {},
   "source": [
    "### Fitting LinearSVC"
   ]
  },
  {
   "cell_type": "code",
   "execution_count": 500,
   "metadata": {},
   "outputs": [
    {
     "name": "stdout",
     "output_type": "stream",
     "text": [
      "Fitting 3 folds for each of 18 candidates, totalling 54 fits\n"
     ]
    },
    {
     "name": "stderr",
     "output_type": "stream",
     "text": [
      "[Parallel(n_jobs=-1)]: Using backend LokyBackend with 4 concurrent workers.\n",
      "[Parallel(n_jobs=-1)]: Done  47 out of  54 | elapsed:    8.4s remaining:    1.3s\n"
     ]
    },
    {
     "name": "stdout",
     "output_type": "stream",
     "text": [
      "Best parameter (CV score=0.622):\n",
      "{'model__C': 0.1, 'model__max_iter': 100000, 'model__multi_class': 'ovr', 'model__penalty': 'l2', 'model__tol': 1}\n"
     ]
    },
    {
     "name": "stderr",
     "output_type": "stream",
     "text": [
      "[Parallel(n_jobs=-1)]: Done  54 out of  54 | elapsed:   34.2s finished\n"
     ]
    }
   ],
   "source": [
    "from sklearn.svm import LinearSVC\n",
    "\n",
    "lsvc = { 'model': LinearSVC(random_state=42), 'params': lsvc_params }\n",
    "\n",
    "lsvc_test_preds, lsvc_train_preds = fit_predict(lsvc, X_train, X_test, y_train, y_test)"
   ]
  },
  {
   "cell_type": "markdown",
   "metadata": {},
   "source": [
    "### Evaluating LinearSVC"
   ]
  },
  {
   "cell_type": "code",
   "execution_count": 501,
   "metadata": {
    "scrolled": false
   },
   "outputs": [
    {
     "name": "stdout",
     "output_type": "stream",
     "text": [
      "Model: LinearSVC\n",
      "------------------------------------------------------------\n"
     ]
    },
    {
     "data": {
      "image/png": "[encoded data removed]",
      "text/plain": [
       "<Figure size 432x288 with 2 Axes>"
      ]
     },
     "metadata": {
      "needs_background": "light"
     },
     "output_type": "display_data"
    },
    {
     "name": "stdout",
     "output_type": "stream",
     "text": [
      "------------------------------------------------------------\n",
      "test accuracy: 0.620253164556962\n",
      "train accuracy: 0.6458521870286577\n",
      "------------------------------------------------------------\n",
      "\n",
      "test report:\n",
      "              precision    recall  f1-score   support\n",
      "\n",
      "           0       0.62      0.60      0.61       495\n",
      "           1       0.61      0.69      0.65       461\n",
      "           2       0.63      0.58      0.60       466\n",
      "\n",
      "    accuracy                           0.62      1422\n",
      "   macro avg       0.62      0.62      0.62      1422\n",
      "weighted avg       0.62      0.62      0.62      1422\n",
      "\n",
      "~~~~~~~~~~~~~~~~~~~~~~~~~~~~~~~~~~~~~~~~~~~~~~~~~~~~~~~~~~~~\n",
      "\n",
      "train report:\n",
      "              precision    recall  f1-score   support\n",
      "\n",
      "           0       0.62      0.62      0.62      1084\n",
      "           1       0.64      0.71      0.67      1118\n",
      "           2       0.68      0.60      0.64      1113\n",
      "\n",
      "    accuracy                           0.65      3315\n",
      "   macro avg       0.65      0.65      0.64      3315\n",
      "weighted avg       0.65      0.65      0.65      3315\n",
      "\n",
      "------------------------------------------------------------\n"
     ]
    }
   ],
   "source": [
    "metrics('LinearSVC', y_train, y_test, lsvc_train_preds, lsvc_test_preds)"
   ]
  },
  {
   "cell_type": "markdown",
   "metadata": {},
   "source": [
    "There is a debate that LinearSVC is not a good fit for multi-class classification problems.\n",
    "\n",
    "There are some ways to adjust for it: \n",
    "- using the 'crammer_singer' algorithm, or the 'ovr' (one-vs-rest)"
   ]
  },
  {
   "cell_type": "markdown",
   "metadata": {},
   "source": [
    "## KNN"
   ]
  },
  {
   "cell_type": "markdown",
   "metadata": {},
   "source": [
    "### Why KNN\n",
    "KNNs are a non-parametric, lazy learning algorithm. It makes no underlying assumptions about the distribution of data. \n",
    "\n",
    "No training is necessary! \n",
    "\n",
    "KNN makes predictions just-in-time by calculating the similarity between an input sample and each training instance.\n",
    "\n",
    "It is a Simple algorithm — to explain and understand/interpret. It is versatile — useful for classification or regression."
   ]
  },
  {
   "cell_type": "markdown",
   "metadata": {},
   "source": [
    "### Hyperparameters"
   ]
  },
  {
   "cell_type": "code",
   "execution_count": 816,
   "metadata": {},
   "outputs": [],
   "source": [
    "knn_params = {\n",
    "#     'pca__n_components': range(80, 120, 20),\n",
    "    # amount of neighbors\n",
    "    'model__n_neighbors': [500],\n",
    "    # leaf size\n",
    "    'model__leaf_size': [1],\n",
    "    'model__weights': ['distance'],\n",
    "    'model__p': [2]\n",
    "}"
   ]
  },
  {
   "cell_type": "markdown",
   "metadata": {},
   "source": [
    "### Fitting KNN"
   ]
  },
  {
   "cell_type": "code",
   "execution_count": 827,
   "metadata": {},
   "outputs": [
    {
     "name": "stdout",
     "output_type": "stream",
     "text": [
      "Fitting 3 folds for each of 1 candidates, totalling 3 fits\n"
     ]
    },
    {
     "name": "stderr",
     "output_type": "stream",
     "text": [
      "[Parallel(n_jobs=-1)]: Using backend LokyBackend with 4 concurrent workers.\n",
      "[Parallel(n_jobs=-1)]: Done   3 out of   3 | elapsed:   14.9s finished\n"
     ]
    },
    {
     "name": "stdout",
     "output_type": "stream",
     "text": [
      "Best parameter (CV score=0.726):\n",
      "{'model__leaf_size': 1, 'model__n_neighbors': 500, 'model__p': 2, 'model__weights': 'distance'}\n"
     ]
    }
   ],
   "source": [
    "from sklearn.neighbors import KNeighborsClassifier\n",
    "knn = { 'model': KNeighborsClassifier(), 'params': knn_params }\n",
    "feature_names = numerical_cols + categorical_cols \n",
    "knn_test_preds, knn_train_preds, knn_pipeline = fit_predict(knn, X_total_train, X_total_test, y_total_train, y_total_test)"
   ]
  },
  {
   "cell_type": "code",
   "execution_count": null,
   "metadata": {},
   "outputs": [],
   "source": []
  },
  {
   "cell_type": "markdown",
   "metadata": {},
   "source": [
    "### Evaluating KNN"
   ]
  },
  {
   "cell_type": "code",
   "execution_count": 676,
   "metadata": {},
   "outputs": [
    {
     "name": "stdout",
     "output_type": "stream",
     "text": [
      "Model: k-NN\n",
      "------------------------------------------------------------\n"
     ]
    },
    {
     "data": {
      "image/png": "[encoded data removed]",
      "text/plain": [
       "<Figure size 432x288 with 2 Axes>"
      ]
     },
     "metadata": {
      "needs_background": "light"
     },
     "output_type": "display_data"
    },
    {
     "name": "stdout",
     "output_type": "stream",
     "text": [
      "------------------------------------------------------------\n",
      "test accuracy: 0.7415950920245399\n",
      "train accuracy: 0.9979749631811488\n",
      "------------------------------------------------------------\n",
      "\n",
      "test report:\n",
      "              precision    recall  f1-score   support\n",
      "\n",
      "           0       0.74      0.96      0.83      2683\n",
      "           1       0.67      0.22      0.33       316\n",
      "           2       0.79      0.34      0.48      1076\n",
      "\n",
      "    accuracy                           0.74      4075\n",
      "   macro avg       0.73      0.51      0.55      4075\n",
      "weighted avg       0.75      0.74      0.70      4075\n",
      "\n",
      "~~~~~~~~~~~~~~~~~~~~~~~~~~~~~~~~~~~~~~~~~~~~~~~~~~~~~~~~~~~~\n",
      "\n",
      "train report:\n",
      "              precision    recall  f1-score   support\n",
      "\n",
      "           0       1.00      1.00      1.00     10729\n",
      "           1       1.00      0.99      1.00      1263\n",
      "           2       1.00      0.99      1.00      4304\n",
      "\n",
      "    accuracy                           1.00     16296\n",
      "   macro avg       1.00      1.00      1.00     16296\n",
      "weighted avg       1.00      1.00      1.00     16296\n",
      "\n",
      "------------------------------------------------------------\n"
     ]
    }
   ],
   "source": [
    "metrics('k-NN', y_total_train, y_total_test, knn_train_preds, knn_test_preds)"
   ]
  },
  {
   "cell_type": "markdown",
   "metadata": {},
   "source": [
    "## SVC"
   ]
  },
  {
   "cell_type": "markdown",
   "metadata": {},
   "source": [
    "## Why SVC"
   ]
  },
  {
   "cell_type": "markdown",
   "metadata": {},
   "source": [
    "### Hyperparameters"
   ]
  },
  {
   "cell_type": "code",
   "execution_count": 199,
   "metadata": {},
   "outputs": [],
   "source": [
    "svc_params = {\n",
    "}"
   ]
  },
  {
   "cell_type": "markdown",
   "metadata": {},
   "source": [
    "### Fitting SVC"
   ]
  },
  {
   "cell_type": "code",
   "execution_count": null,
   "metadata": {},
   "outputs": [],
   "source": [
    "from sklearn.svmm import SVC\n",
    "\n",
    "svc = { 'model': SVC(random_state=42), 'params': svc_params }\n",
    "\n",
    "svc_test_preds, svc_train_preds = fit_predict(svc, X_train, X_test, y_train, y_test)"
   ]
  },
  {
   "cell_type": "markdown",
   "metadata": {},
   "source": [
    "### Evaluating SVC"
   ]
  },
  {
   "cell_type": "code",
   "execution_count": null,
   "metadata": {},
   "outputs": [],
   "source": [
    "metrics('SVC', y_train, y_test, svc_train_preds, svc_test_preds)"
   ]
  },
  {
   "cell_type": "markdown",
   "metadata": {},
   "source": [
    "## XGBoost"
   ]
  },
  {
   "cell_type": "markdown",
   "metadata": {},
   "source": [
    "### Why XGBoost"
   ]
  },
  {
   "cell_type": "markdown",
   "metadata": {},
   "source": [
    "### Hyperparameters"
   ]
  },
  {
   "cell_type": "code",
   "execution_count": 634,
   "metadata": {},
   "outputs": [],
   "source": [
    "xgb_params = {\n",
    "#     'pca__n_components': range(20, 60, 20),\n",
    "    'model__colsample_bytree': [.6],       # how many features to use per estimator/tree\n",
    "    'model__eta': [.01],                   # learning rate\n",
    "    'model__n_estimators': [1000],         # how many models/estimators/trees to make\n",
    "    'model__gamma': [5],                   # larger gamma, more conservitive. lower means more overfitting\n",
    "    'model__max_depth': [12],              # higher number means more overfitting\n",
    "    'model__objective': ['multi:softmax'], # for multiclass \n",
    "    'model__num_class': [3],               # for multiclass\n",
    "    'model__eval_metric': ['merror'],      # for multiclass\n",
    "}"
   ]
  },
  {
   "cell_type": "markdown",
   "metadata": {},
   "source": [
    "### Fitting XGBoost"
   ]
  },
  {
   "cell_type": "code",
   "execution_count": 651,
   "metadata": {},
   "outputs": [
    {
     "name": "stdout",
     "output_type": "stream",
     "text": [
      "Fitting 3 folds for each of 1 candidates, totalling 3 fits\n"
     ]
    },
    {
     "name": "stderr",
     "output_type": "stream",
     "text": [
      "[Parallel(n_jobs=-1)]: Using backend LokyBackend with 4 concurrent workers.\n",
      "[Parallel(n_jobs=-1)]: Done   3 out of   3 | elapsed:   20.1s finished\n"
     ]
    },
    {
     "name": "stdout",
     "output_type": "stream",
     "text": [
      "Best parameter (CV score=0.633):\n",
      "{'model__colsample_bytree': 0.6, 'model__eta': 0.01, 'model__eval_metric': 'merror', 'model__gamma': 5, 'model__max_depth': 12, 'model__n_estimators': 1000, 'model__num_class': 3, 'model__objective': 'multi:softmax'}\n"
     ]
    }
   ],
   "source": [
    "from xgboost import XGBClassifier\n",
    "\n",
    "xgb = { 'model': XGBClassifier(random_state=42), 'params': xgb_params }\n",
    "\n",
    "xgb_test_preds, xgb_train_preds, xgboost_pipe = fit_predict(xgb, X_train, X_test, y_train, y_test)"
   ]
  },
  {
   "cell_type": "code",
   "execution_count": 833,
   "metadata": {},
   "outputs": [],
   "source": [
    "feature_df = get_feature_df(xgboost_pipe, feature_names)"
   ]
  },
  {
   "cell_type": "code",
   "execution_count": 836,
   "metadata": {},
   "outputs": [
    {
     "data": {
      "text/plain": [
       "[array(['gps_height', 'longitude', 'latitude', 'district_code',\n",
       "        'population', 'age', 'basin', 'region', 'scheme_management',\n",
       "        'permit', 'extraction_type', 'management', 'payment_type',\n",
       "        'water_quality', 'quantity', 'source', 'waterpoint_type'],\n",
       "       dtype='<U17')]"
      ]
     },
     "execution_count": 836,
     "metadata": {},
     "output_type": "execute_result"
    }
   ],
   "source": [
    "feature_df[1].tolist()"
   ]
  },
  {
   "cell_type": "markdown",
   "metadata": {},
   "source": [
    "### Evaluating XGBoost"
   ]
  },
  {
   "cell_type": "code",
   "execution_count": 652,
   "metadata": {},
   "outputs": [
    {
     "name": "stdout",
     "output_type": "stream",
     "text": [
      "Model: XGBoost, sub\n",
      "------------------------------------------------------------\n"
     ]
    },
    {
     "data": {
      "image/png": "[encoded data removed]",
      "text/plain": [
       "<Figure size 432x288 with 2 Axes>"
      ]
     },
     "metadata": {
      "needs_background": "light"
     },
     "output_type": "display_data"
    },
    {
     "name": "stdout",
     "output_type": "stream",
     "text": [
      "------------------------------------------------------------\n",
      "test accuracy: 0.6617440225035162\n",
      "train accuracy: 0.718552036199095\n",
      "------------------------------------------------------------\n",
      "\n",
      "test report:\n",
      "              precision    recall  f1-score   support\n",
      "\n",
      "           0       0.66      0.64      0.65       495\n",
      "           1       0.65      0.72      0.68       461\n",
      "           2       0.68      0.63      0.65       466\n",
      "\n",
      "    accuracy                           0.66      1422\n",
      "   macro avg       0.66      0.66      0.66      1422\n",
      "weighted avg       0.66      0.66      0.66      1422\n",
      "\n",
      "~~~~~~~~~~~~~~~~~~~~~~~~~~~~~~~~~~~~~~~~~~~~~~~~~~~~~~~~~~~~\n",
      "\n",
      "train report:\n",
      "              precision    recall  f1-score   support\n",
      "\n",
      "           0       0.69      0.70      0.69      1084\n",
      "           1       0.72      0.77      0.75      1118\n",
      "           2       0.75      0.68      0.71      1113\n",
      "\n",
      "    accuracy                           0.72      3315\n",
      "   macro avg       0.72      0.72      0.72      3315\n",
      "weighted avg       0.72      0.72      0.72      3315\n",
      "\n",
      "------------------------------------------------------------\n"
     ]
    }
   ],
   "source": [
    "metrics('XGBoost, sub', y_train, y_test, xgb_train_preds, xgb_test_preds)"
   ]
  },
  {
   "cell_type": "code",
   "execution_count": 653,
   "metadata": {},
   "outputs": [],
   "source": [
    "y_total_pipe_pred = xgboost_pipe.predict(X_total_test)"
   ]
  },
  {
   "cell_type": "code",
   "execution_count": 655,
   "metadata": {},
   "outputs": [
    {
     "name": "stdout",
     "output_type": "stream",
     "text": [
      "              precision    recall  f1-score   support\n",
      "\n",
      "           0       0.87      0.62      0.73      2683\n",
      "           1       0.24      0.71      0.36       316\n",
      "           2       0.59      0.66      0.63      1076\n",
      "\n",
      "    accuracy                           0.64      4075\n",
      "   macro avg       0.57      0.67      0.57      4075\n",
      "weighted avg       0.75      0.64      0.67      4075\n",
      "\n"
     ]
    }
   ],
   "source": [
    "print(classification_report(y_total_test, y_total_pipe_pred))"
   ]
  },
  {
   "cell_type": "code",
   "execution_count": 656,
   "metadata": {},
   "outputs": [
    {
     "data": {
      "image/png": "[encoded data removed]",
      "text/plain": [
       "<Figure size 432x288 with 2 Axes>"
      ]
     },
     "metadata": {
      "needs_background": "light"
     },
     "output_type": "display_data"
    }
   ],
   "source": [
    "plot_confusion_matrix(y_total_test, y_total_pipe_pred)"
   ]
  },
  {
   "cell_type": "code",
   "execution_count": 472,
   "metadata": {},
   "outputs": [
    {
     "name": "stdout",
     "output_type": "stream",
     "text": [
      "Model: XGBoost, all data\n",
      "------------------------------------------------------------\n"
     ]
    },
    {
     "data": {
      "image/png": "[encoded data removed]",
      "text/plain": [
       "<Figure size 432x288 with 2 Axes>"
      ]
     },
     "metadata": {
      "needs_background": "light"
     },
     "output_type": "display_data"
    },
    {
     "name": "stdout",
     "output_type": "stream",
     "text": [
      "------------------------------------------------------------\n",
      "test accuracy: 0.7886125654450262\n",
      "train accuracy: 0.8231292517006803\n",
      "------------------------------------------------------------\n",
      "\n",
      "test report:\n",
      "              precision    recall  f1-score   support\n",
      "\n",
      "           0       0.79      0.95      0.86      4023\n",
      "           1       0.64      0.20      0.30       463\n",
      "           2       0.82      0.56      0.66      1626\n",
      "\n",
      "    accuracy                           0.79      6112\n",
      "   macro avg       0.75      0.57      0.61      6112\n",
      "weighted avg       0.78      0.79      0.77      6112\n",
      "\n",
      "~~~~~~~~~~~~~~~~~~~~~~~~~~~~~~~~~~~~~~~~~~~~~~~~~~~~~~~~~~~~\n",
      "\n",
      "train report:\n",
      "              precision    recall  f1-score   support\n",
      "\n",
      "           0       0.81      0.97      0.88      9389\n",
      "           1       0.75      0.26      0.38      1116\n",
      "           2       0.87      0.62      0.73      3754\n",
      "\n",
      "    accuracy                           0.82     14259\n",
      "   macro avg       0.81      0.62      0.67     14259\n",
      "weighted avg       0.82      0.82      0.80     14259\n",
      "\n",
      "------------------------------------------------------------\n"
     ]
    }
   ],
   "source": [
    "metrics('XGBoost, all data', y_total_train, y_total_test, xgb_train_preds, xgb_test_preds)"
   ]
  },
  {
   "cell_type": "markdown",
   "metadata": {},
   "source": [
    "## Random Forest"
   ]
  },
  {
   "cell_type": "markdown",
   "metadata": {},
   "source": [
    "### Fitting Random Forest"
   ]
  },
  {
   "cell_type": "markdown",
   "metadata": {},
   "source": [
    "### Evaluating Random Forest"
   ]
  },
  {
   "cell_type": "markdown",
   "metadata": {},
   "source": [
    "## Contest"
   ]
  },
  {
   "cell_type": "code",
   "execution_count": null,
   "metadata": {},
   "outputs": [],
   "source": [
    "# submission = X_contest['status_group']\n",
    "# submission.to_csv('submission_01.csv')\n",
    "# X_contest.shape"
   ]
  },
  {
   "cell_type": "code",
   "execution_count": null,
   "metadata": {},
   "outputs": [],
   "source": []
  }
 ],
 "metadata": {
  "kernelspec": {
   "display_name": "Python [conda env:gpd]",
   "language": "python",
   "name": "conda-env-gpd-py"
  },
  "language_info": {
   "codemirror_mode": {
    "name": "ipython",
    "version": 3
   },
   "file_extension": ".py",
   "mimetype": "text/x-python",
   "name": "python",
   "nbconvert_exporter": "python",
   "pygments_lexer": "ipython3",
   "version": "3.7.7"
  }
 },
 "nbformat": 4,
 "nbformat_minor": 4
}
