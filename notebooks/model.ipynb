{
 "cells": [
  {
   "cell_type": "markdown",
   "metadata": {},
   "source": [
    "# Modeling"
   ]
  },
  {
   "cell_type": "markdown",
   "metadata": {},
   "source": [
    "### Import Libraries"
   ]
  },
  {
   "cell_type": "code",
   "execution_count": 7,
   "metadata": {},
   "outputs": [],
   "source": [
    "import pandas as pd\n",
    "import numpy as np\n",
    "from sklearn.model_selection import train_test_split\n",
    "import matplotlib.pyplot as plt\n",
    "%matplotlib inline"
   ]
  },
  {
   "cell_type": "markdown",
   "metadata": {},
   "source": [
    "### Function for getting feature names"
   ]
  },
  {
   "cell_type": "code",
   "execution_count": 8,
   "metadata": {},
   "outputs": [],
   "source": [
    "def get_feature_df(grid_search, features):\n",
    "    \"\"\"\n",
    "    Return the feature names and coefficients from the final classifier of the\n",
    "    best pipeline found by GridSearchCV. See https://git.io/vPWLI.\n",
    "\n",
    "    Params\n",
    "    ------\n",
    "    grid_search: GridSearchCV object\n",
    "        A post-fit GridSearchCV object where the estimator is a Pipeline.\n",
    "    features: list\n",
    "        initial feature names\n",
    "\n",
    "    Returns\n",
    "    -------\n",
    "    pandas.DataFrame\n",
    "        Dataframe of feature name and coefficient values\n",
    "    \"\"\"\n",
    "    features = np.array(features)\n",
    "    pipeline = grid_search.best_estimator_\n",
    "    for name, transformer in pipeline.steps:\n",
    "        if name.startswith('select'):\n",
    "            X_index = np.arange(len(features)).reshape(1, -1)\n",
    "            indexes = transformer.transform(X_index).tolist()\n",
    "            features = features[indexes]\n",
    "    step_name, classifier = pipeline.steps[-1]\n",
    "#     coefficients, = classifier.coef_\n",
    "    feature_df = pd.DataFrame([\n",
    "        ('feature', features),\n",
    "#         ('coefficient', coefficients),\n",
    "    ])\n",
    "    return feature_df"
   ]
  },
  {
   "cell_type": "markdown",
   "metadata": {},
   "source": [
    "### Create a Pipeline"
   ]
  },
  {
   "cell_type": "code",
   "execution_count": 9,
   "metadata": {},
   "outputs": [],
   "source": [
    "from preprocessing import GPSHeightImputer, LatLongImputer, PopulationImputer, ConstructionYearTransformer, HighCardTransformer, DistrictCodeMerge, ExtractionMerge"
   ]
  },
  {
   "cell_type": "code",
   "execution_count": 32,
   "metadata": {},
   "outputs": [],
   "source": [
    "from sklearn.metrics import mean_absolute_error\n",
    "from sklearn.model_selection import GridSearchCV\n",
    "from imblearn.over_sampling import SMOTE\n",
    "from imblearn.under_sampling import RandomUnderSampler\n",
    "from imblearn.pipeline import Pipeline\n",
    "from sklearn.decomposition import TruncatedSVD\n",
    "from sklearn.compose import ColumnTransformer\n",
    "from sklearn.impute import SimpleImputer\n",
    "from sklearn.preprocessing import OneHotEncoder, StandardScaler\n",
    "\n",
    "\n",
    "\n",
    "def fit_predict(model, X_train, X_test, y_train, y_test):\n",
    "    '''fit pipeline using given model, and return predictions'''\n",
    "\n",
    "    gps_cols = ['latitude', 'longitude', 'gps_height', 'population']\n",
    "    gps_transformer = Pipeline(steps=[\n",
    "        ('lat_long_imputer', LatLongImputer()),\n",
    "        ('gps_height_imputer', GPSHeightImputer()),\n",
    "        ('population_imputer', PopulationImputer()),\n",
    "        ('scale', StandardScaler())\n",
    "    ])\n",
    "\n",
    "    construction_year_cols = ['construction_year', 'date_recorded']\n",
    "    construction_year_transformer = Pipeline(steps=[\n",
    "        ('transform', ConstructionYearTransformer()),\n",
    "        ('scale', StandardScaler())\n",
    "    ])\n",
    "\n",
    "    high_card_cols = ['installer', 'lga', 'ward']\n",
    "    other_high_cols = ['funder']\n",
    "    scheme_management = ['scheme_management']\n",
    "    scheme_name = ['scheme_name']\n",
    "    \n",
    "    high_card_transformer = Pipeline(steps=[\n",
    "        ('transform', HighCardTransformer()),\n",
    "        ('impute', SimpleImputer(strategy='mean')),\n",
    "    ])\n",
    "\n",
    "    cat_cols = ['basin', 'public_meeting', 'permit', 'management', \n",
    "                'management_group', 'payment','water_quality', \n",
    "                'quantity', 'source', 'source_class', 'waterpoint_type']\n",
    "    cat_transformer = Pipeline(steps=[\n",
    "        ('impute', SimpleImputer(strategy='most_frequent')),\n",
    "        ('onehot', OneHotEncoder(handle_unknown='ignore'))\n",
    "    ])\n",
    "\n",
    "    district_code_cols = ['district_code', 'region']\n",
    "    district_code_transformer = Pipeline(steps=[\n",
    "        ('merge', DistrictCodeMerge()),\n",
    "        ('transform', HighCardTransformer()),\n",
    "        ('impute', SimpleImputer(strategy='mean')),  \n",
    "    ])\n",
    "\n",
    "    extraction_cols = ['extraction_type',\n",
    "                       'extraction_type_group', 'extraction_type_class']\n",
    "    extraction_transformer = Pipeline(steps=[\n",
    "        ('merge', ExtractionMerge()),\n",
    "        ('impute', SimpleImputer(strategy='most_frequent')),\n",
    "        ('onehot', OneHotEncoder(handle_unknown='ignore'))\n",
    "    ])\n",
    "\n",
    "    # Bundle preprocessing for all types of columns\n",
    "    preprocessor = ColumnTransformer(\n",
    "        transformers=[\n",
    "            ('gps_transformer', gps_transformer, gps_cols),\n",
    "            ('construction_year', construction_year_transformer, construction_year_cols),\n",
    "            ('high_card', high_card_transformer, high_card_cols),\n",
    "            ('other_high_card', high_card_transformer, other_high_cols),\n",
    "            ('scheme_management', high_card_transformer, scheme_management),\n",
    "            ('scheme_name', high_card_transformer, scheme_name),\n",
    "            ('cat', cat_transformer, cat_cols),\n",
    "            ('district_code', district_code_transformer, district_code_cols),\n",
    "            ('extraction', extraction_transformer, extraction_cols)\n",
    "        ])\n",
    "\n",
    "    param_grid = model['params']\n",
    "    model = model['model']\n",
    "\n",
    "    # Bundle preprocessing and modeling code in a pipeline\n",
    "    my_pipeline = Pipeline(steps=[('preprocessor', preprocessor),\n",
    "                                  ('model', model)\n",
    "                                  ])\n",
    "\n",
    "                                   \n",
    "    search = GridSearchCV(estimator=my_pipeline, error_score='raise',\n",
    "                          param_grid=param_grid, n_jobs=-1, verbose=4)\n",
    "    \n",
    "    train_preds = search.fit(X_train, y_train)\n",
    "    train_preds = search.predict(X_train)\n",
    "    test_preds = search.predict(X_test)\n",
    "\n",
    "    print(\"Best parameter (CV score=%0.3f):\" % search.best_score_)\n",
    "    print(search.best_params_)\n",
    "\n",
    "    return test_preds, train_preds, search"
   ]
  },
  {
   "cell_type": "markdown",
   "metadata": {},
   "source": [
    "## Evaluate\n",
    "What are the most important things to look for with regression?"
   ]
  },
  {
   "cell_type": "code",
   "execution_count": 33,
   "metadata": {},
   "outputs": [],
   "source": [
    "from sklearn.metrics import confusion_matrix\n",
    "import itertools\n",
    "%matplotlib inline\n",
    "\n",
    "\n",
    "def plot_confusion_matrix(y_true, y_preds):\n",
    "    # Print confusion matrix\n",
    "    cnf_matrix = confusion_matrix(y_true, y_preds)\n",
    "    \n",
    "    # Create the basic matrix\n",
    "    plt.imshow(cnf_matrix,  cmap=plt.cm.Blues)\n",
    "    # Add title and axis labels\n",
    "    plt.title('Confusion Matrix')\n",
    "    plt.ylabel('True label')\n",
    "    plt.xlabel('Predicted label')\n",
    "    # Add appropriate axis scales\n",
    "    class_names = set(y['status_group']) # Get class labels to add to matrix\n",
    "    tick_marks = np.arange(len(class_names))\n",
    "    plt.xticks(tick_marks, class_names, rotation=0)\n",
    "    plt.yticks(tick_marks, class_names)\n",
    "    # Add labels to each cell\n",
    "    thresh = cnf_matrix.max() / 2. # Used for text coloring below\n",
    "    # Here we iterate through the confusion matrix and append labels to our visualization\n",
    "    for i, j in itertools.product(range(cnf_matrix.shape[0]), range(cnf_matrix.shape[1])):\n",
    "            plt.text(j, i, cnf_matrix[i, j],\n",
    "                     horizontalalignment='center',\n",
    "                     color='white' if cnf_matrix[i, j] > thresh else 'black')\n",
    "    # Add a legend\n",
    "    plt.colorbar();\n",
    "    plt.show();"
   ]
  },
  {
   "cell_type": "code",
   "execution_count": 34,
   "metadata": {},
   "outputs": [],
   "source": [
    "from sklearn.metrics import accuracy_score\n",
    "from sklearn.metrics import classification_report\n",
    "\n",
    "def metrics(model_name, y_train, y_test, y_train_pred, y_test_pred):\n",
    "    '''Print out the evaluation metrics for a given models predictions'''\n",
    "    print(f'Model: {model_name}', )\n",
    "    print('-'*60)\n",
    "    plot_confusion_matrix(y_test, y_test_pred)\n",
    "    print('-'*60)\n",
    "    print(f'test accuracy: {accuracy_score(y_test, y_test_pred)}')\n",
    "    print(f'train accuracy: {accuracy_score(y_train, y_train_pred)}')\n",
    "    print('-'*60)\n",
    "    print('\\ntest report:\\n' + classification_report(y_test, y_test_pred))\n",
    "    print('~'*60)\n",
    "    print('\\ntrain report:\\n' + classification_report(y_train, y_train_pred))    \n",
    "    print('-'*60)\n",
    "    "
   ]
  },
  {
   "cell_type": "markdown",
   "metadata": {},
   "source": [
    "## Dataset"
   ]
  },
  {
   "cell_type": "markdown",
   "metadata": {},
   "source": [
    "### Full"
   ]
  },
  {
   "cell_type": "code",
   "execution_count": 35,
   "metadata": {},
   "outputs": [],
   "source": [
    "# full dataset\n",
    "X = pd.read_csv('../data/raw/X_train.csv')\n",
    "y = pd.read_csv('../data/raw/y_train.csv')\n",
    "\n",
    "X_contest = pd.read_csv('../data/raw/X_test.csv')"
   ]
  },
  {
   "cell_type": "code",
   "execution_count": 36,
   "metadata": {},
   "outputs": [
    {
     "data": {
      "text/html": [
       "<div>\n",
       "<style scoped>\n",
       "    .dataframe tbody tr th:only-of-type {\n",
       "        vertical-align: middle;\n",
       "    }\n",
       "\n",
       "    .dataframe tbody tr th {\n",
       "        vertical-align: top;\n",
       "    }\n",
       "\n",
       "    .dataframe thead th {\n",
       "        text-align: right;\n",
       "    }\n",
       "</style>\n",
       "<table border=\"1\" class=\"dataframe\">\n",
       "  <thead>\n",
       "    <tr style=\"text-align: right;\">\n",
       "      <th></th>\n",
       "      <th>id</th>\n",
       "      <th>amount_tsh</th>\n",
       "      <th>date_recorded</th>\n",
       "      <th>funder</th>\n",
       "      <th>gps_height</th>\n",
       "      <th>installer</th>\n",
       "      <th>longitude</th>\n",
       "      <th>latitude</th>\n",
       "      <th>wpt_name</th>\n",
       "      <th>num_private</th>\n",
       "      <th>...</th>\n",
       "      <th>payment_type</th>\n",
       "      <th>water_quality</th>\n",
       "      <th>quality_group</th>\n",
       "      <th>quantity</th>\n",
       "      <th>quantity_group</th>\n",
       "      <th>source</th>\n",
       "      <th>source_type</th>\n",
       "      <th>source_class</th>\n",
       "      <th>waterpoint_type</th>\n",
       "      <th>waterpoint_type_group</th>\n",
       "    </tr>\n",
       "  </thead>\n",
       "  <tbody>\n",
       "    <tr>\n",
       "      <th>0</th>\n",
       "      <td>69572</td>\n",
       "      <td>6000.0</td>\n",
       "      <td>2011-03-14</td>\n",
       "      <td>Roman</td>\n",
       "      <td>1390</td>\n",
       "      <td>Roman</td>\n",
       "      <td>34.938093</td>\n",
       "      <td>-9.856322</td>\n",
       "      <td>none</td>\n",
       "      <td>0</td>\n",
       "      <td>...</td>\n",
       "      <td>annually</td>\n",
       "      <td>soft</td>\n",
       "      <td>good</td>\n",
       "      <td>enough</td>\n",
       "      <td>enough</td>\n",
       "      <td>spring</td>\n",
       "      <td>spring</td>\n",
       "      <td>groundwater</td>\n",
       "      <td>communal standpipe</td>\n",
       "      <td>communal standpipe</td>\n",
       "    </tr>\n",
       "    <tr>\n",
       "      <th>1</th>\n",
       "      <td>8776</td>\n",
       "      <td>0.0</td>\n",
       "      <td>2013-03-06</td>\n",
       "      <td>Grumeti</td>\n",
       "      <td>1399</td>\n",
       "      <td>GRUMETI</td>\n",
       "      <td>34.698766</td>\n",
       "      <td>-2.147466</td>\n",
       "      <td>Zahanati</td>\n",
       "      <td>0</td>\n",
       "      <td>...</td>\n",
       "      <td>never pay</td>\n",
       "      <td>soft</td>\n",
       "      <td>good</td>\n",
       "      <td>insufficient</td>\n",
       "      <td>insufficient</td>\n",
       "      <td>rainwater harvesting</td>\n",
       "      <td>rainwater harvesting</td>\n",
       "      <td>surface</td>\n",
       "      <td>communal standpipe</td>\n",
       "      <td>communal standpipe</td>\n",
       "    </tr>\n",
       "    <tr>\n",
       "      <th>2</th>\n",
       "      <td>34310</td>\n",
       "      <td>25.0</td>\n",
       "      <td>2013-02-25</td>\n",
       "      <td>Lottery Club</td>\n",
       "      <td>686</td>\n",
       "      <td>World vision</td>\n",
       "      <td>37.460664</td>\n",
       "      <td>-3.821329</td>\n",
       "      <td>Kwa Mahundi</td>\n",
       "      <td>0</td>\n",
       "      <td>...</td>\n",
       "      <td>per bucket</td>\n",
       "      <td>soft</td>\n",
       "      <td>good</td>\n",
       "      <td>enough</td>\n",
       "      <td>enough</td>\n",
       "      <td>dam</td>\n",
       "      <td>dam</td>\n",
       "      <td>surface</td>\n",
       "      <td>communal standpipe multiple</td>\n",
       "      <td>communal standpipe</td>\n",
       "    </tr>\n",
       "    <tr>\n",
       "      <th>3</th>\n",
       "      <td>67743</td>\n",
       "      <td>0.0</td>\n",
       "      <td>2013-01-28</td>\n",
       "      <td>Unicef</td>\n",
       "      <td>263</td>\n",
       "      <td>UNICEF</td>\n",
       "      <td>38.486161</td>\n",
       "      <td>-11.155298</td>\n",
       "      <td>Zahanati Ya Nanyumbu</td>\n",
       "      <td>0</td>\n",
       "      <td>...</td>\n",
       "      <td>never pay</td>\n",
       "      <td>soft</td>\n",
       "      <td>good</td>\n",
       "      <td>dry</td>\n",
       "      <td>dry</td>\n",
       "      <td>machine dbh</td>\n",
       "      <td>borehole</td>\n",
       "      <td>groundwater</td>\n",
       "      <td>communal standpipe multiple</td>\n",
       "      <td>communal standpipe</td>\n",
       "    </tr>\n",
       "    <tr>\n",
       "      <th>4</th>\n",
       "      <td>19728</td>\n",
       "      <td>0.0</td>\n",
       "      <td>2011-07-13</td>\n",
       "      <td>Action In A</td>\n",
       "      <td>0</td>\n",
       "      <td>Artisan</td>\n",
       "      <td>31.130847</td>\n",
       "      <td>-1.825359</td>\n",
       "      <td>Shuleni</td>\n",
       "      <td>0</td>\n",
       "      <td>...</td>\n",
       "      <td>never pay</td>\n",
       "      <td>soft</td>\n",
       "      <td>good</td>\n",
       "      <td>seasonal</td>\n",
       "      <td>seasonal</td>\n",
       "      <td>rainwater harvesting</td>\n",
       "      <td>rainwater harvesting</td>\n",
       "      <td>surface</td>\n",
       "      <td>communal standpipe</td>\n",
       "      <td>communal standpipe</td>\n",
       "    </tr>\n",
       "  </tbody>\n",
       "</table>\n",
       "<p>5 rows × 40 columns</p>\n",
       "</div>"
      ],
      "text/plain": [
       "      id  amount_tsh date_recorded        funder  gps_height     installer  \\\n",
       "0  69572      6000.0    2011-03-14         Roman        1390         Roman   \n",
       "1   8776         0.0    2013-03-06       Grumeti        1399       GRUMETI   \n",
       "2  34310        25.0    2013-02-25  Lottery Club         686  World vision   \n",
       "3  67743         0.0    2013-01-28        Unicef         263        UNICEF   \n",
       "4  19728         0.0    2011-07-13   Action In A           0       Artisan   \n",
       "\n",
       "   longitude   latitude              wpt_name  num_private  ... payment_type  \\\n",
       "0  34.938093  -9.856322                  none            0  ...     annually   \n",
       "1  34.698766  -2.147466              Zahanati            0  ...    never pay   \n",
       "2  37.460664  -3.821329           Kwa Mahundi            0  ...   per bucket   \n",
       "3  38.486161 -11.155298  Zahanati Ya Nanyumbu            0  ...    never pay   \n",
       "4  31.130847  -1.825359               Shuleni            0  ...    never pay   \n",
       "\n",
       "  water_quality quality_group      quantity  quantity_group  \\\n",
       "0          soft          good        enough          enough   \n",
       "1          soft          good  insufficient    insufficient   \n",
       "2          soft          good        enough          enough   \n",
       "3          soft          good           dry             dry   \n",
       "4          soft          good      seasonal        seasonal   \n",
       "\n",
       "                 source           source_type  source_class  \\\n",
       "0                spring                spring   groundwater   \n",
       "1  rainwater harvesting  rainwater harvesting       surface   \n",
       "2                   dam                   dam       surface   \n",
       "3           machine dbh              borehole   groundwater   \n",
       "4  rainwater harvesting  rainwater harvesting       surface   \n",
       "\n",
       "               waterpoint_type waterpoint_type_group  \n",
       "0           communal standpipe    communal standpipe  \n",
       "1           communal standpipe    communal standpipe  \n",
       "2  communal standpipe multiple    communal standpipe  \n",
       "3  communal standpipe multiple    communal standpipe  \n",
       "4           communal standpipe    communal standpipe  \n",
       "\n",
       "[5 rows x 40 columns]"
      ]
     },
     "execution_count": 36,
     "metadata": {},
     "output_type": "execute_result"
    }
   ],
   "source": [
    "X.head()"
   ]
  },
  {
   "cell_type": "code",
   "execution_count": 37,
   "metadata": {},
   "outputs": [
    {
     "data": {
      "text/plain": [
       "functional                 32259\n",
       "non functional             22824\n",
       "functional needs repair     4317\n",
       "Name: status_group, dtype: int64"
      ]
     },
     "execution_count": 37,
     "metadata": {},
     "output_type": "execute_result"
    }
   ],
   "source": [
    "y['status_group'].value_counts()"
   ]
  },
  {
   "cell_type": "code",
   "execution_count": 38,
   "metadata": {},
   "outputs": [],
   "source": [
    "y['status_code'] = y['status_group'].astype('category').cat.codes"
   ]
  },
  {
   "cell_type": "code",
   "execution_count": 39,
   "metadata": {},
   "outputs": [
    {
     "data": {
      "text/html": [
       "<div>\n",
       "<style scoped>\n",
       "    .dataframe tbody tr th:only-of-type {\n",
       "        vertical-align: middle;\n",
       "    }\n",
       "\n",
       "    .dataframe tbody tr th {\n",
       "        vertical-align: top;\n",
       "    }\n",
       "\n",
       "    .dataframe thead th {\n",
       "        text-align: right;\n",
       "    }\n",
       "</style>\n",
       "<table border=\"1\" class=\"dataframe\">\n",
       "  <thead>\n",
       "    <tr style=\"text-align: right;\">\n",
       "      <th></th>\n",
       "      <th>id</th>\n",
       "      <th>status_group</th>\n",
       "      <th>status_code</th>\n",
       "    </tr>\n",
       "  </thead>\n",
       "  <tbody>\n",
       "    <tr>\n",
       "      <th>0</th>\n",
       "      <td>69572</td>\n",
       "      <td>functional</td>\n",
       "      <td>0</td>\n",
       "    </tr>\n",
       "    <tr>\n",
       "      <th>1</th>\n",
       "      <td>8776</td>\n",
       "      <td>functional</td>\n",
       "      <td>0</td>\n",
       "    </tr>\n",
       "    <tr>\n",
       "      <th>2</th>\n",
       "      <td>34310</td>\n",
       "      <td>functional</td>\n",
       "      <td>0</td>\n",
       "    </tr>\n",
       "    <tr>\n",
       "      <th>3</th>\n",
       "      <td>67743</td>\n",
       "      <td>non functional</td>\n",
       "      <td>2</td>\n",
       "    </tr>\n",
       "    <tr>\n",
       "      <th>4</th>\n",
       "      <td>19728</td>\n",
       "      <td>functional</td>\n",
       "      <td>0</td>\n",
       "    </tr>\n",
       "  </tbody>\n",
       "</table>\n",
       "</div>"
      ],
      "text/plain": [
       "      id    status_group  status_code\n",
       "0  69572      functional            0\n",
       "1   8776      functional            0\n",
       "2  34310      functional            0\n",
       "3  67743  non functional            2\n",
       "4  19728      functional            0"
      ]
     },
     "execution_count": 39,
     "metadata": {},
     "output_type": "execute_result"
    }
   ],
   "source": [
    "y.head()"
   ]
  },
  {
   "cell_type": "code",
   "execution_count": 40,
   "metadata": {},
   "outputs": [],
   "source": [
    "# split full data\n",
    "X_train, X_test, y_train, y_test = train_test_split(X, y['status_code'], test_size=.2, random_state=42)"
   ]
  },
  {
   "cell_type": "markdown",
   "metadata": {},
   "source": [
    "# Models\n",
    "- LinearSVC\n",
    "- k-NN\n",
    "- Support Vector Machine Algorithm\n",
    "- XGBoost\n",
    "- Random Forest"
   ]
  },
  {
   "cell_type": "markdown",
   "metadata": {},
   "source": [
    "## LinearSVC"
   ]
  },
  {
   "cell_type": "markdown",
   "metadata": {},
   "source": [
    "### Why LinearSVC\n",
    "The objective of a Linear SVC (Support Vector Classifier) is to fit to the data you provide, returning a \"best fit\"\n",
    "hyperplane that divides, or categorizes, your data. \n",
    "\n",
    "It has more flexibility in the choice of penalties and loss functions and should scale better to large numbers of samples.\n",
    "\n",
    "LinearSVC is another (faster) implementation of Support Vector Classification for the case of a linear kernel."
   ]
  },
  {
   "cell_type": "code",
   "execution_count": null,
   "metadata": {},
   "outputs": [],
   "source": [
    " {\n",
    " 'estimator__preprocessor__high_card__impute': SimpleImputer(),\n",
    " 'estimator__preprocessor__high_card__impute__add_indicator': False,\n",
    " 'estimator__preprocessor__high_card__impute__copy': True,\n",
    " 'estimator__preprocessor__high_card__impute__fill_value': None,\n",
    " 'estimator__preprocessor__high_card__impute__missing_values': nan,\n",
    " 'estimator__preprocessor__high_card__impute__strategy': ['mean', 'most_frequent', 'constant'],\n",
    "}"
   ]
  },
  {
   "cell_type": "markdown",
   "metadata": {},
   "source": [
    "### Hyperparameters"
   ]
  },
  {
   "cell_type": "code",
   "execution_count": 51,
   "metadata": {},
   "outputs": [
    {
     "data": {
      "text/plain": [
       "{'cv': None,\n",
       " 'error_score': 'raise',\n",
       " 'estimator__memory': None,\n",
       " 'estimator__steps': [('preprocessor',\n",
       "   ColumnTransformer(transformers=[('gps_transformer',\n",
       "                                    Pipeline(steps=[('lat_long_imputer',\n",
       "                                                     LatLongImputer()),\n",
       "                                                    ('gps_height_imputer',\n",
       "                                                     GPSHeightImputer()),\n",
       "                                                    ('population_imputer',\n",
       "                                                     PopulationImputer()),\n",
       "                                                    ('scale', StandardScaler())]),\n",
       "                                    ['latitude', 'longitude', 'gps_height',\n",
       "                                     'population']),\n",
       "                                   ('construction_year',\n",
       "                                    Pipeline(steps=[('transform',\n",
       "                                                     ConstructionYearTransformer()...\n",
       "                                    Pipeline(steps=[('merge', DistrictCodeMerge()),\n",
       "                                                    ('transform',\n",
       "                                                     HighCardTransformer()),\n",
       "                                                    ('impute', SimpleImputer())]),\n",
       "                                    ['district_code', 'region']),\n",
       "                                   ('extraction',\n",
       "                                    Pipeline(steps=[('merge', ExtractionMerge()),\n",
       "                                                    ('impute',\n",
       "                                                     SimpleImputer(strategy='most_frequent')),\n",
       "                                                    ('onehot',\n",
       "                                                     OneHotEncoder(handle_unknown='ignore'))]),\n",
       "                                    ['extraction_type', 'extraction_type_group',\n",
       "                                     'extraction_type_class'])])),\n",
       "  ('model', LinearSVC(random_state=42))],\n",
       " 'estimator__verbose': False,\n",
       " 'estimator__preprocessor': ColumnTransformer(transformers=[('gps_transformer',\n",
       "                                  Pipeline(steps=[('lat_long_imputer',\n",
       "                                                   LatLongImputer()),\n",
       "                                                  ('gps_height_imputer',\n",
       "                                                   GPSHeightImputer()),\n",
       "                                                  ('population_imputer',\n",
       "                                                   PopulationImputer()),\n",
       "                                                  ('scale', StandardScaler())]),\n",
       "                                  ['latitude', 'longitude', 'gps_height',\n",
       "                                   'population']),\n",
       "                                 ('construction_year',\n",
       "                                  Pipeline(steps=[('transform',\n",
       "                                                   ConstructionYearTransformer()...\n",
       "                                  Pipeline(steps=[('merge', DistrictCodeMerge()),\n",
       "                                                  ('transform',\n",
       "                                                   HighCardTransformer()),\n",
       "                                                  ('impute', SimpleImputer())]),\n",
       "                                  ['district_code', 'region']),\n",
       "                                 ('extraction',\n",
       "                                  Pipeline(steps=[('merge', ExtractionMerge()),\n",
       "                                                  ('impute',\n",
       "                                                   SimpleImputer(strategy='most_frequent')),\n",
       "                                                  ('onehot',\n",
       "                                                   OneHotEncoder(handle_unknown='ignore'))]),\n",
       "                                  ['extraction_type', 'extraction_type_group',\n",
       "                                   'extraction_type_class'])]),\n",
       " 'estimator__model': LinearSVC(random_state=42),\n",
       " 'estimator__preprocessor__n_jobs': None,\n",
       " 'estimator__preprocessor__remainder': 'drop',\n",
       " 'estimator__preprocessor__sparse_threshold': 0.3,\n",
       " 'estimator__preprocessor__transformer_weights': None,\n",
       " 'estimator__preprocessor__transformers': [('gps_transformer',\n",
       "   Pipeline(steps=[('lat_long_imputer', LatLongImputer()),\n",
       "                   ('gps_height_imputer', GPSHeightImputer()),\n",
       "                   ('population_imputer', PopulationImputer()),\n",
       "                   ('scale', StandardScaler())]),\n",
       "   ['latitude', 'longitude', 'gps_height', 'population']),\n",
       "  ('construction_year',\n",
       "   Pipeline(steps=[('transform', ConstructionYearTransformer()),\n",
       "                   ('scale', StandardScaler())]),\n",
       "   ['construction_year', 'date_recorded']),\n",
       "  ('high_card',\n",
       "   Pipeline(steps=[('transform', HighCardTransformer()),\n",
       "                   ('impute', SimpleImputer())]),\n",
       "   ['installer', 'lga', 'ward']),\n",
       "  ('other_high_card',\n",
       "   Pipeline(steps=[('transform', HighCardTransformer()),\n",
       "                   ('impute', SimpleImputer())]),\n",
       "   ['funder']),\n",
       "  ('scheme_management',\n",
       "   Pipeline(steps=[('transform', HighCardTransformer()),\n",
       "                   ('impute', SimpleImputer())]),\n",
       "   ['scheme_management']),\n",
       "  ('scheme_name',\n",
       "   Pipeline(steps=[('transform', HighCardTransformer()),\n",
       "                   ('impute', SimpleImputer())]),\n",
       "   ['scheme_name']),\n",
       "  ('cat',\n",
       "   Pipeline(steps=[('impute', SimpleImputer(strategy='most_frequent')),\n",
       "                   ('onehot', OneHotEncoder(handle_unknown='ignore'))]),\n",
       "   ['basin',\n",
       "    'public_meeting',\n",
       "    'permit',\n",
       "    'management',\n",
       "    'management_group',\n",
       "    'payment',\n",
       "    'water_quality',\n",
       "    'quantity',\n",
       "    'source',\n",
       "    'source_class',\n",
       "    'waterpoint_type']),\n",
       "  ('district_code',\n",
       "   Pipeline(steps=[('merge', DistrictCodeMerge()),\n",
       "                   ('transform', HighCardTransformer()),\n",
       "                   ('impute', SimpleImputer())]),\n",
       "   ['district_code', 'region']),\n",
       "  ('extraction',\n",
       "   Pipeline(steps=[('merge', ExtractionMerge()),\n",
       "                   ('impute', SimpleImputer(strategy='most_frequent')),\n",
       "                   ('onehot', OneHotEncoder(handle_unknown='ignore'))]),\n",
       "   ['extraction_type', 'extraction_type_group', 'extraction_type_class'])],\n",
       " 'estimator__preprocessor__verbose': False,\n",
       " 'estimator__preprocessor__gps_transformer': Pipeline(steps=[('lat_long_imputer', LatLongImputer()),\n",
       "                 ('gps_height_imputer', GPSHeightImputer()),\n",
       "                 ('population_imputer', PopulationImputer()),\n",
       "                 ('scale', StandardScaler())]),\n",
       " 'estimator__preprocessor__construction_year': Pipeline(steps=[('transform', ConstructionYearTransformer()),\n",
       "                 ('scale', StandardScaler())]),\n",
       " 'estimator__preprocessor__high_card': Pipeline(steps=[('transform', HighCardTransformer()),\n",
       "                 ('impute', SimpleImputer())]),\n",
       " 'estimator__preprocessor__other_high_card': Pipeline(steps=[('transform', HighCardTransformer()),\n",
       "                 ('impute', SimpleImputer())]),\n",
       " 'estimator__preprocessor__scheme_management': Pipeline(steps=[('transform', HighCardTransformer()),\n",
       "                 ('impute', SimpleImputer())]),\n",
       " 'estimator__preprocessor__scheme_name': Pipeline(steps=[('transform', HighCardTransformer()),\n",
       "                 ('impute', SimpleImputer())]),\n",
       " 'estimator__preprocessor__cat': Pipeline(steps=[('impute', SimpleImputer(strategy='most_frequent')),\n",
       "                 ('onehot', OneHotEncoder(handle_unknown='ignore'))]),\n",
       " 'estimator__preprocessor__district_code': Pipeline(steps=[('merge', DistrictCodeMerge()),\n",
       "                 ('transform', HighCardTransformer()),\n",
       "                 ('impute', SimpleImputer())]),\n",
       " 'estimator__preprocessor__extraction': Pipeline(steps=[('merge', ExtractionMerge()),\n",
       "                 ('impute', SimpleImputer(strategy='most_frequent')),\n",
       "                 ('onehot', OneHotEncoder(handle_unknown='ignore'))]),\n",
       " 'estimator__preprocessor__gps_transformer__memory': None,\n",
       " 'estimator__preprocessor__gps_transformer__steps': [('lat_long_imputer',\n",
       "   LatLongImputer()),\n",
       "  ('gps_height_imputer', GPSHeightImputer()),\n",
       "  ('population_imputer', PopulationImputer()),\n",
       "  ('scale', StandardScaler())],\n",
       " 'estimator__preprocessor__gps_transformer__verbose': False,\n",
       " 'estimator__preprocessor__gps_transformer__lat_long_imputer': LatLongImputer(),\n",
       " 'estimator__preprocessor__gps_transformer__gps_height_imputer': GPSHeightImputer(),\n",
       " 'estimator__preprocessor__gps_transformer__population_imputer': PopulationImputer(),\n",
       " 'estimator__preprocessor__gps_transformer__scale': StandardScaler(),\n",
       " 'estimator__preprocessor__gps_transformer__lat_long_imputer__increment_radius': 0.3,\n",
       " 'estimator__preprocessor__gps_transformer__lat_long_imputer__init_radius': 0.1,\n",
       " 'estimator__preprocessor__gps_transformer__lat_long_imputer__method': 'custom',\n",
       " 'estimator__preprocessor__gps_transformer__gps_height_imputer__increment_radius': 0.3,\n",
       " 'estimator__preprocessor__gps_transformer__gps_height_imputer__init_radius': 0.1,\n",
       " 'estimator__preprocessor__gps_transformer__gps_height_imputer__method': 'custom',\n",
       " 'estimator__preprocessor__gps_transformer__population_imputer__method': 'custom',\n",
       " 'estimator__preprocessor__gps_transformer__scale__copy': True,\n",
       " 'estimator__preprocessor__gps_transformer__scale__with_mean': True,\n",
       " 'estimator__preprocessor__gps_transformer__scale__with_std': True,\n",
       " 'estimator__preprocessor__construction_year__memory': None,\n",
       " 'estimator__preprocessor__construction_year__steps': [('transform',\n",
       "   ConstructionYearTransformer()),\n",
       "  ('scale', StandardScaler())],\n",
       " 'estimator__preprocessor__construction_year__verbose': False,\n",
       " 'estimator__preprocessor__construction_year__transform': ConstructionYearTransformer(),\n",
       " 'estimator__preprocessor__construction_year__scale': StandardScaler(),\n",
       " 'estimator__preprocessor__construction_year__transform__method': 'custom',\n",
       " 'estimator__preprocessor__construction_year__scale__copy': True,\n",
       " 'estimator__preprocessor__construction_year__scale__with_mean': True,\n",
       " 'estimator__preprocessor__construction_year__scale__with_std': True,\n",
       " 'estimator__preprocessor__high_card__memory': None,\n",
       " 'estimator__preprocessor__high_card__steps': [('transform',\n",
       "   HighCardTransformer()),\n",
       "  ('impute', SimpleImputer())],\n",
       " 'estimator__preprocessor__high_card__verbose': False,\n",
       " 'estimator__preprocessor__high_card__transform': HighCardTransformer(),\n",
       " 'estimator__preprocessor__high_card__impute': SimpleImputer(),\n",
       " 'estimator__preprocessor__high_card__impute__add_indicator': False,\n",
       " 'estimator__preprocessor__high_card__impute__copy': True,\n",
       " 'estimator__preprocessor__high_card__impute__fill_value': None,\n",
       " 'estimator__preprocessor__high_card__impute__missing_values': nan,\n",
       " 'estimator__preprocessor__high_card__impute__strategy': 'mean',\n",
       " 'estimator__preprocessor__high_card__impute__verbose': 0,\n",
       " 'estimator__preprocessor__other_high_card__memory': None,\n",
       " 'estimator__preprocessor__other_high_card__steps': [('transform',\n",
       "   HighCardTransformer()),\n",
       "  ('impute', SimpleImputer())],\n",
       " 'estimator__preprocessor__other_high_card__verbose': False,\n",
       " 'estimator__preprocessor__other_high_card__transform': HighCardTransformer(),\n",
       " 'estimator__preprocessor__other_high_card__impute': SimpleImputer(),\n",
       " 'estimator__preprocessor__other_high_card__impute__add_indicator': False,\n",
       " 'estimator__preprocessor__other_high_card__impute__copy': True,\n",
       " 'estimator__preprocessor__other_high_card__impute__fill_value': None,\n",
       " 'estimator__preprocessor__other_high_card__impute__missing_values': nan,\n",
       " 'estimator__preprocessor__other_high_card__impute__strategy': 'mean',\n",
       " 'estimator__preprocessor__other_high_card__impute__verbose': 0,\n",
       " 'estimator__preprocessor__scheme_management__memory': None,\n",
       " 'estimator__preprocessor__scheme_management__steps': [('transform',\n",
       "   HighCardTransformer()),\n",
       "  ('impute', SimpleImputer())],\n",
       " 'estimator__preprocessor__scheme_management__verbose': False,\n",
       " 'estimator__preprocessor__scheme_management__transform': HighCardTransformer(),\n",
       " 'estimator__preprocessor__scheme_management__impute': SimpleImputer(),\n",
       " 'estimator__preprocessor__scheme_management__impute__add_indicator': False,\n",
       " 'estimator__preprocessor__scheme_management__impute__copy': True,\n",
       " 'estimator__preprocessor__scheme_management__impute__fill_value': None,\n",
       " 'estimator__preprocessor__scheme_management__impute__missing_values': nan,\n",
       " 'estimator__preprocessor__scheme_management__impute__strategy': 'mean',\n",
       " 'estimator__preprocessor__scheme_management__impute__verbose': 0,\n",
       " 'estimator__preprocessor__scheme_name__memory': None,\n",
       " 'estimator__preprocessor__scheme_name__steps': [('transform',\n",
       "   HighCardTransformer()),\n",
       "  ('impute', SimpleImputer())],\n",
       " 'estimator__preprocessor__scheme_name__verbose': False,\n",
       " 'estimator__preprocessor__scheme_name__transform': HighCardTransformer(),\n",
       " 'estimator__preprocessor__scheme_name__impute': SimpleImputer(),\n",
       " 'estimator__preprocessor__scheme_name__impute__add_indicator': False,\n",
       " 'estimator__preprocessor__scheme_name__impute__copy': True,\n",
       " 'estimator__preprocessor__scheme_name__impute__fill_value': None,\n",
       " 'estimator__preprocessor__scheme_name__impute__missing_values': nan,\n",
       " 'estimator__preprocessor__scheme_name__impute__strategy': 'mean',\n",
       " 'estimator__preprocessor__scheme_name__impute__verbose': 0,\n",
       " 'estimator__preprocessor__cat__memory': None,\n",
       " 'estimator__preprocessor__cat__steps': [('impute',\n",
       "   SimpleImputer(strategy='most_frequent')),\n",
       "  ('onehot', OneHotEncoder(handle_unknown='ignore'))],\n",
       " 'estimator__preprocessor__cat__verbose': False,\n",
       " 'estimator__preprocessor__cat__impute': SimpleImputer(strategy='most_frequent'),\n",
       " 'estimator__preprocessor__cat__onehot': OneHotEncoder(handle_unknown='ignore'),\n",
       " 'estimator__preprocessor__cat__impute__add_indicator': False,\n",
       " 'estimator__preprocessor__cat__impute__copy': True,\n",
       " 'estimator__preprocessor__cat__impute__fill_value': None,\n",
       " 'estimator__preprocessor__cat__impute__missing_values': nan,\n",
       " 'estimator__preprocessor__cat__impute__strategy': 'most_frequent',\n",
       " 'estimator__preprocessor__cat__impute__verbose': 0,\n",
       " 'estimator__preprocessor__cat__onehot__categories': 'auto',\n",
       " 'estimator__preprocessor__cat__onehot__drop': None,\n",
       " 'estimator__preprocessor__cat__onehot__dtype': numpy.float64,\n",
       " 'estimator__preprocessor__cat__onehot__handle_unknown': 'ignore',\n",
       " 'estimator__preprocessor__cat__onehot__sparse': True,\n",
       " 'estimator__preprocessor__district_code__memory': None,\n",
       " 'estimator__preprocessor__district_code__steps': [('merge',\n",
       "   DistrictCodeMerge()),\n",
       "  ('transform', HighCardTransformer()),\n",
       "  ('impute', SimpleImputer())],\n",
       " 'estimator__preprocessor__district_code__verbose': False,\n",
       " 'estimator__preprocessor__district_code__merge': DistrictCodeMerge(),\n",
       " 'estimator__preprocessor__district_code__transform': HighCardTransformer(),\n",
       " 'estimator__preprocessor__district_code__impute': SimpleImputer(),\n",
       " 'estimator__preprocessor__district_code__impute__add_indicator': False,\n",
       " 'estimator__preprocessor__district_code__impute__copy': True,\n",
       " 'estimator__preprocessor__district_code__impute__fill_value': None,\n",
       " 'estimator__preprocessor__district_code__impute__missing_values': nan,\n",
       " 'estimator__preprocessor__district_code__impute__strategy': 'mean',\n",
       " 'estimator__preprocessor__district_code__impute__verbose': 0,\n",
       " 'estimator__preprocessor__extraction__memory': None,\n",
       " 'estimator__preprocessor__extraction__steps': [('merge', ExtractionMerge()),\n",
       "  ('impute', SimpleImputer(strategy='most_frequent')),\n",
       "  ('onehot', OneHotEncoder(handle_unknown='ignore'))],\n",
       " 'estimator__preprocessor__extraction__verbose': False,\n",
       " 'estimator__preprocessor__extraction__merge': ExtractionMerge(),\n",
       " 'estimator__preprocessor__extraction__impute': SimpleImputer(strategy='most_frequent'),\n",
       " 'estimator__preprocessor__extraction__onehot': OneHotEncoder(handle_unknown='ignore'),\n",
       " 'estimator__preprocessor__extraction__impute__add_indicator': False,\n",
       " 'estimator__preprocessor__extraction__impute__copy': True,\n",
       " 'estimator__preprocessor__extraction__impute__fill_value': None,\n",
       " 'estimator__preprocessor__extraction__impute__missing_values': nan,\n",
       " 'estimator__preprocessor__extraction__impute__strategy': 'most_frequent',\n",
       " 'estimator__preprocessor__extraction__impute__verbose': 0,\n",
       " 'estimator__preprocessor__extraction__onehot__categories': 'auto',\n",
       " 'estimator__preprocessor__extraction__onehot__drop': None,\n",
       " 'estimator__preprocessor__extraction__onehot__dtype': numpy.float64,\n",
       " 'estimator__preprocessor__extraction__onehot__handle_unknown': 'ignore',\n",
       " 'estimator__preprocessor__extraction__onehot__sparse': True,\n",
       " 'estimator__model__C': 1.0,\n",
       " 'estimator__model__class_weight': None,\n",
       " 'estimator__model__dual': True,\n",
       " 'estimator__model__fit_intercept': True,\n",
       " 'estimator__model__intercept_scaling': 1,\n",
       " 'estimator__model__loss': 'squared_hinge',\n",
       " 'estimator__model__max_iter': 1000,\n",
       " 'estimator__model__multi_class': 'ovr',\n",
       " 'estimator__model__penalty': 'l2',\n",
       " 'estimator__model__random_state': 42,\n",
       " 'estimator__model__tol': 0.0001,\n",
       " 'estimator__model__verbose': 0,\n",
       " 'estimator': Pipeline(steps=[('preprocessor',\n",
       "                  ColumnTransformer(transformers=[('gps_transformer',\n",
       "                                                   Pipeline(steps=[('lat_long_imputer',\n",
       "                                                                    LatLongImputer()),\n",
       "                                                                   ('gps_height_imputer',\n",
       "                                                                    GPSHeightImputer()),\n",
       "                                                                   ('population_imputer',\n",
       "                                                                    PopulationImputer()),\n",
       "                                                                   ('scale',\n",
       "                                                                    StandardScaler())]),\n",
       "                                                   ['latitude', 'longitude',\n",
       "                                                    'gps_height',\n",
       "                                                    'population']),\n",
       "                                                  ('construction_year',\n",
       "                                                   Pipeline(steps=[('transfor...\n",
       "                                                                    HighCardTransformer()),\n",
       "                                                                   ('impute',\n",
       "                                                                    SimpleImputer())]),\n",
       "                                                   ['district_code', 'region']),\n",
       "                                                  ('extraction',\n",
       "                                                   Pipeline(steps=[('merge',\n",
       "                                                                    ExtractionMerge()),\n",
       "                                                                   ('impute',\n",
       "                                                                    SimpleImputer(strategy='most_frequent')),\n",
       "                                                                   ('onehot',\n",
       "                                                                    OneHotEncoder(handle_unknown='ignore'))]),\n",
       "                                                   ['extraction_type',\n",
       "                                                    'extraction_type_group',\n",
       "                                                    'extraction_type_class'])])),\n",
       "                 ('model', LinearSVC(random_state=42))]),\n",
       " 'iid': 'deprecated',\n",
       " 'n_jobs': -1,\n",
       " 'param_grid': {'model__C': [0.1, 1, 10],\n",
       "  'model__tol': [1, 0.1, 0.01],\n",
       "  'model__max_iter': [100000],\n",
       "  'model__penalty': ['l2'],\n",
       "  'model__multi_class': ['ovr']},\n",
       " 'pre_dispatch': '2*n_jobs',\n",
       " 'refit': True,\n",
       " 'return_train_score': False,\n",
       " 'scoring': None,\n",
       " 'verbose': 4}"
      ]
     },
     "execution_count": 51,
     "metadata": {},
     "output_type": "execute_result"
    }
   ],
   "source": [
    "lsvc_pipeline.get_params()"
   ]
  },
  {
   "cell_type": "code",
   "execution_count": 69,
   "metadata": {},
   "outputs": [],
   "source": [
    "preprocessor_params =  {\n",
    "    'preprocessor__gps_transformer__lat_long_imputer__method': ['custom', 'mean', 'median'],\n",
    "    'preprocessor__gps_transformer__gps_height_imputer__method': ['custom', 'mean', 'median'],\n",
    "    'preprocessor__gps_transformer__population_imputer__method': ['custom', 'mean', 'median'],\n",
    "    'preprocessor__construction_year__transform__method': ['custom', 'mean', 'median'],\n",
    "    'preprocessor__high_card__impute__missing_values': [np.nan],\n",
    "    'preprocessor__high_card__impute__strategy': ['mean', 'most_frequent', 'constant'],\n",
    "    'preprocessor__other_high_card__impute__missing_values': [np.nan],\n",
    "    'preprocessor__other_high_card__impute__strategy': ['mean', 'most_frequent', 'constant'],\n",
    "    'preprocessor__scheme_management__impute__missing_values': [np.nan],\n",
    "    'preprocessor__scheme_management__impute__strategy': ['mean', 'most_frequent', 'constant'],\n",
    "    'preprocessor__scheme_name__impute__missing_values': [np.nan],\n",
    "    'preprocessor__scheme_name__impute__strategy': ['mean', 'most_frequent', 'constant'],\n",
    "    'preprocessor__cat__impute__missing_values': [np.nan],\n",
    "    'preprocessor__cat__impute__strategy': ['mean', 'most_frequent', 'constant'],\n",
    "    'preprocessor__district_code__impute__missing_values': [np.nan],\n",
    "    'preprocessor__district_code__impute__strategy': ['mean', 'most_frequent', 'constant'],\n",
    "    'preprocessor__extraction__impute__missing_values': [np.nan],\n",
    "    'preprocessor__extraction__impute__strategy': ['mean', 'most_frequent', 'constant'],\n",
    "}"
   ]
  },
  {
   "cell_type": "code",
   "execution_count": 70,
   "metadata": {},
   "outputs": [],
   "source": [
    "lsvc_params = {\n",
    "    'model__C': [.1, 1, 10], \n",
    "    'model__tol': [1,0.1,0.01, 0.001],\n",
    "    'model__max_iter': [10000, 20000],\n",
    "    'model__dual': [False],\n",
    "    'model__penalty': ['l1', 'l2'],\n",
    "    'model__multi_class': ['ovr', 'crammer_singer']\n",
    "}\n",
    "\n",
    "lsvc_params.update(preprocessor_params)\n",
    "\n",
    "# Best parameter (CV score=0.630):\n",
    "# {'model__C': 0.1, 'model__max_iter': 100000, 'model__multi_class': 'crammer_singer', 'model__penalty': 'l1', 'model__tol': 0.1}"
   ]
  },
  {
   "cell_type": "code",
   "execution_count": 71,
   "metadata": {},
   "outputs": [
    {
     "data": {
      "text/plain": [
       "{'model__C': [0.1, 1, 10],\n",
       " 'model__tol': [1, 0.1, 0.01, 0.001],\n",
       " 'model__max_iter': [10000, 20000],\n",
       " 'model__dual': [False],\n",
       " 'model__penalty': ['l1', 'l2'],\n",
       " 'model__multi_class': ['ovr', 'crammer_singer'],\n",
       " 'preprocessor__high_card__impute__missing_values': [nan],\n",
       " 'preprocessor__high_card__impute__strategy': ['mean',\n",
       "  'most_frequent',\n",
       "  'constant']}"
      ]
     },
     "execution_count": 71,
     "metadata": {},
     "output_type": "execute_result"
    }
   ],
   "source": [
    "lsvc_params"
   ]
  },
  {
   "cell_type": "markdown",
   "metadata": {},
   "source": [
    "### Fitting LinearSVC"
   ]
  },
  {
   "cell_type": "code",
   "execution_count": null,
   "metadata": {},
   "outputs": [
    {
     "name": "stdout",
     "output_type": "stream",
     "text": [
      "Fitting 5 folds for each of 288 candidates, totalling 1440 fits\n"
     ]
    },
    {
     "name": "stderr",
     "output_type": "stream",
     "text": [
      "/Users/yrgg/opt/anaconda3/envs/tanzania/lib/python3.8/site-packages/sklearn/model_selection/_split.py:670: UserWarning: The least populated class in y has only 4 members, which is less than n_splits=5.\n",
      "  warnings.warn((\"The least populated class in y has only %d\"\n",
      "[Parallel(n_jobs=-1)]: Using backend LokyBackend with 4 concurrent workers.\n",
      "[Parallel(n_jobs=-1)]: Done  17 tasks      | elapsed:   29.4s\n",
      "[Parallel(n_jobs=-1)]: Done  90 tasks      | elapsed:  2.3min\n",
      "[Parallel(n_jobs=-1)]: Done 213 tasks      | elapsed:  5.4min\n",
      "[Parallel(n_jobs=-1)]: Done 384 tasks      | elapsed:  9.9min\n"
     ]
    }
   ],
   "source": [
    "from sklearn.svm import LinearSVC\n",
    "\n",
    "lsvc = {'model': LinearSVC(random_state=42), 'params': lsvc_params }\n",
    "sample_size = 100\n",
    "lsvc_test_preds, lsvc_train_preds, lsvc_pipeline = fit_predict(\n",
    "    lsvc, X_train[:sample_size], X_test[:sample_size], y_train[:sample_size], y_test[:sample_size])"
   ]
  },
  {
   "cell_type": "code",
   "execution_count": 50,
   "metadata": {},
   "outputs": [
    {
     "name": "stdout",
     "output_type": "stream",
     "text": [
      "Model: LinearSVC\n",
      "------------------------------------------------------------\n"
     ]
    },
    {
     "data": {
      "image/png": "[encoded data removed]",
      "text/plain": [
       "<Figure size 432x288 with 2 Axes>"
      ]
     },
     "metadata": {
      "needs_background": "light"
     },
     "output_type": "display_data"
    },
    {
     "name": "stdout",
     "output_type": "stream",
     "text": [
      "------------------------------------------------------------\n",
      "test accuracy: 0.632\n",
      "train accuracy: 0.957\n",
      "------------------------------------------------------------\n",
      "\n",
      "test report:\n",
      "              precision    recall  f1-score   support\n",
      "\n",
      "           0       0.65      0.77      0.70       524\n",
      "           1       0.29      0.14      0.19        72\n",
      "           2       0.64      0.54      0.59       404\n",
      "\n",
      "    accuracy                           0.63      1000\n",
      "   macro avg       0.53      0.48      0.49      1000\n",
      "weighted avg       0.62      0.63      0.62      1000\n",
      "\n",
      "~~~~~~~~~~~~~~~~~~~~~~~~~~~~~~~~~~~~~~~~~~~~~~~~~~~~~~~~~~~~\n",
      "\n",
      "train report:\n",
      "              precision    recall  f1-score   support\n",
      "\n",
      "           0       0.96      0.97      0.97       554\n",
      "           1       0.94      0.87      0.90        76\n",
      "           2       0.96      0.95      0.96       370\n",
      "\n",
      "    accuracy                           0.96      1000\n",
      "   macro avg       0.95      0.93      0.94      1000\n",
      "weighted avg       0.96      0.96      0.96      1000\n",
      "\n",
      "------------------------------------------------------------\n"
     ]
    }
   ],
   "source": [
    "metrics('LinearSVC', y_train[:sample_size], y_test[:sample_size], lsvc_train_preds, lsvc_test_preds)"
   ]
  },
  {
   "cell_type": "markdown",
   "metadata": {},
   "source": [
    "### Evaluating LinearSVC (pre-pipe)"
   ]
  },
  {
   "cell_type": "code",
   "execution_count": 501,
   "metadata": {
    "scrolled": false
   },
   "outputs": [
    {
     "name": "stdout",
     "output_type": "stream",
     "text": [
      "Model: LinearSVC\n",
      "------------------------------------------------------------\n"
     ]
    },
    {
     "data": {
      "image/png": "[encoded data removed]",
      "text/plain": [
       "<Figure size 432x288 with 2 Axes>"
      ]
     },
     "metadata": {
      "needs_background": "light"
     },
     "output_type": "display_data"
    },
    {
     "name": "stdout",
     "output_type": "stream",
     "text": [
      "------------------------------------------------------------\n",
      "test accuracy: 0.620253164556962\n",
      "train accuracy: 0.6458521870286577\n",
      "------------------------------------------------------------\n",
      "\n",
      "test report:\n",
      "              precision    recall  f1-score   support\n",
      "\n",
      "           0       0.62      0.60      0.61       495\n",
      "           1       0.61      0.69      0.65       461\n",
      "           2       0.63      0.58      0.60       466\n",
      "\n",
      "    accuracy                           0.62      1422\n",
      "   macro avg       0.62      0.62      0.62      1422\n",
      "weighted avg       0.62      0.62      0.62      1422\n",
      "\n",
      "~~~~~~~~~~~~~~~~~~~~~~~~~~~~~~~~~~~~~~~~~~~~~~~~~~~~~~~~~~~~\n",
      "\n",
      "train report:\n",
      "              precision    recall  f1-score   support\n",
      "\n",
      "           0       0.62      0.62      0.62      1084\n",
      "           1       0.64      0.71      0.67      1118\n",
      "           2       0.68      0.60      0.64      1113\n",
      "\n",
      "    accuracy                           0.65      3315\n",
      "   macro avg       0.65      0.65      0.64      3315\n",
      "weighted avg       0.65      0.65      0.65      3315\n",
      "\n",
      "------------------------------------------------------------\n"
     ]
    }
   ],
   "source": [
    "metrics('LinearSVC', y_train, y_test, lsvc_train_preds, lsvc_test_preds)"
   ]
  },
  {
   "cell_type": "markdown",
   "metadata": {},
   "source": [
    "There is a debate that LinearSVC is not a good fit for multi-class classification problems.\n",
    "\n",
    "There are some ways to adjust for it: \n",
    "- using the 'crammer_singer' algorithm, or the 'ovr' (one-vs-rest)"
   ]
  },
  {
   "cell_type": "markdown",
   "metadata": {},
   "source": [
    "## KNN"
   ]
  },
  {
   "cell_type": "markdown",
   "metadata": {},
   "source": [
    "### Why KNN\n",
    "KNNs are a non-parametric, lazy learning algorithm. It makes no underlying assumptions about the distribution of data. \n",
    "\n",
    "No training is necessary! \n",
    "\n",
    "KNN makes predictions just-in-time by calculating the similarity between an input sample and each training instance.\n",
    "\n",
    "It is a Simple algorithm — to explain and understand/interpret. It is versatile — useful for classification or regression."
   ]
  },
  {
   "cell_type": "markdown",
   "metadata": {},
   "source": [
    "### Hyperparameters"
   ]
  },
  {
   "cell_type": "code",
   "execution_count": 816,
   "metadata": {},
   "outputs": [],
   "source": [
    "knn_params = {\n",
    "#     'pca__n_components': range(80, 120, 20),\n",
    "    # amount of neighbors\n",
    "    'model__n_neighbors': [500],\n",
    "    # leaf size\n",
    "    'model__leaf_size': [1],\n",
    "    'model__weights': ['distance'],\n",
    "    'model__p': [2]\n",
    "}"
   ]
  },
  {
   "cell_type": "markdown",
   "metadata": {},
   "source": [
    "### Fitting KNN"
   ]
  },
  {
   "cell_type": "code",
   "execution_count": 827,
   "metadata": {},
   "outputs": [
    {
     "name": "stdout",
     "output_type": "stream",
     "text": [
      "Fitting 3 folds for each of 1 candidates, totalling 3 fits\n"
     ]
    },
    {
     "name": "stderr",
     "output_type": "stream",
     "text": [
      "[Parallel(n_jobs=-1)]: Using backend LokyBackend with 4 concurrent workers.\n",
      "[Parallel(n_jobs=-1)]: Done   3 out of   3 | elapsed:   14.9s finished\n"
     ]
    },
    {
     "name": "stdout",
     "output_type": "stream",
     "text": [
      "Best parameter (CV score=0.726):\n",
      "{'model__leaf_size': 1, 'model__n_neighbors': 500, 'model__p': 2, 'model__weights': 'distance'}\n"
     ]
    }
   ],
   "source": [
    "from sklearn.neighbors import KNeighborsClassifier\n",
    "knn = { 'model': KNeighborsClassifier(), 'params': knn_params }\n",
    "feature_names = numerical_cols + categorical_cols \n",
    "knn_test_preds, knn_train_preds, knn_pipeline = fit_predict(knn, X_total_train, X_total_test, y_total_train, y_total_test)"
   ]
  },
  {
   "cell_type": "code",
   "execution_count": null,
   "metadata": {},
   "outputs": [],
   "source": []
  },
  {
   "cell_type": "markdown",
   "metadata": {},
   "source": [
    "### Evaluating KNN"
   ]
  },
  {
   "cell_type": "code",
   "execution_count": 676,
   "metadata": {},
   "outputs": [
    {
     "name": "stdout",
     "output_type": "stream",
     "text": [
      "Model: k-NN\n",
      "------------------------------------------------------------\n"
     ]
    },
    {
     "data": {
      "image/png": "[encoded data removed]",
      "text/plain": [
       "<Figure size 432x288 with 2 Axes>"
      ]
     },
     "metadata": {
      "needs_background": "light"
     },
     "output_type": "display_data"
    },
    {
     "name": "stdout",
     "output_type": "stream",
     "text": [
      "------------------------------------------------------------\n",
      "test accuracy: 0.7415950920245399\n",
      "train accuracy: 0.9979749631811488\n",
      "------------------------------------------------------------\n",
      "\n",
      "test report:\n",
      "              precision    recall  f1-score   support\n",
      "\n",
      "           0       0.74      0.96      0.83      2683\n",
      "           1       0.67      0.22      0.33       316\n",
      "           2       0.79      0.34      0.48      1076\n",
      "\n",
      "    accuracy                           0.74      4075\n",
      "   macro avg       0.73      0.51      0.55      4075\n",
      "weighted avg       0.75      0.74      0.70      4075\n",
      "\n",
      "~~~~~~~~~~~~~~~~~~~~~~~~~~~~~~~~~~~~~~~~~~~~~~~~~~~~~~~~~~~~\n",
      "\n",
      "train report:\n",
      "              precision    recall  f1-score   support\n",
      "\n",
      "           0       1.00      1.00      1.00     10729\n",
      "           1       1.00      0.99      1.00      1263\n",
      "           2       1.00      0.99      1.00      4304\n",
      "\n",
      "    accuracy                           1.00     16296\n",
      "   macro avg       1.00      1.00      1.00     16296\n",
      "weighted avg       1.00      1.00      1.00     16296\n",
      "\n",
      "------------------------------------------------------------\n"
     ]
    }
   ],
   "source": [
    "metrics('k-NN', y_total_train, y_total_test, knn_train_preds, knn_test_preds)"
   ]
  },
  {
   "cell_type": "markdown",
   "metadata": {},
   "source": [
    "## SVC"
   ]
  },
  {
   "cell_type": "markdown",
   "metadata": {},
   "source": [
    "## Why SVC"
   ]
  },
  {
   "cell_type": "markdown",
   "metadata": {},
   "source": [
    "### Hyperparameters"
   ]
  },
  {
   "cell_type": "code",
   "execution_count": 199,
   "metadata": {},
   "outputs": [],
   "source": [
    "svc_params = {\n",
    "}"
   ]
  },
  {
   "cell_type": "markdown",
   "metadata": {},
   "source": [
    "### Fitting SVC"
   ]
  },
  {
   "cell_type": "code",
   "execution_count": null,
   "metadata": {},
   "outputs": [],
   "source": [
    "from sklearn.svmm import SVC\n",
    "\n",
    "svc = { 'model': SVC(random_state=42), 'params': svc_params }\n",
    "\n",
    "svc_test_preds, svc_train_preds = fit_predict(svc, X_train, X_test, y_train, y_test)"
   ]
  },
  {
   "cell_type": "markdown",
   "metadata": {},
   "source": [
    "### Evaluating SVC"
   ]
  },
  {
   "cell_type": "code",
   "execution_count": null,
   "metadata": {},
   "outputs": [],
   "source": [
    "metrics('SVC', y_train, y_test, svc_train_preds, svc_test_preds)"
   ]
  },
  {
   "cell_type": "markdown",
   "metadata": {},
   "source": [
    "## XGBoost"
   ]
  },
  {
   "cell_type": "markdown",
   "metadata": {},
   "source": [
    "### Why XGBoost"
   ]
  },
  {
   "cell_type": "markdown",
   "metadata": {},
   "source": [
    "### Hyperparameters"
   ]
  },
  {
   "cell_type": "code",
   "execution_count": 634,
   "metadata": {},
   "outputs": [],
   "source": [
    "xgb_params = {\n",
    "#     'pca__n_components': range(20, 60, 20),\n",
    "    'model__colsample_bytree': [.6],       # how many features to use per estimator/tree\n",
    "    'model__eta': [.01],                   # learning rate\n",
    "    'model__n_estimators': [1000],         # how many models/estimators/trees to make\n",
    "    'model__gamma': [5],                   # larger gamma, more conservitive. lower means more overfitting\n",
    "    'model__max_depth': [12],              # higher number means more overfitting\n",
    "    'model__objective': ['multi:softmax'], # for multiclass \n",
    "    'model__num_class': [3],               # for multiclass\n",
    "    'model__eval_metric': ['merror'],      # for multiclass\n",
    "}"
   ]
  },
  {
   "cell_type": "markdown",
   "metadata": {},
   "source": [
    "### Fitting XGBoost"
   ]
  },
  {
   "cell_type": "code",
   "execution_count": 651,
   "metadata": {},
   "outputs": [
    {
     "name": "stdout",
     "output_type": "stream",
     "text": [
      "Fitting 3 folds for each of 1 candidates, totalling 3 fits\n"
     ]
    },
    {
     "name": "stderr",
     "output_type": "stream",
     "text": [
      "[Parallel(n_jobs=-1)]: Using backend LokyBackend with 4 concurrent workers.\n",
      "[Parallel(n_jobs=-1)]: Done   3 out of   3 | elapsed:   20.1s finished\n"
     ]
    },
    {
     "name": "stdout",
     "output_type": "stream",
     "text": [
      "Best parameter (CV score=0.633):\n",
      "{'model__colsample_bytree': 0.6, 'model__eta': 0.01, 'model__eval_metric': 'merror', 'model__gamma': 5, 'model__max_depth': 12, 'model__n_estimators': 1000, 'model__num_class': 3, 'model__objective': 'multi:softmax'}\n"
     ]
    }
   ],
   "source": [
    "from xgboost import XGBClassifier\n",
    "\n",
    "xgb = { 'model': XGBClassifier(random_state=42), 'params': xgb_params }\n",
    "\n",
    "xgb_test_preds, xgb_train_preds, xgboost_pipe = fit_predict(xgb, X_train, X_test, y_train, y_test)"
   ]
  },
  {
   "cell_type": "code",
   "execution_count": 833,
   "metadata": {},
   "outputs": [],
   "source": [
    "feature_df = get_feature_df(xgboost_pipe, feature_names)"
   ]
  },
  {
   "cell_type": "code",
   "execution_count": 15,
   "metadata": {},
   "outputs": [
    {
     "ename": "NameError",
     "evalue": "name 'xgboost_pipe' is not defined",
     "output_type": "error",
     "traceback": [
      "\u001b[0;31m---------------------------------------------------------------------------\u001b[0m",
      "\u001b[0;31mNameError\u001b[0m                                 Traceback (most recent call last)",
      "\u001b[0;32m<ipython-input-15-17961251f3fd>\u001b[0m in \u001b[0;36m<module>\u001b[0;34m\u001b[0m\n\u001b[0;32m----> 1\u001b[0;31m \u001b[0mxgboost_pipe\u001b[0m\u001b[0;34m\u001b[0m\u001b[0;34m\u001b[0m\u001b[0m\n\u001b[0m",
      "\u001b[0;31mNameError\u001b[0m: name 'xgboost_pipe' is not defined"
     ]
    }
   ],
   "source": [
    "xgboost_pipe"
   ]
  },
  {
   "cell_type": "code",
   "execution_count": 836,
   "metadata": {},
   "outputs": [
    {
     "data": {
      "text/plain": [
       "[array(['gps_height', 'longitude', 'latitude', 'district_code',\n",
       "        'population', 'age', 'basin', 'region', 'scheme_management',\n",
       "        'permit', 'extraction_type', 'management', 'payment_type',\n",
       "        'water_quality', 'quantity', 'source', 'waterpoint_type'],\n",
       "       dtype='<U17')]"
      ]
     },
     "execution_count": 836,
     "metadata": {},
     "output_type": "execute_result"
    }
   ],
   "source": [
    "feature_df[1].tolist()"
   ]
  },
  {
   "cell_type": "markdown",
   "metadata": {},
   "source": [
    "### Evaluating XGBoost"
   ]
  },
  {
   "cell_type": "code",
   "execution_count": 652,
   "metadata": {},
   "outputs": [
    {
     "name": "stdout",
     "output_type": "stream",
     "text": [
      "Model: XGBoost, sub\n",
      "------------------------------------------------------------\n"
     ]
    },
    {
     "data": {
      "image/png": "[encoded data removed]",
      "text/plain": [
       "<Figure size 432x288 with 2 Axes>"
      ]
     },
     "metadata": {
      "needs_background": "light"
     },
     "output_type": "display_data"
    },
    {
     "name": "stdout",
     "output_type": "stream",
     "text": [
      "------------------------------------------------------------\n",
      "test accuracy: 0.6617440225035162\n",
      "train accuracy: 0.718552036199095\n",
      "------------------------------------------------------------\n",
      "\n",
      "test report:\n",
      "              precision    recall  f1-score   support\n",
      "\n",
      "           0       0.66      0.64      0.65       495\n",
      "           1       0.65      0.72      0.68       461\n",
      "           2       0.68      0.63      0.65       466\n",
      "\n",
      "    accuracy                           0.66      1422\n",
      "   macro avg       0.66      0.66      0.66      1422\n",
      "weighted avg       0.66      0.66      0.66      1422\n",
      "\n",
      "~~~~~~~~~~~~~~~~~~~~~~~~~~~~~~~~~~~~~~~~~~~~~~~~~~~~~~~~~~~~\n",
      "\n",
      "train report:\n",
      "              precision    recall  f1-score   support\n",
      "\n",
      "           0       0.69      0.70      0.69      1084\n",
      "           1       0.72      0.77      0.75      1118\n",
      "           2       0.75      0.68      0.71      1113\n",
      "\n",
      "    accuracy                           0.72      3315\n",
      "   macro avg       0.72      0.72      0.72      3315\n",
      "weighted avg       0.72      0.72      0.72      3315\n",
      "\n",
      "------------------------------------------------------------\n"
     ]
    }
   ],
   "source": [
    "metrics('XGBoost, sub', y_train, y_test, xgb_train_preds, xgb_test_preds)"
   ]
  },
  {
   "cell_type": "code",
   "execution_count": 653,
   "metadata": {},
   "outputs": [],
   "source": [
    "y_total_pipe_pred = xgboost_pipe.predict(X_total_test)"
   ]
  },
  {
   "cell_type": "code",
   "execution_count": 655,
   "metadata": {},
   "outputs": [
    {
     "name": "stdout",
     "output_type": "stream",
     "text": [
      "              precision    recall  f1-score   support\n",
      "\n",
      "           0       0.87      0.62      0.73      2683\n",
      "           1       0.24      0.71      0.36       316\n",
      "           2       0.59      0.66      0.63      1076\n",
      "\n",
      "    accuracy                           0.64      4075\n",
      "   macro avg       0.57      0.67      0.57      4075\n",
      "weighted avg       0.75      0.64      0.67      4075\n",
      "\n"
     ]
    }
   ],
   "source": [
    "print(classification_report(y_total_test, y_total_pipe_pred))"
   ]
  },
  {
   "cell_type": "code",
   "execution_count": 656,
   "metadata": {},
   "outputs": [
    {
     "data": {
      "image/png": "[encoded data removed]",
      "text/plain": [
       "<Figure size 432x288 with 2 Axes>"
      ]
     },
     "metadata": {
      "needs_background": "light"
     },
     "output_type": "display_data"
    }
   ],
   "source": [
    "plot_confusion_matrix(y_total_test, y_total_pipe_pred)"
   ]
  },
  {
   "cell_type": "code",
   "execution_count": 472,
   "metadata": {},
   "outputs": [
    {
     "name": "stdout",
     "output_type": "stream",
     "text": [
      "Model: XGBoost, all data\n",
      "------------------------------------------------------------\n"
     ]
    },
    {
     "data": {
      "image/png": "[encoded data removed]",
      "text/plain": [
       "<Figure size 432x288 with 2 Axes>"
      ]
     },
     "metadata": {
      "needs_background": "light"
     },
     "output_type": "display_data"
    },
    {
     "name": "stdout",
     "output_type": "stream",
     "text": [
      "------------------------------------------------------------\n",
      "test accuracy: 0.7886125654450262\n",
      "train accuracy: 0.8231292517006803\n",
      "------------------------------------------------------------\n",
      "\n",
      "test report:\n",
      "              precision    recall  f1-score   support\n",
      "\n",
      "           0       0.79      0.95      0.86      4023\n",
      "           1       0.64      0.20      0.30       463\n",
      "           2       0.82      0.56      0.66      1626\n",
      "\n",
      "    accuracy                           0.79      6112\n",
      "   macro avg       0.75      0.57      0.61      6112\n",
      "weighted avg       0.78      0.79      0.77      6112\n",
      "\n",
      "~~~~~~~~~~~~~~~~~~~~~~~~~~~~~~~~~~~~~~~~~~~~~~~~~~~~~~~~~~~~\n",
      "\n",
      "train report:\n",
      "              precision    recall  f1-score   support\n",
      "\n",
      "           0       0.81      0.97      0.88      9389\n",
      "           1       0.75      0.26      0.38      1116\n",
      "           2       0.87      0.62      0.73      3754\n",
      "\n",
      "    accuracy                           0.82     14259\n",
      "   macro avg       0.81      0.62      0.67     14259\n",
      "weighted avg       0.82      0.82      0.80     14259\n",
      "\n",
      "------------------------------------------------------------\n"
     ]
    }
   ],
   "source": [
    "metrics('XGBoost, all data', y_total_train, y_total_test, xgb_train_preds, xgb_test_preds)"
   ]
  },
  {
   "cell_type": "markdown",
   "metadata": {},
   "source": [
    "## Random Forest"
   ]
  },
  {
   "cell_type": "markdown",
   "metadata": {},
   "source": [
    "### Fitting Random Forest"
   ]
  },
  {
   "cell_type": "markdown",
   "metadata": {},
   "source": [
    "### Evaluating Random Forest"
   ]
  },
  {
   "cell_type": "markdown",
   "metadata": {},
   "source": [
    "## Contest"
   ]
  },
  {
   "cell_type": "code",
   "execution_count": null,
   "metadata": {},
   "outputs": [],
   "source": [
    "# submission = X_contest['status_group']\n",
    "# submission.to_csv('submission_01.csv')\n",
    "# X_contest.shape"
   ]
  },
  {
   "cell_type": "code",
   "execution_count": null,
   "metadata": {},
   "outputs": [],
   "source": []
  }
 ],
 "metadata": {
  "kernelspec": {
   "display_name": "Python 3.8.3 64-bit ('tanzania': conda)",
   "language": "python",
   "name": "python38364bittanzaniaconda1967df85bc744431ae2cc16ca55f626b"
  }
 },
 "nbformat": 4,
 "nbformat_minor": 4
}
