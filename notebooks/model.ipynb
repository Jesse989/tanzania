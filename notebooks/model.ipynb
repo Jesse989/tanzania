{
 "cells": [
  {
   "cell_type": "markdown",
   "metadata": {},
   "source": [
    "# Modeling"
   ]
  },
  {
   "cell_type": "code",
   "execution_count": 1,
   "metadata": {},
   "outputs": [],
   "source": [
    "import pandas as pd\n",
    "import numpy as np\n",
    "from sklearn.model_selection import train_test_split\n",
    "import matplotlib.pyplot as plot\n",
    "%matplotlib inline"
   ]
  },
  {
   "cell_type": "markdown",
   "metadata": {},
   "source": [
    "### Datasets"
   ]
  },
  {
   "cell_type": "code",
   "execution_count": 2,
   "metadata": {},
   "outputs": [],
   "source": [
    "clean_df = pd.read_csv('../data/clean/tanzania.csv', index_col=0)"
   ]
  },
  {
   "cell_type": "markdown",
   "metadata": {},
   "source": [
    "### Drop Lat and Long"
   ]
  },
  {
   "cell_type": "code",
   "execution_count": 3,
   "metadata": {},
   "outputs": [],
   "source": [
    "clean_df = clean_df.drop(['latitude', 'longitude'], axis=1)"
   ]
  },
  {
   "cell_type": "code",
   "execution_count": 4,
   "metadata": {},
   "outputs": [],
   "source": [
    "y = clean_df['target']\n",
    "X = clean_df.drop(['target'], axis=1)"
   ]
  },
  {
   "cell_type": "code",
   "execution_count": 5,
   "metadata": {},
   "outputs": [],
   "source": [
    "numerical_cols = list(X.select_dtypes(include=np.number).columns)\n",
    "categorical_cols = list(X.select_dtypes(exclude=np.number).columns)"
   ]
  },
  {
   "cell_type": "markdown",
   "metadata": {},
   "source": [
    "### Creating Pipeline"
   ]
  },
  {
   "cell_type": "code",
   "execution_count": 6,
   "metadata": {},
   "outputs": [],
   "source": [
    "from sklearn.compose import ColumnTransformer\n",
    "from sklearn.pipeline import Pipeline\n",
    "from sklearn.impute import SimpleImputer\n",
    "from sklearn.preprocessing import OneHotEncoder, StandardScaler\n",
    "\n",
    "# Preprocessing for numerical data\n",
    "numerical_transformer = Pipeline(steps=[\n",
    "    ('imputer', SimpleImputer(strategy='constant')),\n",
    "    ('scale', StandardScaler())\n",
    "])\n",
    "\n",
    "# Preprocessing for categorical data\n",
    "categorical_transformer = Pipeline(steps=[\n",
    "    ('imputer', SimpleImputer(strategy='most_frequent')),\n",
    "    ('onehot', OneHotEncoder(handle_unknown='ignore'))\n",
    "])\n",
    "\n",
    "# Bundle preprocessing for numerical and categorical data\n",
    "preprocessor = ColumnTransformer(\n",
    "    transformers=[\n",
    "        ('num', numerical_transformer, numerical_cols),\n",
    "        ('cat', categorical_transformer, categorical_cols)\n",
    "    ])"
   ]
  },
  {
   "cell_type": "markdown",
   "metadata": {},
   "source": [
    "## Models\n",
    "- LinearSVC\n",
    "- k-NN\n",
    "- Support Vector Machine Algorithm\n",
    "- XGBoost\n",
    "- Random Forest"
   ]
  },
  {
   "cell_type": "markdown",
   "metadata": {},
   "source": [
    "### Predict\n",
    "- added SMOTE option\n",
    "- added PCA to pipeline and see if time and score increase"
   ]
  },
  {
   "cell_type": "code",
   "execution_count": 67,
   "metadata": {},
   "outputs": [],
   "source": [
    "from sklearn.metrics import mean_absolute_error\n",
    "from sklearn.model_selection import GridSearchCV\n",
    "from imblearn.over_sampling import SMOTE\n",
    "from imblearn.under_sampling import RandomUnderSampler\n",
    "from imblearn.pipeline import Pipeline\n",
    "from sklearn.decomposition import TruncatedSVD\n",
    "\n",
    "def fit_predict(model, X_train, X_test, y_train, y_test, smote=False):\n",
    "    '''fit pipeline using given model, and return predictions'''\n",
    "    \n",
    "    param_grid = model['params']\n",
    "    model = model['model']\n",
    "        \n",
    "    if smote:\n",
    "        # Bundle preprocessing and modeling code in a pipeline\n",
    "        my_pipeline = Pipeline(steps=[('preprocessor', preprocessor),\n",
    "                                      ('smote', SMOTE()),\n",
    "                                      ('under', RandomUnderSampler()),\n",
    "                                      ('pca', TruncatedSVD()),\n",
    "                                      ('model', model)\n",
    "                                     ])\n",
    "    else:\n",
    "        # Bundle preprocessing and modeling code in a pipeline\n",
    "        my_pipeline = Pipeline(steps=[('preprocessor', preprocessor),\n",
    "                                      ('pca', TruncatedSVD()),\n",
    "                                      ('model', model)\n",
    "                                     ])\n",
    "\n",
    "    search = GridSearchCV(estimator=my_pipeline,\n",
    "             param_grid=param_grid, n_jobs=-1, verbose=2, cv=3)\n",
    "    \n",
    "    search.fit(X_train, y_train)\n",
    "    \n",
    "    print(\"Best parameter (CV score=%0.3f):\" % search.best_score_)\n",
    "    print(search.best_params_)\n",
    "\n",
    "    # Preprocessing of validation data, get predictions\n",
    "    test_preds = search.predict(X_test)\n",
    "    train_preds = search.predict(X_train)\n",
    "    return test_preds, train_preds"
   ]
  },
  {
   "cell_type": "markdown",
   "metadata": {},
   "source": [
    "## Evaluate\n",
    "What are the most important things to look for with regression?\n",
    "\n",
    "- TODO: add graphs"
   ]
  },
  {
   "cell_type": "code",
   "execution_count": 8,
   "metadata": {},
   "outputs": [],
   "source": [
    "from sklearn.metrics import accuracy_score\n",
    "from sklearn.metrics import classification_report\n",
    "\n",
    "def metrics(model_name, y_train, y_test, y_train_pred, y_test_pred):\n",
    "    '''Print out the evaluation metrics for a given models predictions'''\n",
    "    print(f'Model: {model_name}', )\n",
    "    print('-'*60)\n",
    "    print(f'test accuracy: {accuracy_score(y_test, y_test_pred)}')\n",
    "    print(f'train accuracy: {accuracy_score(y_train, y_train_pred)}')\n",
    "    print('-'*60)\n",
    "    print('\\ntest report:\\n' + classification_report(y_test, y_test_pred))\n",
    "    print('~'*60)\n",
    "    print('\\ntrain report:\\n' + classification_report(y_train, y_train_pred))    \n",
    "    print('-'*60)\n"
   ]
  },
  {
   "cell_type": "markdown",
   "metadata": {},
   "source": [
    "## LinearSVC"
   ]
  },
  {
   "cell_type": "markdown",
   "metadata": {},
   "source": [
    "### Why LinearSVC\n",
    "The objective of a Linear SVC (Support Vector Classifier) is to fit to the data you provide, returning a \"best fit\"\n",
    "hyperplane that divides, or categorizes, your data. \n",
    "\n",
    "It has more flexibility in the choice of penalties and loss functions and should scale better to large numbers of samples.\n",
    "\n",
    "LinearSVC is another (faster) implementation of Support Vector Classification for the case of a linear kernel."
   ]
  },
  {
   "cell_type": "code",
   "execution_count": 32,
   "metadata": {},
   "outputs": [],
   "source": [
    "smallest_num = clean_df['target'].value_counts().sort_values().values[0]\n",
    "target_0 = clean_df[clean_df['target'] == 0].sample(smallest_num)\n",
    "target_1 = clean_df[clean_df['target'] == 1].sample(smallest_num)\n",
    "target_2 = clean_df[clean_df['target'] == 2].sample(smallest_num)\n",
    "\n",
    "sampled_df = pd.concat([target_0, target_1, target_2])"
   ]
  },
  {
   "cell_type": "code",
   "execution_count": 33,
   "metadata": {},
   "outputs": [
    {
     "data": {
      "text/plain": [
       "2    2315\n",
       "1    2315\n",
       "0    2315\n",
       "Name: target, dtype: int64"
      ]
     },
     "execution_count": 33,
     "metadata": {},
     "output_type": "execute_result"
    }
   ],
   "source": [
    "sampled_df['target'].value_counts()"
   ]
  },
  {
   "cell_type": "code",
   "execution_count": 34,
   "metadata": {},
   "outputs": [],
   "source": [
    "X_sampled_df = sampled_df.drop('target', axis=1)\n",
    "y_sampled_df = sampled_df['target']"
   ]
  },
  {
   "cell_type": "code",
   "execution_count": 35,
   "metadata": {},
   "outputs": [],
   "source": [
    "X_train, X_test, y_train, y_test = train_test_split(X_sampled_df, y_sampled_df, test_size=.3, random_state=42)"
   ]
  },
  {
   "cell_type": "code",
   "execution_count": 36,
   "metadata": {},
   "outputs": [
    {
     "data": {
      "text/html": [
       "<div>\n",
       "<style scoped>\n",
       "    .dataframe tbody tr th:only-of-type {\n",
       "        vertical-align: middle;\n",
       "    }\n",
       "\n",
       "    .dataframe tbody tr th {\n",
       "        vertical-align: top;\n",
       "    }\n",
       "\n",
       "    .dataframe thead th {\n",
       "        text-align: right;\n",
       "    }\n",
       "</style>\n",
       "<table border=\"1\" class=\"dataframe\">\n",
       "  <thead>\n",
       "    <tr style=\"text-align: right;\">\n",
       "      <th></th>\n",
       "      <th>funder</th>\n",
       "      <th>gps_height</th>\n",
       "      <th>installer</th>\n",
       "      <th>basin</th>\n",
       "      <th>subvillage</th>\n",
       "      <th>region</th>\n",
       "      <th>district_code</th>\n",
       "      <th>population</th>\n",
       "      <th>scheme_management</th>\n",
       "      <th>permit</th>\n",
       "      <th>extraction_type</th>\n",
       "      <th>management</th>\n",
       "      <th>payment_type</th>\n",
       "      <th>water_quality</th>\n",
       "      <th>quantity</th>\n",
       "      <th>source</th>\n",
       "      <th>waterpoint_type</th>\n",
       "      <th>age</th>\n",
       "    </tr>\n",
       "  </thead>\n",
       "  <tbody>\n",
       "    <tr>\n",
       "      <th>48899</th>\n",
       "      <td>Unicef</td>\n",
       "      <td>1485</td>\n",
       "      <td>DWE</td>\n",
       "      <td>Rufiji</td>\n",
       "      <td>Chafwimi</td>\n",
       "      <td>Iringa</td>\n",
       "      <td>4</td>\n",
       "      <td>120</td>\n",
       "      <td>VWC</td>\n",
       "      <td>False</td>\n",
       "      <td>gravity</td>\n",
       "      <td>vwc</td>\n",
       "      <td>monthly</td>\n",
       "      <td>soft</td>\n",
       "      <td>enough</td>\n",
       "      <td>river</td>\n",
       "      <td>communal standpipe</td>\n",
       "      <td>36</td>\n",
       "    </tr>\n",
       "    <tr>\n",
       "      <th>28922</th>\n",
       "      <td>Government Of Tanzania</td>\n",
       "      <td>1227</td>\n",
       "      <td>DWE</td>\n",
       "      <td>Pangani</td>\n",
       "      <td>Oru</td>\n",
       "      <td>Kilimanjaro</td>\n",
       "      <td>4</td>\n",
       "      <td>55</td>\n",
       "      <td>VWC</td>\n",
       "      <td>True</td>\n",
       "      <td>gravity</td>\n",
       "      <td>vwc</td>\n",
       "      <td>unknown</td>\n",
       "      <td>soft</td>\n",
       "      <td>enough</td>\n",
       "      <td>spring</td>\n",
       "      <td>other</td>\n",
       "      <td>57</td>\n",
       "    </tr>\n",
       "    <tr>\n",
       "      <th>24811</th>\n",
       "      <td>Losaa-kia Water Supply</td>\n",
       "      <td>1599</td>\n",
       "      <td>Losaa-Kia water supp</td>\n",
       "      <td>Pangani</td>\n",
       "      <td>Lobuo</td>\n",
       "      <td>Kilimanjaro</td>\n",
       "      <td>7</td>\n",
       "      <td>1</td>\n",
       "      <td>Water Board</td>\n",
       "      <td>True</td>\n",
       "      <td>gravity</td>\n",
       "      <td>water board</td>\n",
       "      <td>monthly</td>\n",
       "      <td>soft</td>\n",
       "      <td>enough</td>\n",
       "      <td>spring</td>\n",
       "      <td>communal standpipe</td>\n",
       "      <td>21</td>\n",
       "    </tr>\n",
       "    <tr>\n",
       "      <th>27918</th>\n",
       "      <td>Plan Int</td>\n",
       "      <td>62</td>\n",
       "      <td>DDCA</td>\n",
       "      <td>Wami / Ruvu</td>\n",
       "      <td>Vihingo</td>\n",
       "      <td>Pwani</td>\n",
       "      <td>3</td>\n",
       "      <td>250</td>\n",
       "      <td>VWC</td>\n",
       "      <td>True</td>\n",
       "      <td>india mark ii</td>\n",
       "      <td>vwc</td>\n",
       "      <td>per bucket</td>\n",
       "      <td>salty</td>\n",
       "      <td>enough</td>\n",
       "      <td>machine dbh</td>\n",
       "      <td>hand pump</td>\n",
       "      <td>13</td>\n",
       "    </tr>\n",
       "    <tr>\n",
       "      <th>31746</th>\n",
       "      <td>Dhv</td>\n",
       "      <td>266</td>\n",
       "      <td>DWE</td>\n",
       "      <td>Rufiji</td>\n",
       "      <td>Kidatu A</td>\n",
       "      <td>Morogoro</td>\n",
       "      <td>3</td>\n",
       "      <td>600</td>\n",
       "      <td>Company</td>\n",
       "      <td>True</td>\n",
       "      <td>gravity</td>\n",
       "      <td>vwc</td>\n",
       "      <td>never pay</td>\n",
       "      <td>soft</td>\n",
       "      <td>seasonal</td>\n",
       "      <td>river</td>\n",
       "      <td>communal standpipe</td>\n",
       "      <td>25</td>\n",
       "    </tr>\n",
       "  </tbody>\n",
       "</table>\n",
       "</div>"
      ],
      "text/plain": [
       "                       funder  gps_height             installer        basin  \\\n",
       "48899                  Unicef        1485                   DWE       Rufiji   \n",
       "28922  Government Of Tanzania        1227                   DWE      Pangani   \n",
       "24811  Losaa-kia Water Supply        1599  Losaa-Kia water supp      Pangani   \n",
       "27918                Plan Int          62                  DDCA  Wami / Ruvu   \n",
       "31746                     Dhv         266                   DWE       Rufiji   \n",
       "\n",
       "      subvillage       region  district_code  population scheme_management  \\\n",
       "48899   Chafwimi       Iringa              4         120               VWC   \n",
       "28922        Oru  Kilimanjaro              4          55               VWC   \n",
       "24811      Lobuo  Kilimanjaro              7           1       Water Board   \n",
       "27918    Vihingo        Pwani              3         250               VWC   \n",
       "31746   Kidatu A     Morogoro              3         600           Company   \n",
       "\n",
       "       permit extraction_type   management payment_type water_quality  \\\n",
       "48899   False         gravity          vwc      monthly          soft   \n",
       "28922    True         gravity          vwc      unknown          soft   \n",
       "24811    True         gravity  water board      monthly          soft   \n",
       "27918    True   india mark ii          vwc   per bucket         salty   \n",
       "31746    True         gravity          vwc    never pay          soft   \n",
       "\n",
       "       quantity       source     waterpoint_type  age  \n",
       "48899    enough        river  communal standpipe   36  \n",
       "28922    enough       spring               other   57  \n",
       "24811    enough       spring  communal standpipe   21  \n",
       "27918    enough  machine dbh           hand pump   13  \n",
       "31746  seasonal        river  communal standpipe   25  "
      ]
     },
     "execution_count": 36,
     "metadata": {},
     "output_type": "execute_result"
    }
   ],
   "source": [
    "X_sampled_df.head()"
   ]
  },
  {
   "cell_type": "code",
   "execution_count": 37,
   "metadata": {},
   "outputs": [
    {
     "data": {
      "text/plain": [
       "6945"
      ]
     },
     "execution_count": 37,
     "metadata": {},
     "output_type": "execute_result"
    }
   ],
   "source": [
    "X_sampled_df.shape[0]"
   ]
  },
  {
   "cell_type": "markdown",
   "metadata": {},
   "source": [
    "### Hyperparameters"
   ]
  },
  {
   "cell_type": "code",
   "execution_count": 56,
   "metadata": {},
   "outputs": [],
   "source": [
    "param_dict = {\n",
    "    # \n",
    "    'model__C': [1, 10, 100], \n",
    "    'model__tol': [1,0.1,0.01],\n",
    "    'model__max_iter': [10000, 20000],\n",
    "    'model__penalty': ['l1', 'l2'],\n",
    "    'model__multi_class': ['ovr', 'crammer_singer']\n",
    "}"
   ]
  },
  {
   "cell_type": "markdown",
   "metadata": {},
   "source": [
    "### Fitting LinearSVC"
   ]
  },
  {
   "cell_type": "code",
   "execution_count": 57,
   "metadata": {},
   "outputs": [
    {
     "name": "stdout",
     "output_type": "stream",
     "text": [
      "Best parameter (CV score=0.658):\n",
      "{'model__C': 1, 'model__max_iter': 10000, 'model__multi_class': 'ovr', 'model__penalty': 'l2', 'model__tol': 0.01}\n"
     ]
    }
   ],
   "source": [
    "from sklearn.svm import LinearSVC\n",
    "\n",
    "lsvc = { 'model': LinearSVC(), 'params': param_dict }\n",
    "\n",
    "test_preds, train_preds = fit_predict(lsvc, X_train, X_test, y_train, y_test)"
   ]
  },
  {
   "cell_type": "markdown",
   "metadata": {},
   "source": [
    "### Evaluating LinearSVC"
   ]
  },
  {
   "cell_type": "code",
   "execution_count": 58,
   "metadata": {
    "scrolled": true
   },
   "outputs": [
    {
     "name": "stdout",
     "output_type": "stream",
     "text": [
      "Model: LinearSVC\n",
      "------------------------------------------------------------\n",
      "test accuracy: 0.654510556621881\n",
      "train accuracy: 0.9487759720222176\n",
      "------------------------------------------------------------\n",
      "\n",
      "test report:\n",
      "              precision    recall  f1-score   support\n",
      "\n",
      "           0       0.63      0.60      0.62       727\n",
      "           1       0.64      0.66      0.65       677\n",
      "           2       0.70      0.70      0.70       680\n",
      "\n",
      "    accuracy                           0.65      2084\n",
      "   macro avg       0.65      0.66      0.66      2084\n",
      "weighted avg       0.65      0.65      0.65      2084\n",
      "\n",
      "~~~~~~~~~~~~~~~~~~~~~~~~~~~~~~~~~~~~~~~~~~~~~~~~~~~~~~~~~~~~\n",
      "\n",
      "train report:\n",
      "              precision    recall  f1-score   support\n",
      "\n",
      "           0       0.95      0.93      0.94      1588\n",
      "           1       0.93      0.96      0.94      1638\n",
      "           2       0.97      0.96      0.96      1635\n",
      "\n",
      "    accuracy                           0.95      4861\n",
      "   macro avg       0.95      0.95      0.95      4861\n",
      "weighted avg       0.95      0.95      0.95      4861\n",
      "\n",
      "------------------------------------------------------------\n"
     ]
    }
   ],
   "source": [
    "metrics('LinearSVC', y_train, y_test, train_preds, test_preds)"
   ]
  },
  {
   "cell_type": "markdown",
   "metadata": {},
   "source": [
    "There is a debate that LinearSVC is not a good fit for multi-class classification problems.\n",
    "\n",
    "There are some ways to adjust for it: \n",
    "- using the 'crammer_singer' algorithm"
   ]
  },
  {
   "cell_type": "markdown",
   "metadata": {},
   "source": [
    "## KNN"
   ]
  },
  {
   "cell_type": "markdown",
   "metadata": {},
   "source": [
    "### Why KNN\n",
    "KNNs are a non-parametric, lazy learning algorithm. It makes no underlying assumptions about the distribution of data. \n",
    "\n",
    "No training is necessary! \n",
    "\n",
    "KNN makes predictions just-in-time by calculating the similarity between an input sample and each training instance.\n",
    "\n",
    "It is a Simple algorithm — to explain and understand/interpret. It is versatile — useful for classification or regression."
   ]
  },
  {
   "cell_type": "markdown",
   "metadata": {},
   "source": [
    "### Hyperparameters"
   ]
  },
  {
   "cell_type": "code",
   "execution_count": 65,
   "metadata": {},
   "outputs": [],
   "source": [
    "param_dict = {\n",
    "    'pca__n_components': range(80, 120, 20),\n",
    "    # amount of neighbors\n",
    "    'model__n_neighbors': range(1, 20, 2),\n",
    "    # leaf size\n",
    "    'model__leaf_size': range(1, 50, 5),\n",
    "    'model__weights': ['distance'],\n",
    "    'model__p': [1]\n",
    "}"
   ]
  },
  {
   "cell_type": "markdown",
   "metadata": {},
   "source": [
    "### Fitting KNN"
   ]
  },
  {
   "cell_type": "code",
   "execution_count": 68,
   "metadata": {},
   "outputs": [
    {
     "name": "stdout",
     "output_type": "stream",
     "text": [
      "Fitting 3 folds for each of 200 candidates, totalling 600 fits\n"
     ]
    },
    {
     "name": "stderr",
     "output_type": "stream",
     "text": [
      "[Parallel(n_jobs=-1)]: Using backend LokyBackend with 4 concurrent workers.\n",
      "[Parallel(n_jobs=-1)]: Done  33 tasks      | elapsed:  1.5min\n",
      "[Parallel(n_jobs=-1)]: Done 154 tasks      | elapsed:  4.9min\n",
      "[Parallel(n_jobs=-1)]: Done 357 tasks      | elapsed:  7.1min\n",
      "[Parallel(n_jobs=-1)]: Done 600 out of 600 | elapsed:  9.6min finished\n"
     ]
    },
    {
     "name": "stdout",
     "output_type": "stream",
     "text": [
      "Best parameter (CV score=0.657):\n",
      "{'model__leaf_size': 26, 'model__n_neighbors': 19, 'model__p': 1, 'model__weights': 'distance', 'pca__n_components': 80}\n"
     ]
    }
   ],
   "source": [
    "from sklearn.neighbors import KNeighborsClassifier\n",
    "knn = { 'model': KNeighborsClassifier(), 'params': param_dict }\n",
    "\n",
    "test_preds, train_preds = fit_predict(knn, X_train, X_test, y_train, y_test)"
   ]
  },
  {
   "cell_type": "markdown",
   "metadata": {},
   "source": [
    "### Evaluating KNN"
   ]
  },
  {
   "cell_type": "code",
   "execution_count": 69,
   "metadata": {},
   "outputs": [
    {
     "name": "stdout",
     "output_type": "stream",
     "text": [
      "Model: k-NN\n",
      "------------------------------------------------------------\n",
      "test accuracy: 0.682341650671785\n",
      "train accuracy: 0.9934169923883974\n",
      "------------------------------------------------------------\n",
      "\n",
      "test report:\n",
      "              precision    recall  f1-score   support\n",
      "\n",
      "           0       0.69      0.64      0.66       727\n",
      "           1       0.65      0.73      0.69       677\n",
      "           2       0.72      0.68      0.70       680\n",
      "\n",
      "    accuracy                           0.68      2084\n",
      "   macro avg       0.68      0.68      0.68      2084\n",
      "weighted avg       0.68      0.68      0.68      2084\n",
      "\n",
      "~~~~~~~~~~~~~~~~~~~~~~~~~~~~~~~~~~~~~~~~~~~~~~~~~~~~~~~~~~~~\n",
      "\n",
      "train report:\n",
      "              precision    recall  f1-score   support\n",
      "\n",
      "           0       0.99      0.99      0.99      1588\n",
      "           1       0.99      1.00      0.99      1638\n",
      "           2       1.00      0.99      1.00      1635\n",
      "\n",
      "    accuracy                           0.99      4861\n",
      "   macro avg       0.99      0.99      0.99      4861\n",
      "weighted avg       0.99      0.99      0.99      4861\n",
      "\n",
      "------------------------------------------------------------\n"
     ]
    }
   ],
   "source": [
    "metrics('k-NN', y_train, y_test, train_preds, test_preds)"
   ]
  },
  {
   "cell_type": "code",
   "execution_count": 77,
   "metadata": {},
   "outputs": [],
   "source": [
    "param_dict = {\n",
    "    'pca__n_components': range(20, 60, 20),\n",
    "    'model__colsample_bytree': [1.0],\n",
    "    'model__eta': [.3, .2, .1, .05, .01, .005],\n",
    "    'model__max_depth': [10],\n",
    "    'model__min_child_weight': [6],\n",
    "    'model__subsample': [0.8]\n",
    "}"
   ]
  },
  {
   "cell_type": "code",
   "execution_count": 78,
   "metadata": {},
   "outputs": [
    {
     "name": "stdout",
     "output_type": "stream",
     "text": [
      "Fitting 3 folds for each of 3 candidates, totalling 9 fits\n"
     ]
    },
    {
     "name": "stderr",
     "output_type": "stream",
     "text": [
      "[Parallel(n_jobs=-1)]: Using backend LokyBackend with 4 concurrent workers.\n",
      "[Parallel(n_jobs=-1)]: Done   7 out of   9 | elapsed:   44.7s remaining:   12.8s\n",
      "[Parallel(n_jobs=-1)]: Done   9 out of   9 | elapsed:   56.8s finished\n"
     ]
    },
    {
     "name": "stdout",
     "output_type": "stream",
     "text": [
      "Best parameter (CV score=0.666):\n",
      "{'model__colsample_bytree': 1.0, 'model__eta': 0.01, 'model__max_depth': 10, 'model__min_child_weight': 6, 'model__subsample': 0.8, 'pca__n_components': 40}\n"
     ]
    }
   ],
   "source": [
    "from xgboost import XGBClassifier\n",
    "\n",
    "xgb = { 'model': XGBClassifier(), 'params': param_dict }\n",
    "\n",
    "test_preds, train_preds = fit_predict(xgb, X_train, X_test, y_train, y_test)"
   ]
  },
  {
   "cell_type": "code",
   "execution_count": 79,
   "metadata": {},
   "outputs": [
    {
     "name": "stdout",
     "output_type": "stream",
     "text": [
      "Model: XGBoost\n",
      "------------------------------------------------------------\n",
      "test accuracy: 0.6861804222648752\n",
      "train accuracy: 0.8792429541246657\n",
      "------------------------------------------------------------\n",
      "\n",
      "test report:\n",
      "              precision    recall  f1-score   support\n",
      "\n",
      "           0       0.68      0.65      0.66       727\n",
      "           1       0.69      0.71      0.70       677\n",
      "           2       0.69      0.70      0.70       680\n",
      "\n",
      "    accuracy                           0.69      2084\n",
      "   macro avg       0.69      0.69      0.69      2084\n",
      "weighted avg       0.69      0.69      0.69      2084\n",
      "\n",
      "~~~~~~~~~~~~~~~~~~~~~~~~~~~~~~~~~~~~~~~~~~~~~~~~~~~~~~~~~~~~\n",
      "\n",
      "train report:\n",
      "              precision    recall  f1-score   support\n",
      "\n",
      "           0       0.88      0.87      0.87      1588\n",
      "           1       0.85      0.89      0.87      1638\n",
      "           2       0.91      0.88      0.89      1635\n",
      "\n",
      "    accuracy                           0.88      4861\n",
      "   macro avg       0.88      0.88      0.88      4861\n",
      "weighted avg       0.88      0.88      0.88      4861\n",
      "\n",
      "------------------------------------------------------------\n"
     ]
    }
   ],
   "source": [
    "metrics('XGBoost', y_train, y_test, train_preds, test_preds)"
   ]
  },
  {
   "cell_type": "code",
   "execution_count": null,
   "metadata": {},
   "outputs": [],
   "source": []
  }
 ],
 "metadata": {
  "kernelspec": {
   "display_name": "Python [conda env:gpd]",
   "language": "python",
   "name": "conda-env-gpd-py"
  },
  "language_info": {
   "codemirror_mode": {
    "name": "ipython",
    "version": 3
   },
   "file_extension": ".py",
   "mimetype": "text/x-python",
   "name": "python",
   "nbconvert_exporter": "python",
   "pygments_lexer": "ipython3",
   "version": "3.7.7"
  }
 },
 "nbformat": 4,
 "nbformat_minor": 4
}
