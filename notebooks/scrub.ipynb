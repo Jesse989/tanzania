{
 "cells": [
  {
   "cell_type": "markdown",
   "metadata": {},
   "source": [
    "# Scrub\n",
    "Handle any cleaning of data here. \n",
    "\n",
    "Issues that were discovered during EDA will be cleaned here."
   ]
  },
  {
   "cell_type": "code",
   "execution_count": 1,
   "metadata": {},
   "outputs": [],
   "source": [
    "import pandas as pd\n",
    "import numpy as np"
   ]
  },
  {
   "cell_type": "markdown",
   "metadata": {},
   "source": [
    "Read in the raw data and create a combined dataframe"
   ]
  },
  {
   "cell_type": "code",
   "execution_count": 2,
   "metadata": {},
   "outputs": [],
   "source": [
    "# test_features_df = pd.read_csv('../data/raw/X_test.csv')\n",
    "features_df = pd.read_csv('../data/raw/X_train.csv')\n",
    "# features_df = test_features_df.append(train_features_df)\n",
    "target_df = pd.read_csv('../data/raw/y_train.csv')\n",
    "df = features_df.set_index('id').join(target_df.set_index('id')).reset_index()"
   ]
  },
  {
   "cell_type": "markdown",
   "metadata": {},
   "source": [
    "## Columns"
   ]
  },
  {
   "cell_type": "markdown",
   "metadata": {},
   "source": [
    "### Label encoding target column\n",
    "Create column to hold numerical representation of the target column. This can be used for graphs during EDA, and is required for the modeling process."
   ]
  },
  {
   "cell_type": "code",
   "execution_count": 3,
   "metadata": {},
   "outputs": [
    {
     "data": {
      "text/plain": [
       "0    32259\n",
       "2    22824\n",
       "1     4317\n",
       "Name: target, dtype: int64"
      ]
     },
     "execution_count": 3,
     "metadata": {},
     "output_type": "execute_result"
    }
   ],
   "source": [
    "df['status_group'] = df['status_group'].astype('category')\n",
    "df['target'] = df['status_group'].cat.codes\n",
    "df['target'].value_counts(normalize=False)"
   ]
  },
  {
   "cell_type": "code",
   "execution_count": 4,
   "metadata": {},
   "outputs": [
    {
     "data": {
      "text/plain": [
       "functional                 0.543081\n",
       "non functional             0.384242\n",
       "functional needs repair    0.072677\n",
       "Name: status_group, dtype: float64"
      ]
     },
     "execution_count": 4,
     "metadata": {},
     "output_type": "execute_result"
    }
   ],
   "source": [
    "df['status_group'].value_counts(normalize=True)"
   ]
  },
  {
   "cell_type": "markdown",
   "metadata": {},
   "source": [
    "### Dropping Columns"
   ]
  },
  {
   "cell_type": "markdown",
   "metadata": {},
   "source": [
    "Not sure what 'num_private' is representing. Missing the description for it in the data dictionary that came with the data set."
   ]
  },
  {
   "cell_type": "code",
   "execution_count": 5,
   "metadata": {},
   "outputs": [],
   "source": [
    "to_drop = ['amount_tsh', 'date_recorded', 'id', 'wpt_name', \n",
    "           'num_private', 'region_code', 'lga', \n",
    "           'ward', 'public_meeting', 'recorded_by',\n",
    "           'payment', 'extraction_type_group',\n",
    "           'extraction_type_class', 'management_group',\n",
    "           'quality_group', 'quantity_group', 'source_type',\n",
    "           'source_class', 'waterpoint_type_group', 'status_group',\n",
    "           'scheme_name', 'subvillage', 'funder', 'installer',\n",
    "          ]"
   ]
  },
  {
   "cell_type": "code",
   "execution_count": 6,
   "metadata": {},
   "outputs": [
    {
     "data": {
      "text/plain": [
       "24"
      ]
     },
     "execution_count": 6,
     "metadata": {},
     "output_type": "execute_result"
    }
   ],
   "source": [
    "len(to_drop)"
   ]
  },
  {
   "cell_type": "markdown",
   "metadata": {},
   "source": [
    "- **amount_tsh**: 70% of this column is 0's.\n",
    "- **id**: Dropping Id because it contains all unique values.\n",
    "- **date_recorded**: Is the date the row was entered, and was used to log when creating the dataset.\n",
    "- **wpt_name**: The chosen name of the water well. Has no correlation to the functionality of the well.\n",
    "- **num_private**: This column had no description with the dataset.\n",
    "- **region_code**: Dropped because it indicates the same thing as region.\n",
    "- **lga**: Geographic area.\n",
    "- **ward**: Another geographic area. Dropping because there are numerous geographic area columns.\n",
    "- **public_meeting**: Assumed this is an indicator for people gathering at the well, but it is unclear and there are a lot of missing values.\n",
    "- **recorded_by**: The company who recorded the information. Is the same value for the entire dataset, so removing it.\n",
    "- **payment**: Supposed to indicate the payment, but instead is just a copy of the payment_type.\n",
    "- **extraction_type_group**: Most of these are copies of the extraction_group.\n",
    "- **extraction_type_class**: Less specific version of extraction_type_group.\n",
    "- **management_group**: Highly correlated with management.\n",
    "- **quality_group**: Less specific version of quality.\n",
    "- **quantity_group**: Duplicate of quantity column.\n",
    "- **source_type**: Less specific version of source.\n",
    "- **source_class**: Much less specific version of source.\n",
    "- **waterpoint_type_group**: Less specific version of waterpoint_type.\n",
    "- **status_group**: Categorical version of our target column.\n",
    "- **scheme_name**: Has 36% missing values, and also is very similar to scheme_management\n",
    "- **subvillage**: Has 10k unique values\n",
    "- **funder**: High cardinality\n",
    "- **installer**: High cardinality"
   ]
  },
  {
   "cell_type": "code",
   "execution_count": 7,
   "metadata": {},
   "outputs": [],
   "source": [
    "df = df.drop(to_drop, axis=1)"
   ]
  },
  {
   "cell_type": "markdown",
   "metadata": {},
   "source": [
    "## Duplicates"
   ]
  },
  {
   "cell_type": "code",
   "execution_count": 8,
   "metadata": {},
   "outputs": [],
   "source": [
    "df = df.drop_duplicates()"
   ]
  },
  {
   "cell_type": "code",
   "execution_count": 9,
   "metadata": {},
   "outputs": [
    {
     "data": {
      "text/plain": [
       "0"
      ]
     },
     "execution_count": 9,
     "metadata": {},
     "output_type": "execute_result"
    }
   ],
   "source": [
    "df.duplicated().sum()"
   ]
  },
  {
   "cell_type": "markdown",
   "metadata": {},
   "source": [
    "## Zeros or Missing Values\n",
    "Two types of missing columns, columns that are missing less than 10%, and columns that are missing more than 30%.\n",
    "\n",
    "Imputing:\n",
    "- **funder**: Most commmon (mode) will add 3k rows funded by the gov't.\n",
    "- **installer**: Most common (mode), DWE is the installer for the majority of the wells.\n",
    "- **scheme_management**: Most common (mode), because one management company has majority of wells.\n",
    "- **permit**: Drop missing values, because it is a boolean.\n",
    "- **construction_year**: Dropping next three columns because they are all missing the same rows.\n",
    "- **gps_height**: ''\n",
    "- **population**: ''"
   ]
  },
  {
   "cell_type": "markdown",
   "metadata": {},
   "source": [
    "### Loop through columns and change 'unknown' or 'other' to NaNs"
   ]
  },
  {
   "cell_type": "code",
   "execution_count": 10,
   "metadata": {},
   "outputs": [],
   "source": [
    "df = df.replace(['unknown', 'other'], np.nan)"
   ]
  },
  {
   "cell_type": "code",
   "execution_count": 11,
   "metadata": {},
   "outputs": [],
   "source": [
    "mode_impute = ['scheme_management']\n",
    "to_drop = ['construction_year', 'gps_height', 'population', 'permit']"
   ]
  },
  {
   "cell_type": "code",
   "execution_count": 12,
   "metadata": {},
   "outputs": [],
   "source": [
    "df = df[(df['construction_year'] > 0) & (df['population'] > 1) & (df['gps_height'] > 0)]"
   ]
  },
  {
   "cell_type": "code",
   "execution_count": 13,
   "metadata": {},
   "outputs": [],
   "source": [
    "from sklearn.impute import SimpleImputer\n",
    "mode_imputer = SimpleImputer(missing_values=np.nan, strategy='most_frequent')"
   ]
  },
  {
   "cell_type": "code",
   "execution_count": 14,
   "metadata": {},
   "outputs": [],
   "source": [
    "df[mode_impute] = mode_imputer.fit_transform(df[mode_impute])"
   ]
  },
  {
   "cell_type": "code",
   "execution_count": 15,
   "metadata": {},
   "outputs": [
    {
     "data": {
      "text/plain": [
       "True     19853\n",
       "False     7840\n",
       "Name: permit, dtype: int64"
      ]
     },
     "execution_count": 15,
     "metadata": {},
     "output_type": "execute_result"
    }
   ],
   "source": [
    "df['permit'].value_counts()"
   ]
  },
  {
   "cell_type": "code",
   "execution_count": 16,
   "metadata": {},
   "outputs": [],
   "source": [
    "df = df.dropna()"
   ]
  },
  {
   "cell_type": "code",
   "execution_count": 17,
   "metadata": {},
   "outputs": [
    {
     "data": {
      "text/plain": [
       "0    13412\n",
       "2     5380\n",
       "1     1579\n",
       "Name: target, dtype: int64"
      ]
     },
     "execution_count": 17,
     "metadata": {},
     "output_type": "execute_result"
    }
   ],
   "source": [
    "df['target'].value_counts(normalize=False)"
   ]
  },
  {
   "cell_type": "markdown",
   "metadata": {},
   "source": [
    "## Outliers"
   ]
  },
  {
   "cell_type": "markdown",
   "metadata": {},
   "source": [
    "## Feature Engineering"
   ]
  },
  {
   "cell_type": "markdown",
   "metadata": {},
   "source": [
    "### Construction Year\n",
    "TODO: create age column, and graph it"
   ]
  },
  {
   "cell_type": "code",
   "execution_count": 18,
   "metadata": {},
   "outputs": [
    {
     "name": "stdout",
     "output_type": "stream",
     "text": [
      "mean      1998.233273\n",
      "median    2002.000000\n",
      "Name: construction_year, dtype: float64\n"
     ]
    },
    {
     "data": {
      "text/plain": [
       "2008    1662\n",
       "2010    1615\n",
       "2009    1571\n",
       "2007     986\n",
       "2006     910\n",
       "Name: construction_year, dtype: int64"
      ]
     },
     "execution_count": 18,
     "metadata": {},
     "output_type": "execute_result"
    }
   ],
   "source": [
    "# check stats\n",
    "print(df[df['construction_year'] != 0]['construction_year'].agg(['mean', 'median']))\n",
    "df['construction_year'].value_counts().head(5)"
   ]
  },
  {
   "cell_type": "code",
   "execution_count": 19,
   "metadata": {},
   "outputs": [
    {
     "data": {
      "text/plain": [
       "0    13412\n",
       "2     5380\n",
       "1     1579\n",
       "Name: target, dtype: int64"
      ]
     },
     "execution_count": 19,
     "metadata": {},
     "output_type": "execute_result"
    }
   ],
   "source": [
    "# if we cut out all the zeros, what does our target look like\n",
    "df[(df['construction_year'] > 0)]['target'].value_counts()"
   ]
  },
  {
   "cell_type": "code",
   "execution_count": 20,
   "metadata": {},
   "outputs": [],
   "source": [
    "from datetime import datetime\n",
    "# age = current_date - construction_year\n",
    "current_date = datetime.now().year\n",
    "df['age'] = current_date - df['construction_year']\n",
    "df = df.drop(['construction_year'], axis=1)"
   ]
  },
  {
   "cell_type": "markdown",
   "metadata": {},
   "source": [
    "### Save to CSV "
   ]
  },
  {
   "cell_type": "code",
   "execution_count": 22,
   "metadata": {},
   "outputs": [],
   "source": [
    "df.to_csv('../data/clean/tanzania.csv')"
   ]
  },
  {
   "cell_type": "code",
   "execution_count": null,
   "metadata": {},
   "outputs": [],
   "source": []
  },
  {
   "cell_type": "code",
   "execution_count": null,
   "metadata": {},
   "outputs": [],
   "source": []
  }
 ],
 "metadata": {
  "kernelspec": {
   "display_name": "Python [conda env:tanzania] *",
   "language": "python",
   "name": "conda-env-tanzania-py"
  },
  "language_info": {
   "codemirror_mode": {
    "name": "ipython",
    "version": 3
   },
   "file_extension": ".py",
   "mimetype": "text/x-python",
   "name": "python",
   "nbconvert_exporter": "python",
   "pygments_lexer": "ipython3",
   "version": "3.8.3"
  }
 },
 "nbformat": 4,
 "nbformat_minor": 4
}
