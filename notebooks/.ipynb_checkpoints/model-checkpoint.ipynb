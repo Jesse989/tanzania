{
 "cells": [
  {
   "cell_type": "markdown",
   "metadata": {},
   "source": [
    "# Modeling"
   ]
  },
  {
   "cell_type": "markdown",
   "metadata": {},
   "source": [
    "### Import Libraries"
   ]
  },
  {
   "cell_type": "code",
   "execution_count": 1,
   "metadata": {},
   "outputs": [],
   "source": [
    "import pandas as pd\n",
    "import numpy as np\n",
    "from sklearn.model_selection import train_test_split\n",
    "import matplotlib.pyplot as plt\n",
    "%matplotlib inline"
   ]
  },
  {
   "cell_type": "markdown",
   "metadata": {},
   "source": [
    "### Create a Pipeline"
   ]
  },
  {
   "cell_type": "code",
   "execution_count": 3,
   "metadata": {},
   "outputs": [],
   "source": [
    "from preprocessing import GPSHeightImputer, LatLongImputer, PopulationImputer, ConstructionYearTransformer, HighCardTransformer, DistrictCodeMerge, ExtractionMerge"
   ]
  },
  {
   "cell_type": "code",
   "execution_count": 4,
   "metadata": {},
   "outputs": [],
   "source": [
    "from sklearn.metrics import mean_absolute_error\n",
    "from sklearn.model_selection import GridSearchCV\n",
    "from imblearn.over_sampling import SMOTE\n",
    "from imblearn.under_sampling import RandomUnderSampler\n",
    "from imblearn.pipeline import Pipeline\n",
    "from sklearn.decomposition import TruncatedSVD\n",
    "from sklearn.compose import ColumnTransformer\n",
    "from sklearn.impute import SimpleImputer\n",
    "from sklearn.preprocessing import OneHotEncoder, StandardScaler\n",
    "\n",
    "\n",
    "\n",
    "def fit_predict(model, X_train, X_test, y_train, y_test):\n",
    "    '''fit pipeline using given model, and return predictions'''\n",
    "\n",
    "    gps_cols = ['latitude', 'longitude', 'gps_height', 'population']\n",
    "    gps_transformer = Pipeline(steps=[\n",
    "        ('lat_long_imputer', LatLongImputer()),\n",
    "        ('gps_height_imputer', GPSHeightImputer()),\n",
    "        ('population_imputer', PopulationImputer()),\n",
    "        ('scale', StandardScaler())\n",
    "    ])\n",
    "\n",
    "    construction_year_cols = ['construction_year', 'date_recorded']\n",
    "    construction_year_transformer = Pipeline(steps=[\n",
    "        ('transform', ConstructionYearTransformer()),\n",
    "        ('scale', StandardScaler())\n",
    "    ])\n",
    "\n",
    "    high_card_cols = ['installer', 'lga', 'ward']\n",
    "    other_high_cols = ['funder']\n",
    "    scheme_management = ['scheme_management']\n",
    "    scheme_name = ['scheme_name']\n",
    "    \n",
    "    high_card_transformer = Pipeline(steps=[\n",
    "        ('transform', HighCardTransformer()),\n",
    "        ('impute', SimpleImputer(strategy='mean')),\n",
    "    ])\n",
    "\n",
    "    cat_cols = ['basin', 'public_meeting', 'permit', 'management', \n",
    "                'management_group', 'payment','water_quality', \n",
    "                'quantity', 'source', 'source_class', 'waterpoint_type']\n",
    "    cat_transformer = Pipeline(steps=[\n",
    "        ('impute', SimpleImputer(strategy='most_frequent')),\n",
    "        ('onehot', OneHotEncoder(handle_unknown='ignore'))\n",
    "    ])\n",
    "\n",
    "    district_code_cols = ['district_code', 'region']\n",
    "    district_code_transformer = Pipeline(steps=[\n",
    "        ('merge', DistrictCodeMerge()),\n",
    "        ('transform', HighCardTransformer()),\n",
    "        ('impute', SimpleImputer(strategy='mean')),  \n",
    "    ])\n",
    "\n",
    "    extraction_cols = ['extraction_type',\n",
    "                       'extraction_type_group', 'extraction_type_class']\n",
    "    extraction_transformer = Pipeline(steps=[\n",
    "        ('merge', ExtractionMerge()),\n",
    "        ('impute', SimpleImputer(strategy='most_frequent')),\n",
    "        ('onehot', OneHotEncoder(handle_unknown='ignore'))\n",
    "    ])\n",
    "\n",
    "    # Bundle preprocessing for all types of columns\n",
    "    preprocessor = ColumnTransformer(\n",
    "        transformers=[\n",
    "            ('gps_transformer', gps_transformer, gps_cols),\n",
    "            ('construction_year', construction_year_transformer, construction_year_cols),\n",
    "            ('high_card', high_card_transformer, high_card_cols),\n",
    "            ('other_high_card', high_card_transformer, other_high_cols),\n",
    "            ('scheme_management', high_card_transformer, scheme_management),\n",
    "            ('scheme_name', high_card_transformer, scheme_name),\n",
    "            ('cat', cat_transformer, cat_cols),\n",
    "            ('district_code', district_code_transformer, district_code_cols),\n",
    "            ('extraction', extraction_transformer, extraction_cols)\n",
    "        ])\n",
    "\n",
    "    param_grid = model['params']\n",
    "    model = model['model']\n",
    "\n",
    "    # Bundle preprocessing and modeling code in a pipeline\n",
    "    my_pipeline = Pipeline(steps=[('preprocessor', preprocessor),\n",
    "                                  ('model', model)\n",
    "                                  ])\n",
    "\n",
    "                                   \n",
    "    search = GridSearchCV(estimator=my_pipeline, error_score='raise',\n",
    "                          param_grid=param_grid, n_jobs=-1, verbose=4)\n",
    "    \n",
    "    train_preds = search.fit(X_train, y_train)\n",
    "    train_preds = search.predict(X_train)\n",
    "    test_preds = search.predict(X_test)\n",
    "\n",
    "    print(\"Best parameter (CV score=%0.3f):\" % search.best_score_)\n",
    "    print(search.best_params_)\n",
    "\n",
    "    return test_preds, train_preds, search"
   ]
  },
  {
   "cell_type": "markdown",
   "metadata": {},
   "source": [
    "## Evaluate\n",
    "What are the most important things to look for with regression?"
   ]
  },
  {
   "cell_type": "code",
   "execution_count": 49,
   "metadata": {},
   "outputs": [],
   "source": [
    "from sklearn.metrics import confusion_matrix\n",
    "import itertools\n",
    "%matplotlib inline\n",
    "\n",
    "\n",
    "def plot_confusion_matrix(y_true, y_preds):\n",
    "    # Print confusion matrix\n",
    "    cnf_matrix = confusion_matrix(y_true, y_preds)\n",
    "    \n",
    "    # Create the basic matrix\n",
    "    plt.imshow(cnf_matrix,  cmap=plt.cm.Blues)\n",
    "    # Add title and axis labels\n",
    "    plt.title('Confusion Matrix')\n",
    "    plt.ylabel('True label')\n",
    "    plt.xlabel('Predicted label')\n",
    "    # Add appropriate axis scales\n",
    "    class_names = [0, 1, 2]# Get class labels to add to matrix\n",
    "    tick_marks = np.arange(len(class_names))\n",
    "    plt.xticks(tick_marks, class_names, rotation=0)\n",
    "    plt.yticks(tick_marks, class_names)\n",
    "    # Add labels to each cell\n",
    "    thresh = cnf_matrix.max() / 2. # Used for text coloring below\n",
    "    # Here we iterate through the confusion matrix and append labels to our visualization\n",
    "    for i, j in itertools.product(range(cnf_matrix.shape[0]), range(cnf_matrix.shape[1])):\n",
    "            plt.text(j, i, cnf_matrix[i, j],\n",
    "                     horizontalalignment='center',\n",
    "                     color='white' if cnf_matrix[i, j] > thresh else 'black')\n",
    "    # Add a legend\n",
    "    plt.colorbar();\n",
    "    plt.show();"
   ]
  },
  {
   "cell_type": "code",
   "execution_count": 6,
   "metadata": {},
   "outputs": [],
   "source": [
    "from sklearn.metrics import accuracy_score\n",
    "from sklearn.metrics import classification_report\n",
    "\n",
    "def metrics(model_name, y_train, y_test, y_train_pred, y_test_pred):\n",
    "    '''Print out the evaluation metrics for a given models predictions'''\n",
    "    print(f'Model: {model_name}', )\n",
    "    print('-'*60)\n",
    "    plot_confusion_matrix(y_test, y_test_pred)\n",
    "    print('-'*60)\n",
    "    print(f'test accuracy: {accuracy_score(y_test, y_test_pred)}')\n",
    "    print(f'train accuracy: {accuracy_score(y_train, y_train_pred)}')\n",
    "    print('-'*60)\n",
    "    print('\\ntest report:\\n' + classification_report(y_test, y_test_pred))\n",
    "    print('~'*60)\n",
    "    print('\\ntrain report:\\n' + classification_report(y_train, y_train_pred))    \n",
    "    print('-'*60)\n",
    "    "
   ]
  },
  {
   "cell_type": "markdown",
   "metadata": {},
   "source": [
    "## Dataset"
   ]
  },
  {
   "cell_type": "markdown",
   "metadata": {},
   "source": [
    "### Full"
   ]
  },
  {
   "cell_type": "code",
   "execution_count": 7,
   "metadata": {},
   "outputs": [],
   "source": [
    "# full dataset\n",
    "X = pd.read_csv('../data/raw/X_train.csv')\n",
    "y = pd.read_csv('../data/raw/y_train.csv')\n",
    "\n",
    "X_contest = pd.read_csv('../data/raw/X_test.csv')"
   ]
  },
  {
   "cell_type": "code",
   "execution_count": 8,
   "metadata": {},
   "outputs": [
    {
     "data": {
      "text/html": [
       "<div>\n",
       "<style scoped>\n",
       "    .dataframe tbody tr th:only-of-type {\n",
       "        vertical-align: middle;\n",
       "    }\n",
       "\n",
       "    .dataframe tbody tr th {\n",
       "        vertical-align: top;\n",
       "    }\n",
       "\n",
       "    .dataframe thead th {\n",
       "        text-align: right;\n",
       "    }\n",
       "</style>\n",
       "<table border=\"1\" class=\"dataframe\">\n",
       "  <thead>\n",
       "    <tr style=\"text-align: right;\">\n",
       "      <th></th>\n",
       "      <th>id</th>\n",
       "      <th>amount_tsh</th>\n",
       "      <th>date_recorded</th>\n",
       "      <th>funder</th>\n",
       "      <th>gps_height</th>\n",
       "      <th>installer</th>\n",
       "      <th>longitude</th>\n",
       "      <th>latitude</th>\n",
       "      <th>wpt_name</th>\n",
       "      <th>num_private</th>\n",
       "      <th>...</th>\n",
       "      <th>payment_type</th>\n",
       "      <th>water_quality</th>\n",
       "      <th>quality_group</th>\n",
       "      <th>quantity</th>\n",
       "      <th>quantity_group</th>\n",
       "      <th>source</th>\n",
       "      <th>source_type</th>\n",
       "      <th>source_class</th>\n",
       "      <th>waterpoint_type</th>\n",
       "      <th>waterpoint_type_group</th>\n",
       "    </tr>\n",
       "  </thead>\n",
       "  <tbody>\n",
       "    <tr>\n",
       "      <th>0</th>\n",
       "      <td>69572</td>\n",
       "      <td>6000.0</td>\n",
       "      <td>2011-03-14</td>\n",
       "      <td>Roman</td>\n",
       "      <td>1390</td>\n",
       "      <td>Roman</td>\n",
       "      <td>34.938093</td>\n",
       "      <td>-9.856322</td>\n",
       "      <td>none</td>\n",
       "      <td>0</td>\n",
       "      <td>...</td>\n",
       "      <td>annually</td>\n",
       "      <td>soft</td>\n",
       "      <td>good</td>\n",
       "      <td>enough</td>\n",
       "      <td>enough</td>\n",
       "      <td>spring</td>\n",
       "      <td>spring</td>\n",
       "      <td>groundwater</td>\n",
       "      <td>communal standpipe</td>\n",
       "      <td>communal standpipe</td>\n",
       "    </tr>\n",
       "    <tr>\n",
       "      <th>1</th>\n",
       "      <td>8776</td>\n",
       "      <td>0.0</td>\n",
       "      <td>2013-03-06</td>\n",
       "      <td>Grumeti</td>\n",
       "      <td>1399</td>\n",
       "      <td>GRUMETI</td>\n",
       "      <td>34.698766</td>\n",
       "      <td>-2.147466</td>\n",
       "      <td>Zahanati</td>\n",
       "      <td>0</td>\n",
       "      <td>...</td>\n",
       "      <td>never pay</td>\n",
       "      <td>soft</td>\n",
       "      <td>good</td>\n",
       "      <td>insufficient</td>\n",
       "      <td>insufficient</td>\n",
       "      <td>rainwater harvesting</td>\n",
       "      <td>rainwater harvesting</td>\n",
       "      <td>surface</td>\n",
       "      <td>communal standpipe</td>\n",
       "      <td>communal standpipe</td>\n",
       "    </tr>\n",
       "    <tr>\n",
       "      <th>2</th>\n",
       "      <td>34310</td>\n",
       "      <td>25.0</td>\n",
       "      <td>2013-02-25</td>\n",
       "      <td>Lottery Club</td>\n",
       "      <td>686</td>\n",
       "      <td>World vision</td>\n",
       "      <td>37.460664</td>\n",
       "      <td>-3.821329</td>\n",
       "      <td>Kwa Mahundi</td>\n",
       "      <td>0</td>\n",
       "      <td>...</td>\n",
       "      <td>per bucket</td>\n",
       "      <td>soft</td>\n",
       "      <td>good</td>\n",
       "      <td>enough</td>\n",
       "      <td>enough</td>\n",
       "      <td>dam</td>\n",
       "      <td>dam</td>\n",
       "      <td>surface</td>\n",
       "      <td>communal standpipe multiple</td>\n",
       "      <td>communal standpipe</td>\n",
       "    </tr>\n",
       "    <tr>\n",
       "      <th>3</th>\n",
       "      <td>67743</td>\n",
       "      <td>0.0</td>\n",
       "      <td>2013-01-28</td>\n",
       "      <td>Unicef</td>\n",
       "      <td>263</td>\n",
       "      <td>UNICEF</td>\n",
       "      <td>38.486161</td>\n",
       "      <td>-11.155298</td>\n",
       "      <td>Zahanati Ya Nanyumbu</td>\n",
       "      <td>0</td>\n",
       "      <td>...</td>\n",
       "      <td>never pay</td>\n",
       "      <td>soft</td>\n",
       "      <td>good</td>\n",
       "      <td>dry</td>\n",
       "      <td>dry</td>\n",
       "      <td>machine dbh</td>\n",
       "      <td>borehole</td>\n",
       "      <td>groundwater</td>\n",
       "      <td>communal standpipe multiple</td>\n",
       "      <td>communal standpipe</td>\n",
       "    </tr>\n",
       "    <tr>\n",
       "      <th>4</th>\n",
       "      <td>19728</td>\n",
       "      <td>0.0</td>\n",
       "      <td>2011-07-13</td>\n",
       "      <td>Action In A</td>\n",
       "      <td>0</td>\n",
       "      <td>Artisan</td>\n",
       "      <td>31.130847</td>\n",
       "      <td>-1.825359</td>\n",
       "      <td>Shuleni</td>\n",
       "      <td>0</td>\n",
       "      <td>...</td>\n",
       "      <td>never pay</td>\n",
       "      <td>soft</td>\n",
       "      <td>good</td>\n",
       "      <td>seasonal</td>\n",
       "      <td>seasonal</td>\n",
       "      <td>rainwater harvesting</td>\n",
       "      <td>rainwater harvesting</td>\n",
       "      <td>surface</td>\n",
       "      <td>communal standpipe</td>\n",
       "      <td>communal standpipe</td>\n",
       "    </tr>\n",
       "  </tbody>\n",
       "</table>\n",
       "<p>5 rows × 40 columns</p>\n",
       "</div>"
      ],
      "text/plain": [
       "      id  amount_tsh date_recorded        funder  gps_height     installer  \\\n",
       "0  69572      6000.0    2011-03-14         Roman        1390         Roman   \n",
       "1   8776         0.0    2013-03-06       Grumeti        1399       GRUMETI   \n",
       "2  34310        25.0    2013-02-25  Lottery Club         686  World vision   \n",
       "3  67743         0.0    2013-01-28        Unicef         263        UNICEF   \n",
       "4  19728         0.0    2011-07-13   Action In A           0       Artisan   \n",
       "\n",
       "   longitude   latitude              wpt_name  num_private  ... payment_type  \\\n",
       "0  34.938093  -9.856322                  none            0  ...     annually   \n",
       "1  34.698766  -2.147466              Zahanati            0  ...    never pay   \n",
       "2  37.460664  -3.821329           Kwa Mahundi            0  ...   per bucket   \n",
       "3  38.486161 -11.155298  Zahanati Ya Nanyumbu            0  ...    never pay   \n",
       "4  31.130847  -1.825359               Shuleni            0  ...    never pay   \n",
       "\n",
       "  water_quality quality_group      quantity  quantity_group  \\\n",
       "0          soft          good        enough          enough   \n",
       "1          soft          good  insufficient    insufficient   \n",
       "2          soft          good        enough          enough   \n",
       "3          soft          good           dry             dry   \n",
       "4          soft          good      seasonal        seasonal   \n",
       "\n",
       "                 source           source_type  source_class  \\\n",
       "0                spring                spring   groundwater   \n",
       "1  rainwater harvesting  rainwater harvesting       surface   \n",
       "2                   dam                   dam       surface   \n",
       "3           machine dbh              borehole   groundwater   \n",
       "4  rainwater harvesting  rainwater harvesting       surface   \n",
       "\n",
       "               waterpoint_type waterpoint_type_group  \n",
       "0           communal standpipe    communal standpipe  \n",
       "1           communal standpipe    communal standpipe  \n",
       "2  communal standpipe multiple    communal standpipe  \n",
       "3  communal standpipe multiple    communal standpipe  \n",
       "4           communal standpipe    communal standpipe  \n",
       "\n",
       "[5 rows x 40 columns]"
      ]
     },
     "execution_count": 8,
     "metadata": {},
     "output_type": "execute_result"
    }
   ],
   "source": [
    "X.head()"
   ]
  },
  {
   "cell_type": "code",
   "execution_count": 9,
   "metadata": {},
   "outputs": [
    {
     "data": {
      "text/plain": [
       "functional                 32259\n",
       "non functional             22824\n",
       "functional needs repair     4317\n",
       "Name: status_group, dtype: int64"
      ]
     },
     "execution_count": 9,
     "metadata": {},
     "output_type": "execute_result"
    }
   ],
   "source": [
    "y['status_group'].value_counts()"
   ]
  },
  {
   "cell_type": "code",
   "execution_count": 10,
   "metadata": {},
   "outputs": [],
   "source": [
    "y['status_code'] = y['status_group'].astype('category').cat.codes"
   ]
  },
  {
   "cell_type": "code",
   "execution_count": 11,
   "metadata": {},
   "outputs": [
    {
     "data": {
      "text/html": [
       "<div>\n",
       "<style scoped>\n",
       "    .dataframe tbody tr th:only-of-type {\n",
       "        vertical-align: middle;\n",
       "    }\n",
       "\n",
       "    .dataframe tbody tr th {\n",
       "        vertical-align: top;\n",
       "    }\n",
       "\n",
       "    .dataframe thead th {\n",
       "        text-align: right;\n",
       "    }\n",
       "</style>\n",
       "<table border=\"1\" class=\"dataframe\">\n",
       "  <thead>\n",
       "    <tr style=\"text-align: right;\">\n",
       "      <th></th>\n",
       "      <th>id</th>\n",
       "      <th>status_group</th>\n",
       "      <th>status_code</th>\n",
       "    </tr>\n",
       "  </thead>\n",
       "  <tbody>\n",
       "    <tr>\n",
       "      <th>0</th>\n",
       "      <td>69572</td>\n",
       "      <td>functional</td>\n",
       "      <td>0</td>\n",
       "    </tr>\n",
       "    <tr>\n",
       "      <th>1</th>\n",
       "      <td>8776</td>\n",
       "      <td>functional</td>\n",
       "      <td>0</td>\n",
       "    </tr>\n",
       "    <tr>\n",
       "      <th>2</th>\n",
       "      <td>34310</td>\n",
       "      <td>functional</td>\n",
       "      <td>0</td>\n",
       "    </tr>\n",
       "    <tr>\n",
       "      <th>3</th>\n",
       "      <td>67743</td>\n",
       "      <td>non functional</td>\n",
       "      <td>2</td>\n",
       "    </tr>\n",
       "    <tr>\n",
       "      <th>4</th>\n",
       "      <td>19728</td>\n",
       "      <td>functional</td>\n",
       "      <td>0</td>\n",
       "    </tr>\n",
       "  </tbody>\n",
       "</table>\n",
       "</div>"
      ],
      "text/plain": [
       "      id    status_group  status_code\n",
       "0  69572      functional            0\n",
       "1   8776      functional            0\n",
       "2  34310      functional            0\n",
       "3  67743  non functional            2\n",
       "4  19728      functional            0"
      ]
     },
     "execution_count": 11,
     "metadata": {},
     "output_type": "execute_result"
    }
   ],
   "source": [
    "y.head()"
   ]
  },
  {
   "cell_type": "code",
   "execution_count": 12,
   "metadata": {},
   "outputs": [],
   "source": [
    "# split full data\n",
    "X_train, X_test, y_train, y_test = train_test_split(X, y['status_code'], test_size=.2, random_state=42)"
   ]
  },
  {
   "cell_type": "markdown",
   "metadata": {},
   "source": [
    "# Models\n",
    "- LinearSVC\n",
    "- k-NN\n",
    "- XGBoost\n",
    "- Random Forest"
   ]
  },
  {
   "cell_type": "markdown",
   "metadata": {},
   "source": [
    "## LinearSVC"
   ]
  },
  {
   "cell_type": "markdown",
   "metadata": {},
   "source": [
    "### Why LinearSVC\n",
    "The objective of a Linear SVC (Support Vector Classifier) is to fit to the data you provide, returning a \"best fit\"\n",
    "hyperplane that divides, or categorizes, your data. \n",
    "\n",
    "It has more flexibility in the choice of penalties and loss functions and should scale better to large numbers of samples.\n",
    "\n",
    "LinearSVC is another (faster) implementation of Support Vector Classification for the case of a linear kernel."
   ]
  },
  {
   "cell_type": "markdown",
   "metadata": {},
   "source": [
    "### Hyperparameters"
   ]
  },
  {
   "cell_type": "code",
   "execution_count": 42,
   "metadata": {},
   "outputs": [],
   "source": [
    "preprocessor_params =  {\n",
    "    'preprocessor__gps_transformer__lat_long_imputer__method': ['custom'],\n",
    "    'preprocessor__gps_transformer__gps_height_imputer__method': ['custom'],\n",
    "    'preprocessor__gps_transformer__population_imputer__method': ['custom'],\n",
    "    'preprocessor__construction_year__transform__method': ['custom'],\n",
    "    'preprocessor__high_card__impute__missing_values': [np.nan],\n",
    "    'preprocessor__high_card__impute__strategy': ['most_frequent'],\n",
    "    'preprocessor__other_high_card__impute__missing_values': [np.nan],\n",
    "    'preprocessor__other_high_card__impute__strategy': ['mean'],\n",
    "    'preprocessor__scheme_management__impute__missing_values': [np.nan],\n",
    "    'preprocessor__scheme_management__impute__strategy': ['mean'],\n",
    "    'preprocessor__scheme_name__impute__missing_values': [np.nan],\n",
    "    'preprocessor__scheme_name__impute__strategy': ['mean'],\n",
    "    'preprocessor__cat__impute__missing_values': [np.nan],\n",
    "    'preprocessor__cat__impute__strategy': ['most_frequent'],\n",
    "    'preprocessor__district_code__impute__missing_values': [np.nan],\n",
    "    'preprocessor__district_code__impute__strategy': ['mean'],\n",
    "    'preprocessor__extraction__impute__missing_values': [np.nan],\n",
    "    'preprocessor__extraction__impute__strategy': ['most_frequent'],\n",
    "}"
   ]
  },
  {
   "cell_type": "code",
   "execution_count": 15,
   "metadata": {},
   "outputs": [],
   "source": [
    "lsvc_params = {\n",
    "    'model__C': [1],\n",
    "    'model__tol': [1],\n",
    "    'model__max_iter': [10000],\n",
    "    'model__dual': [False],\n",
    "    'model__penalty': ['l1'],\n",
    "    'model__multi_class': ['crammer_singer']\n",
    "}\n",
    "\n",
    "lsvc_params.update(preprocessor_params)\n",
    "# {'model__C': 1, 'model__dual': False, 'model__max_iter': 10000, 'model__multi_class': 'crammer_singer', 'model__penalty': 'l1',\n",
    "#     'model__tol': 1, 'preprocessor__high_card__impute__missing_values': nan, 'preprocessor__high_card__impute__strategy': 'mean'}\n",
    "# Best parameter (CV score=0.630):\n",
    "# {'model__C': 0.1, 'model__max_iter': 100000, 'model__multi_class': 'crammer_singer', 'model__penalty': 'l1', 'model__tol': 0.1}"
   ]
  },
  {
   "cell_type": "code",
   "execution_count": 16,
   "metadata": {},
   "outputs": [
    {
     "data": {
      "text/plain": [
       "{'model__C': [1],\n",
       " 'model__tol': [1],\n",
       " 'model__max_iter': [10000],\n",
       " 'model__dual': [False],\n",
       " 'model__penalty': ['l1'],\n",
       " 'model__multi_class': ['crammer_singer'],\n",
       " 'preprocessor__gps_transformer__lat_long_imputer__method': ['mean'],\n",
       " 'preprocessor__gps_transformer__gps_height_imputer__method': ['custom'],\n",
       " 'preprocessor__gps_transformer__population_imputer__method': ['custom'],\n",
       " 'preprocessor__construction_year__transform__method': ['median'],\n",
       " 'preprocessor__high_card__impute__missing_values': [nan],\n",
       " 'preprocessor__high_card__impute__strategy': ['most_frequent'],\n",
       " 'preprocessor__other_high_card__impute__missing_values': [nan],\n",
       " 'preprocessor__other_high_card__impute__strategy': ['mean'],\n",
       " 'preprocessor__scheme_management__impute__missing_values': [nan],\n",
       " 'preprocessor__scheme_management__impute__strategy': ['mean'],\n",
       " 'preprocessor__scheme_name__impute__missing_values': [nan],\n",
       " 'preprocessor__scheme_name__impute__strategy': ['mean'],\n",
       " 'preprocessor__cat__impute__missing_values': [nan],\n",
       " 'preprocessor__cat__impute__strategy': ['most_frequent'],\n",
       " 'preprocessor__district_code__impute__missing_values': [nan],\n",
       " 'preprocessor__district_code__impute__strategy': ['mean'],\n",
       " 'preprocessor__extraction__impute__missing_values': [nan],\n",
       " 'preprocessor__extraction__impute__strategy': ['most_frequent']}"
      ]
     },
     "execution_count": 16,
     "metadata": {},
     "output_type": "execute_result"
    }
   ],
   "source": [
    "lsvc_params"
   ]
  },
  {
   "cell_type": "markdown",
   "metadata": {},
   "source": [
    "### Fitting LinearSVC"
   ]
  },
  {
   "cell_type": "code",
   "execution_count": 177,
   "metadata": {},
   "outputs": [
    {
     "name": "stdout",
     "output_type": "stream",
     "text": [
      "Fitting 5 folds for each of 1 candidates, totalling 5 fits\n"
     ]
    },
    {
     "name": "stderr",
     "output_type": "stream",
     "text": [
      "[Parallel(n_jobs=-1)]: Using backend LokyBackend with 4 concurrent workers.\n",
      "[Parallel(n_jobs=-1)]: Done   2 out of   5 | elapsed:  4.7min remaining:  7.1min\n",
      "[Parallel(n_jobs=-1)]: Done   5 out of   5 | elapsed:  7.0min finished\n",
      "/Users/yrgg/data_science/projects/tanzania/notebooks/preprocessing.py:315: SettingWithCopyWarning: \n",
      "A value is trying to be set on a copy of a slice from a DataFrame.\n",
      "Try using .loc[row_indexer,col_indexer] = value instead\n",
      "\n",
      "See the caveats in the documentation: https://pandas.pydata.org/pandas-docs/stable/user_guide/indexing.html#returning-a-view-versus-a-copy\n",
      "  X[feature_name+'_'+target_col[-1:]] = X[feature_name].map(self.mean_map[target_col])\n",
      "/Users/yrgg/opt/anaconda3/envs/tanzania/lib/python3.8/site-packages/sklearn/svm/_base.py:976: ConvergenceWarning: Liblinear failed to converge, increase the number of iterations.\n",
      "  warnings.warn(\"Liblinear failed to converge, increase \"\n",
      "/Users/yrgg/data_science/projects/tanzania/notebooks/preprocessing.py:315: SettingWithCopyWarning: \n",
      "A value is trying to be set on a copy of a slice from a DataFrame.\n",
      "Try using .loc[row_indexer,col_indexer] = value instead\n",
      "\n",
      "See the caveats in the documentation: https://pandas.pydata.org/pandas-docs/stable/user_guide/indexing.html#returning-a-view-versus-a-copy\n",
      "  X[feature_name+'_'+target_col[-1:]] = X[feature_name].map(self.mean_map[target_col])\n"
     ]
    },
    {
     "name": "stdout",
     "output_type": "stream",
     "text": [
      "Best parameter (CV score=0.756):\n",
      "{'model__C': 1, 'model__dual': False, 'model__max_iter': 10000, 'model__multi_class': 'crammer_singer', 'model__penalty': 'l1', 'model__tol': 1, 'preprocessor__cat__impute__missing_values': nan, 'preprocessor__cat__impute__strategy': 'most_frequent', 'preprocessor__construction_year__transform__method': 'median', 'preprocessor__district_code__impute__missing_values': nan, 'preprocessor__district_code__impute__strategy': 'mean', 'preprocessor__extraction__impute__missing_values': nan, 'preprocessor__extraction__impute__strategy': 'most_frequent', 'preprocessor__gps_transformer__gps_height_imputer__method': 'custom', 'preprocessor__gps_transformer__lat_long_imputer__method': 'mean', 'preprocessor__gps_transformer__population_imputer__method': 'custom', 'preprocessor__high_card__impute__missing_values': nan, 'preprocessor__high_card__impute__strategy': 'most_frequent'}\n"
     ]
    },
    {
     "name": "stderr",
     "output_type": "stream",
     "text": [
      "/Users/yrgg/data_science/projects/tanzania/notebooks/preprocessing.py:315: SettingWithCopyWarning: \n",
      "A value is trying to be set on a copy of a slice from a DataFrame.\n",
      "Try using .loc[row_indexer,col_indexer] = value instead\n",
      "\n",
      "See the caveats in the documentation: https://pandas.pydata.org/pandas-docs/stable/user_guide/indexing.html#returning-a-view-versus-a-copy\n",
      "  X[feature_name+'_'+target_col[-1:]] = X[feature_name].map(self.mean_map[target_col])\n"
     ]
    }
   ],
   "source": [
    "from sklearn.svm import LinearSVC\n",
    "\n",
    "lsvc = {'model': LinearSVC(random_state=42), 'params': lsvc_params }\n",
    "lsvc_test_preds, lsvc_train_preds, lsvc_pipeline = fit_predict(\n",
    "    lsvc, X_train, X_test, y_train, y_test)"
   ]
  },
  {
   "cell_type": "code",
   "execution_count": 179,
   "metadata": {},
   "outputs": [
    {
     "name": "stdout",
     "output_type": "stream",
     "text": [
      "Model: LinearSVC\n",
      "------------------------------------------------------------\n"
     ]
    },
    {
     "data": {
      "image/png": "[encoded data removed]",
      "text/plain": [
       "<Figure size 432x288 with 2 Axes>"
      ]
     },
     "metadata": {
      "needs_background": "light"
     },
     "output_type": "display_data"
    },
    {
     "name": "stdout",
     "output_type": "stream",
     "text": [
      "------------------------------------------------------------\n",
      "test accuracy: 0.7618686868686869\n",
      "train accuracy: 0.7812920875420876\n",
      "------------------------------------------------------------\n",
      "\n",
      "test report:\n",
      "              precision    recall  f1-score   support\n",
      "\n",
      "           0       0.75      0.89      0.82      6457\n",
      "           1       0.56      0.18      0.27       851\n",
      "           2       0.79      0.69      0.74      4572\n",
      "\n",
      "    accuracy                           0.76     11880\n",
      "   macro avg       0.70      0.59      0.61     11880\n",
      "weighted avg       0.75      0.76      0.75     11880\n",
      "\n",
      "~~~~~~~~~~~~~~~~~~~~~~~~~~~~~~~~~~~~~~~~~~~~~~~~~~~~~~~~~~~~\n",
      "\n",
      "train report:\n",
      "              precision    recall  f1-score   support\n",
      "\n",
      "           0       0.77      0.90      0.83     25802\n",
      "           1       0.64      0.21      0.32      3466\n",
      "           2       0.82      0.71      0.76     18252\n",
      "\n",
      "    accuracy                           0.78     47520\n",
      "   macro avg       0.74      0.61      0.64     47520\n",
      "weighted avg       0.78      0.78      0.77     47520\n",
      "\n",
      "------------------------------------------------------------\n"
     ]
    }
   ],
   "source": [
    "metrics('LinearSVC', y_train, y_test, lsvc_train_preds, lsvc_test_preds)"
   ]
  },
  {
   "cell_type": "markdown",
   "metadata": {},
   "source": [
    "### Evaluating LinearSVC (pre-pipe)"
   ]
  },
  {
   "cell_type": "code",
   "execution_count": 501,
   "metadata": {
    "scrolled": false
   },
   "outputs": [
    {
     "name": "stdout",
     "output_type": "stream",
     "text": [
      "Model: LinearSVC\n",
      "------------------------------------------------------------\n"
     ]
    },
    {
     "data": {
      "image/png": "[encoded data removed]",
      "text/plain": [
       "<Figure size 432x288 with 2 Axes>"
      ]
     },
     "metadata": {
      "needs_background": "light"
     },
     "output_type": "display_data"
    },
    {
     "name": "stdout",
     "output_type": "stream",
     "text": [
      "------------------------------------------------------------\n",
      "test accuracy: 0.620253164556962\n",
      "train accuracy: 0.6458521870286577\n",
      "------------------------------------------------------------\n",
      "\n",
      "test report:\n",
      "              precision    recall  f1-score   support\n",
      "\n",
      "           0       0.62      0.60      0.61       495\n",
      "           1       0.61      0.69      0.65       461\n",
      "           2       0.63      0.58      0.60       466\n",
      "\n",
      "    accuracy                           0.62      1422\n",
      "   macro avg       0.62      0.62      0.62      1422\n",
      "weighted avg       0.62      0.62      0.62      1422\n",
      "\n",
      "~~~~~~~~~~~~~~~~~~~~~~~~~~~~~~~~~~~~~~~~~~~~~~~~~~~~~~~~~~~~\n",
      "\n",
      "train report:\n",
      "              precision    recall  f1-score   support\n",
      "\n",
      "           0       0.62      0.62      0.62      1084\n",
      "           1       0.64      0.71      0.67      1118\n",
      "           2       0.68      0.60      0.64      1113\n",
      "\n",
      "    accuracy                           0.65      3315\n",
      "   macro avg       0.65      0.65      0.64      3315\n",
      "weighted avg       0.65      0.65      0.65      3315\n",
      "\n",
      "------------------------------------------------------------\n"
     ]
    }
   ],
   "source": [
    "# metrics('LinearSVC', y_train, y_test, lsvc_train_preds, lsvc_test_preds)"
   ]
  },
  {
   "cell_type": "markdown",
   "metadata": {},
   "source": [
    "## KNN"
   ]
  },
  {
   "cell_type": "markdown",
   "metadata": {},
   "source": [
    "### Why KNN\n",
    "KNNs are a non-parametric, lazy learning algorithm. It makes no underlying assumptions about the distribution of data. \n",
    "\n",
    "No training is necessary! \n",
    "\n",
    "KNN makes predictions just-in-time by calculating the similarity between an input sample and each training instance.\n",
    "\n",
    "It is a Simple algorithm — to explain and understand/interpret. It is versatile — useful for classification or regression."
   ]
  },
  {
   "cell_type": "markdown",
   "metadata": {},
   "source": [
    "### Hyperparameters"
   ]
  },
  {
   "cell_type": "code",
   "execution_count": 45,
   "metadata": {},
   "outputs": [],
   "source": [
    "knn_params = {\n",
    "#     'pca__n_components': range(80, 120, 20),\n",
    "    # amount of neighbors\n",
    "    'model__n_neighbors': [5],\n",
    "    # leaf size\n",
    "    'model__leaf_size': [1],\n",
    "    'model__weights': ['distance'],\n",
    "    'model__p': [2]\n",
    "}\n",
    "\n",
    "knn_params.update(preprocessor_params)"
   ]
  },
  {
   "cell_type": "markdown",
   "metadata": {},
   "source": [
    "### Fitting KNN"
   ]
  },
  {
   "cell_type": "code",
   "execution_count": 46,
   "metadata": {},
   "outputs": [
    {
     "name": "stdout",
     "output_type": "stream",
     "text": [
      "Fitting 5 folds for each of 1 candidates, totalling 5 fits\n"
     ]
    },
    {
     "name": "stderr",
     "output_type": "stream",
     "text": [
      "[Parallel(n_jobs=-1)]: Using backend LokyBackend with 4 concurrent workers.\n",
      "[Parallel(n_jobs=-1)]: Done   2 out of   5 | elapsed: 10.3min remaining: 15.4min\n",
      "[Parallel(n_jobs=-1)]: Done   5 out of   5 | elapsed: 15.2min finished\n",
      "/Users/yrgg/data_science/projects/tanzania/notebooks/preprocessing.py:315: SettingWithCopyWarning: \n",
      "A value is trying to be set on a copy of a slice from a DataFrame.\n",
      "Try using .loc[row_indexer,col_indexer] = value instead\n",
      "\n",
      "See the caveats in the documentation: https://pandas.pydata.org/pandas-docs/stable/user_guide/indexing.html#returning-a-view-versus-a-copy\n",
      "  X[feature_name+'_'+target_col[-1:]] = X[feature_name].map(self.mean_map[target_col])\n",
      "/Users/yrgg/data_science/projects/tanzania/notebooks/preprocessing.py:315: SettingWithCopyWarning: \n",
      "A value is trying to be set on a copy of a slice from a DataFrame.\n",
      "Try using .loc[row_indexer,col_indexer] = value instead\n",
      "\n",
      "See the caveats in the documentation: https://pandas.pydata.org/pandas-docs/stable/user_guide/indexing.html#returning-a-view-versus-a-copy\n",
      "  X[feature_name+'_'+target_col[-1:]] = X[feature_name].map(self.mean_map[target_col])\n",
      "/Users/yrgg/data_science/projects/tanzania/notebooks/preprocessing.py:315: SettingWithCopyWarning: \n",
      "A value is trying to be set on a copy of a slice from a DataFrame.\n",
      "Try using .loc[row_indexer,col_indexer] = value instead\n",
      "\n",
      "See the caveats in the documentation: https://pandas.pydata.org/pandas-docs/stable/user_guide/indexing.html#returning-a-view-versus-a-copy\n",
      "  X[feature_name+'_'+target_col[-1:]] = X[feature_name].map(self.mean_map[target_col])\n"
     ]
    },
    {
     "name": "stdout",
     "output_type": "stream",
     "text": [
      "Best parameter (CV score=0.780):\n",
      "{'model__leaf_size': 1, 'model__n_neighbors': 5, 'model__p': 2, 'model__weights': 'distance', 'preprocessor__cat__impute__missing_values': nan, 'preprocessor__cat__impute__strategy': 'most_frequent', 'preprocessor__construction_year__transform__method': 'custom', 'preprocessor__district_code__impute__missing_values': nan, 'preprocessor__district_code__impute__strategy': 'mean', 'preprocessor__extraction__impute__missing_values': nan, 'preprocessor__extraction__impute__strategy': 'most_frequent', 'preprocessor__gps_transformer__gps_height_imputer__method': 'custom', 'preprocessor__gps_transformer__lat_long_imputer__method': 'custom', 'preprocessor__gps_transformer__population_imputer__method': 'custom', 'preprocessor__high_card__impute__missing_values': nan, 'preprocessor__high_card__impute__strategy': 'most_frequent', 'preprocessor__other_high_card__impute__missing_values': nan, 'preprocessor__other_high_card__impute__strategy': 'mean', 'preprocessor__scheme_management__impute__missing_values': nan, 'preprocessor__scheme_management__impute__strategy': 'mean', 'preprocessor__scheme_name__impute__missing_values': nan, 'preprocessor__scheme_name__impute__strategy': 'mean'}\n"
     ]
    }
   ],
   "source": [
    "from sklearn.neighbors import KNeighborsClassifier\n",
    "knn = { 'model': KNeighborsClassifier(), 'params': knn_params }\n",
    "knn_test_preds, knn_train_preds, knn_pipeline = fit_predict(knn, X_train, X_test, y_train, y_test)"
   ]
  },
  {
   "cell_type": "code",
   "execution_count": 50,
   "metadata": {},
   "outputs": [
    {
     "name": "stdout",
     "output_type": "stream",
     "text": [
      "Model: k-NN\n",
      "------------------------------------------------------------\n"
     ]
    },
    {
     "data": {
      "image/png": "[encoded data removed]",
      "text/plain": [
       "<Figure size 432x288 with 2 Axes>"
      ]
     },
     "metadata": {
      "needs_background": "light"
     },
     "output_type": "display_data"
    },
    {
     "name": "stdout",
     "output_type": "stream",
     "text": [
      "------------------------------------------------------------\n",
      "test accuracy: 0.7849326599326599\n",
      "train accuracy: 0.9983585858585858\n",
      "------------------------------------------------------------\n",
      "\n",
      "test report:\n",
      "              precision    recall  f1-score   support\n",
      "\n",
      "           0       0.80      0.85      0.83      6457\n",
      "           1       0.48      0.36      0.41       851\n",
      "           2       0.81      0.77      0.79      4572\n",
      "\n",
      "    accuracy                           0.78     11880\n",
      "   macro avg       0.69      0.66      0.67     11880\n",
      "weighted avg       0.78      0.78      0.78     11880\n",
      "\n",
      "~~~~~~~~~~~~~~~~~~~~~~~~~~~~~~~~~~~~~~~~~~~~~~~~~~~~~~~~~~~~\n",
      "\n",
      "train report:\n",
      "              precision    recall  f1-score   support\n",
      "\n",
      "           0       1.00      1.00      1.00     25802\n",
      "           1       1.00      0.99      0.99      3466\n",
      "           2       1.00      1.00      1.00     18252\n",
      "\n",
      "    accuracy                           1.00     47520\n",
      "   macro avg       1.00      0.99      1.00     47520\n",
      "weighted avg       1.00      1.00      1.00     47520\n",
      "\n",
      "------------------------------------------------------------\n"
     ]
    }
   ],
   "source": [
    "metrics('k-NN', y_train, y_test, knn_train_preds, knn_test_preds)"
   ]
  },
  {
   "cell_type": "markdown",
   "metadata": {},
   "source": [
    "### Evaluating KNN (pre-pipe)"
   ]
  },
  {
   "cell_type": "code",
   "execution_count": 676,
   "metadata": {},
   "outputs": [
    {
     "name": "stdout",
     "output_type": "stream",
     "text": [
      "Model: k-NN\n",
      "------------------------------------------------------------\n"
     ]
    },
    {
     "data": {
      "image/png": "[encoded data removed]",
      "text/plain": [
       "<Figure size 432x288 with 2 Axes>"
      ]
     },
     "metadata": {
      "needs_background": "light"
     },
     "output_type": "display_data"
    },
    {
     "name": "stdout",
     "output_type": "stream",
     "text": [
      "------------------------------------------------------------\n",
      "test accuracy: 0.7415950920245399\n",
      "train accuracy: 0.9979749631811488\n",
      "------------------------------------------------------------\n",
      "\n",
      "test report:\n",
      "              precision    recall  f1-score   support\n",
      "\n",
      "           0       0.74      0.96      0.83      2683\n",
      "           1       0.67      0.22      0.33       316\n",
      "           2       0.79      0.34      0.48      1076\n",
      "\n",
      "    accuracy                           0.74      4075\n",
      "   macro avg       0.73      0.51      0.55      4075\n",
      "weighted avg       0.75      0.74      0.70      4075\n",
      "\n",
      "~~~~~~~~~~~~~~~~~~~~~~~~~~~~~~~~~~~~~~~~~~~~~~~~~~~~~~~~~~~~\n",
      "\n",
      "train report:\n",
      "              precision    recall  f1-score   support\n",
      "\n",
      "           0       1.00      1.00      1.00     10729\n",
      "           1       1.00      0.99      1.00      1263\n",
      "           2       1.00      0.99      1.00      4304\n",
      "\n",
      "    accuracy                           1.00     16296\n",
      "   macro avg       1.00      1.00      1.00     16296\n",
      "weighted avg       1.00      1.00      1.00     16296\n",
      "\n",
      "------------------------------------------------------------\n"
     ]
    }
   ],
   "source": [
    "# metrics('k-NN', y_total_train, y_total_test, knn_train_preds, knn_test_preds)"
   ]
  },
  {
   "cell_type": "markdown",
   "metadata": {},
   "source": [
    "## XGBoost"
   ]
  },
  {
   "cell_type": "markdown",
   "metadata": {},
   "source": [
    "### Why XGBoost"
   ]
  },
  {
   "cell_type": "markdown",
   "metadata": {},
   "source": [
    "### Hyperparameters"
   ]
  },
  {
   "cell_type": "code",
   "execution_count": 36,
   "metadata": {},
   "outputs": [],
   "source": [
    "xgb_params = {\n",
    "#     'pca__n_components': range(20, 60, 20),\n",
    "    'model__colsample_bytree': [.3],       # how many features to use per estimator/tree\n",
    "    'model__eta': [.01],                   # learning rate\n",
    "    'model__n_estimators': [500],         # how many models/estimators/trees to make\n",
    "    'model__gamma': [3],                   # larger gamma, more conservitive. lower means more overfitting\n",
    "    'model__max_depth': [12],              # higher number means more overfitting\n",
    "    'model__objective': ['multi:softmax'], # for multiclass \n",
    "    'model__num_class': [3],               # for multiclass\n",
    "    'model__eval_metric': ['merror'],      # for multiclass\n",
    "}\n",
    "\n",
    "xgb_params.update(preprocessor_params)"
   ]
  },
  {
   "cell_type": "markdown",
   "metadata": {},
   "source": [
    "### Fitting XGBoost"
   ]
  },
  {
   "cell_type": "code",
   "execution_count": 37,
   "metadata": {},
   "outputs": [
    {
     "name": "stdout",
     "output_type": "stream",
     "text": [
      "Fitting 5 folds for each of 1 candidates, totalling 5 fits\n"
     ]
    },
    {
     "name": "stderr",
     "output_type": "stream",
     "text": [
      "[Parallel(n_jobs=-1)]: Using backend LokyBackend with 4 concurrent workers.\n",
      "[Parallel(n_jobs=-1)]: Done   2 out of   5 | elapsed: 16.3min remaining: 24.5min\n",
      "[Parallel(n_jobs=-1)]: Done   5 out of   5 | elapsed: 24.5min finished\n",
      "/Users/yrgg/data_science/projects/tanzania/notebooks/preprocessing.py:315: SettingWithCopyWarning: \n",
      "A value is trying to be set on a copy of a slice from a DataFrame.\n",
      "Try using .loc[row_indexer,col_indexer] = value instead\n",
      "\n",
      "See the caveats in the documentation: https://pandas.pydata.org/pandas-docs/stable/user_guide/indexing.html#returning-a-view-versus-a-copy\n",
      "  X[feature_name+'_'+target_col[-1:]] = X[feature_name].map(self.mean_map[target_col])\n",
      "/Users/yrgg/data_science/projects/tanzania/notebooks/preprocessing.py:315: SettingWithCopyWarning: \n",
      "A value is trying to be set on a copy of a slice from a DataFrame.\n",
      "Try using .loc[row_indexer,col_indexer] = value instead\n",
      "\n",
      "See the caveats in the documentation: https://pandas.pydata.org/pandas-docs/stable/user_guide/indexing.html#returning-a-view-versus-a-copy\n",
      "  X[feature_name+'_'+target_col[-1:]] = X[feature_name].map(self.mean_map[target_col])\n",
      "/Users/yrgg/data_science/projects/tanzania/notebooks/preprocessing.py:315: SettingWithCopyWarning: \n",
      "A value is trying to be set on a copy of a slice from a DataFrame.\n",
      "Try using .loc[row_indexer,col_indexer] = value instead\n",
      "\n",
      "See the caveats in the documentation: https://pandas.pydata.org/pandas-docs/stable/user_guide/indexing.html#returning-a-view-versus-a-copy\n",
      "  X[feature_name+'_'+target_col[-1:]] = X[feature_name].map(self.mean_map[target_col])\n"
     ]
    },
    {
     "name": "stdout",
     "output_type": "stream",
     "text": [
      "Best parameter (CV score=0.791):\n",
      "{'model__colsample_bytree': 0.3, 'model__eta': 0.01, 'model__eval_metric': 'merror', 'model__gamma': 3, 'model__max_depth': 12, 'model__n_estimators': 500, 'model__num_class': 3, 'model__objective': 'multi:softmax', 'preprocessor__cat__impute__missing_values': nan, 'preprocessor__cat__impute__strategy': 'most_frequent', 'preprocessor__construction_year__transform__method': 'median', 'preprocessor__district_code__impute__missing_values': nan, 'preprocessor__district_code__impute__strategy': 'mean', 'preprocessor__extraction__impute__missing_values': nan, 'preprocessor__extraction__impute__strategy': 'most_frequent', 'preprocessor__gps_transformer__gps_height_imputer__method': 'custom', 'preprocessor__gps_transformer__lat_long_imputer__method': 'mean', 'preprocessor__gps_transformer__population_imputer__method': 'custom', 'preprocessor__high_card__impute__missing_values': nan, 'preprocessor__high_card__impute__strategy': 'most_frequent', 'preprocessor__other_high_card__impute__missing_values': nan, 'preprocessor__other_high_card__impute__strategy': 'mean', 'preprocessor__scheme_management__impute__missing_values': nan, 'preprocessor__scheme_management__impute__strategy': 'mean', 'preprocessor__scheme_name__impute__missing_values': nan, 'preprocessor__scheme_name__impute__strategy': 'mean'}\n"
     ]
    }
   ],
   "source": [
    "from xgboost import XGBClassifier\n",
    "\n",
    "xgb = { 'model': XGBClassifier(random_state=42), 'params': xgb_params }\n",
    "\n",
    "xgb_test_preds, xgb_train_preds, xgboost_pipe = fit_predict(xgb, X_train, X_test, y_train, y_test)"
   ]
  },
  {
   "cell_type": "code",
   "execution_count": 38,
   "metadata": {},
   "outputs": [
    {
     "name": "stdout",
     "output_type": "stream",
     "text": [
      "Model: XGBoost\n",
      "------------------------------------------------------------\n"
     ]
    },
    {
     "data": {
      "image/png": "[encoded data removed]",
      "text/plain": [
       "<Figure size 432x288 with 2 Axes>"
      ]
     },
     "metadata": {
      "needs_background": "light"
     },
     "output_type": "display_data"
    },
    {
     "name": "stdout",
     "output_type": "stream",
     "text": [
      "------------------------------------------------------------\n",
      "test accuracy: 0.8003367003367003\n",
      "train accuracy: 0.8503577441077441\n",
      "------------------------------------------------------------\n",
      "\n",
      "test report:\n",
      "              precision    recall  f1-score   support\n",
      "\n",
      "           0       0.79      0.90      0.84      6457\n",
      "           1       0.63      0.31      0.42       851\n",
      "           2       0.83      0.75      0.79      4572\n",
      "\n",
      "    accuracy                           0.80     11880\n",
      "   macro avg       0.75      0.65      0.68     11880\n",
      "weighted avg       0.80      0.80      0.79     11880\n",
      "\n",
      "~~~~~~~~~~~~~~~~~~~~~~~~~~~~~~~~~~~~~~~~~~~~~~~~~~~~~~~~~~~~\n",
      "\n",
      "train report:\n",
      "              precision    recall  f1-score   support\n",
      "\n",
      "           0       0.83      0.94      0.88     25802\n",
      "           1       0.77      0.39      0.52      3466\n",
      "           2       0.90      0.81      0.85     18252\n",
      "\n",
      "    accuracy                           0.85     47520\n",
      "   macro avg       0.83      0.71      0.75     47520\n",
      "weighted avg       0.85      0.85      0.84     47520\n",
      "\n",
      "------------------------------------------------------------\n"
     ]
    }
   ],
   "source": [
    "metrics('XGBoost', y_train, y_test, xgb_train_preds, xgb_test_preds)"
   ]
  },
  {
   "cell_type": "markdown",
   "metadata": {},
   "source": [
    "### Evaluating XGBoost (pre-pipe)"
   ]
  },
  {
   "cell_type": "code",
   "execution_count": 652,
   "metadata": {},
   "outputs": [
    {
     "name": "stdout",
     "output_type": "stream",
     "text": [
      "Model: XGBoost, sub\n",
      "------------------------------------------------------------\n"
     ]
    },
    {
     "data": {
      "image/png": "[encoded data removed]",
      "text/plain": [
       "<Figure size 432x288 with 2 Axes>"
      ]
     },
     "metadata": {
      "needs_background": "light"
     },
     "output_type": "display_data"
    },
    {
     "name": "stdout",
     "output_type": "stream",
     "text": [
      "------------------------------------------------------------\n",
      "test accuracy: 0.6617440225035162\n",
      "train accuracy: 0.718552036199095\n",
      "------------------------------------------------------------\n",
      "\n",
      "test report:\n",
      "              precision    recall  f1-score   support\n",
      "\n",
      "           0       0.66      0.64      0.65       495\n",
      "           1       0.65      0.72      0.68       461\n",
      "           2       0.68      0.63      0.65       466\n",
      "\n",
      "    accuracy                           0.66      1422\n",
      "   macro avg       0.66      0.66      0.66      1422\n",
      "weighted avg       0.66      0.66      0.66      1422\n",
      "\n",
      "~~~~~~~~~~~~~~~~~~~~~~~~~~~~~~~~~~~~~~~~~~~~~~~~~~~~~~~~~~~~\n",
      "\n",
      "train report:\n",
      "              precision    recall  f1-score   support\n",
      "\n",
      "           0       0.69      0.70      0.69      1084\n",
      "           1       0.72      0.77      0.75      1118\n",
      "           2       0.75      0.68      0.71      1113\n",
      "\n",
      "    accuracy                           0.72      3315\n",
      "   macro avg       0.72      0.72      0.72      3315\n",
      "weighted avg       0.72      0.72      0.72      3315\n",
      "\n",
      "------------------------------------------------------------\n"
     ]
    }
   ],
   "source": [
    "metrics('XGBoost, sub', y_train, y_test, xgb_train_preds, xgb_test_preds)"
   ]
  },
  {
   "cell_type": "code",
   "execution_count": 653,
   "metadata": {},
   "outputs": [],
   "source": [
    "y_total_pipe_pred = xgboost_pipe.predict(X_total_test)"
   ]
  },
  {
   "cell_type": "code",
   "execution_count": 655,
   "metadata": {},
   "outputs": [
    {
     "name": "stdout",
     "output_type": "stream",
     "text": [
      "              precision    recall  f1-score   support\n",
      "\n",
      "           0       0.87      0.62      0.73      2683\n",
      "           1       0.24      0.71      0.36       316\n",
      "           2       0.59      0.66      0.63      1076\n",
      "\n",
      "    accuracy                           0.64      4075\n",
      "   macro avg       0.57      0.67      0.57      4075\n",
      "weighted avg       0.75      0.64      0.67      4075\n",
      "\n"
     ]
    }
   ],
   "source": [
    "print(classification_report(y_total_test, y_total_pipe_pred))"
   ]
  },
  {
   "cell_type": "code",
   "execution_count": 656,
   "metadata": {},
   "outputs": [
    {
     "data": {
      "image/png": "[encoded data removed]",
      "text/plain": [
       "<Figure size 432x288 with 2 Axes>"
      ]
     },
     "metadata": {
      "needs_background": "light"
     },
     "output_type": "display_data"
    }
   ],
   "source": [
    "plot_confusion_matrix(y_total_test, y_total_pipe_pred)"
   ]
  },
  {
   "cell_type": "markdown",
   "metadata": {},
   "source": [
    "### Highest Score overall, lowest recall for class 'functional needs repair'"
   ]
  },
  {
   "cell_type": "code",
   "execution_count": 472,
   "metadata": {},
   "outputs": [
    {
     "name": "stdout",
     "output_type": "stream",
     "text": [
      "Model: XGBoost, all data\n",
      "------------------------------------------------------------\n"
     ]
    },
    {
     "data": {
      "image/png": "[encoded data removed]",
      "text/plain": [
       "<Figure size 432x288 with 2 Axes>"
      ]
     },
     "metadata": {
      "needs_background": "light"
     },
     "output_type": "display_data"
    },
    {
     "name": "stdout",
     "output_type": "stream",
     "text": [
      "------------------------------------------------------------\n",
      "test accuracy: 0.7886125654450262\n",
      "train accuracy: 0.8231292517006803\n",
      "------------------------------------------------------------\n",
      "\n",
      "test report:\n",
      "              precision    recall  f1-score   support\n",
      "\n",
      "           0       0.79      0.95      0.86      4023\n",
      "           1       0.64      0.20      0.30       463\n",
      "           2       0.82      0.56      0.66      1626\n",
      "\n",
      "    accuracy                           0.79      6112\n",
      "   macro avg       0.75      0.57      0.61      6112\n",
      "weighted avg       0.78      0.79      0.77      6112\n",
      "\n",
      "~~~~~~~~~~~~~~~~~~~~~~~~~~~~~~~~~~~~~~~~~~~~~~~~~~~~~~~~~~~~\n",
      "\n",
      "train report:\n",
      "              precision    recall  f1-score   support\n",
      "\n",
      "           0       0.81      0.97      0.88      9389\n",
      "           1       0.75      0.26      0.38      1116\n",
      "           2       0.87      0.62      0.73      3754\n",
      "\n",
      "    accuracy                           0.82     14259\n",
      "   macro avg       0.81      0.62      0.67     14259\n",
      "weighted avg       0.82      0.82      0.80     14259\n",
      "\n",
      "------------------------------------------------------------\n"
     ]
    }
   ],
   "source": [
    "metrics('XGBoost, all data', y_total_train, y_total_test, xgb_train_preds, xgb_test_preds)"
   ]
  },
  {
   "cell_type": "markdown",
   "metadata": {},
   "source": [
    "## Random Forest"
   ]
  },
  {
   "cell_type": "markdown",
   "metadata": {},
   "source": [
    "### Fitting Random Forest"
   ]
  },
  {
   "cell_type": "code",
   "execution_count": 43,
   "metadata": {},
   "outputs": [],
   "source": [
    "from sklearn.tree import DecisionTreeClassifier\n",
    "from sklearn.ensemble import BaggingClassifier, RandomForestClassifier\n",
    "\n",
    "rfc_params = {\n",
    "    'model__n_estimators' : [100],      # number of decision trees to be created\n",
    "    'model__criterion' : ['gini'], # function that is to be used for splitting\n",
    "    'model__max_depth': [10],                # maximum depth of the trees\n",
    "    'model__min_samples_split' : [10],       # minimum number of samples required in a leaf node before a split is attempted\n",
    "    'model__min_samples_leaf' : [1]          # minimum number of samples required to be at a leaf node. \n",
    "}                   \n",
    "                                             # Smaller leaf size makes the model more prone to capturing noise in train data.\n",
    "    \n",
    "rfc_params.update(preprocessor_params)"
   ]
  },
  {
   "cell_type": "code",
   "execution_count": 44,
   "metadata": {},
   "outputs": [
    {
     "name": "stdout",
     "output_type": "stream",
     "text": [
      "Fitting 5 folds for each of 1 candidates, totalling 5 fits\n"
     ]
    },
    {
     "name": "stderr",
     "output_type": "stream",
     "text": [
      "[Parallel(n_jobs=-1)]: Using backend LokyBackend with 4 concurrent workers.\n",
      "[Parallel(n_jobs=-1)]: Done   2 out of   5 | elapsed: 12.8min remaining: 19.2min\n",
      "[Parallel(n_jobs=-1)]: Done   5 out of   5 | elapsed: 17.9min finished\n",
      "/Users/yrgg/data_science/projects/tanzania/notebooks/preprocessing.py:315: SettingWithCopyWarning: \n",
      "A value is trying to be set on a copy of a slice from a DataFrame.\n",
      "Try using .loc[row_indexer,col_indexer] = value instead\n",
      "\n",
      "See the caveats in the documentation: https://pandas.pydata.org/pandas-docs/stable/user_guide/indexing.html#returning-a-view-versus-a-copy\n",
      "  X[feature_name+'_'+target_col[-1:]] = X[feature_name].map(self.mean_map[target_col])\n",
      "/Users/yrgg/data_science/projects/tanzania/notebooks/preprocessing.py:315: SettingWithCopyWarning: \n",
      "A value is trying to be set on a copy of a slice from a DataFrame.\n",
      "Try using .loc[row_indexer,col_indexer] = value instead\n",
      "\n",
      "See the caveats in the documentation: https://pandas.pydata.org/pandas-docs/stable/user_guide/indexing.html#returning-a-view-versus-a-copy\n",
      "  X[feature_name+'_'+target_col[-1:]] = X[feature_name].map(self.mean_map[target_col])\n",
      "/Users/yrgg/data_science/projects/tanzania/notebooks/preprocessing.py:315: SettingWithCopyWarning: \n",
      "A value is trying to be set on a copy of a slice from a DataFrame.\n",
      "Try using .loc[row_indexer,col_indexer] = value instead\n",
      "\n",
      "See the caveats in the documentation: https://pandas.pydata.org/pandas-docs/stable/user_guide/indexing.html#returning-a-view-versus-a-copy\n",
      "  X[feature_name+'_'+target_col[-1:]] = X[feature_name].map(self.mean_map[target_col])\n"
     ]
    },
    {
     "name": "stdout",
     "output_type": "stream",
     "text": [
      "Best parameter (CV score=0.771):\n",
      "{'model__criterion': 'gini', 'model__max_depth': 10, 'model__min_samples_leaf': 1, 'model__min_samples_split': 10, 'model__n_estimators': 100, 'preprocessor__cat__impute__missing_values': nan, 'preprocessor__cat__impute__strategy': 'most_frequent', 'preprocessor__construction_year__transform__method': 'custom', 'preprocessor__district_code__impute__missing_values': nan, 'preprocessor__district_code__impute__strategy': 'mean', 'preprocessor__extraction__impute__missing_values': nan, 'preprocessor__extraction__impute__strategy': 'most_frequent', 'preprocessor__gps_transformer__gps_height_imputer__method': 'custom', 'preprocessor__gps_transformer__lat_long_imputer__method': 'custom', 'preprocessor__gps_transformer__population_imputer__method': 'custom', 'preprocessor__high_card__impute__missing_values': nan, 'preprocessor__high_card__impute__strategy': 'most_frequent', 'preprocessor__other_high_card__impute__missing_values': nan, 'preprocessor__other_high_card__impute__strategy': 'mean', 'preprocessor__scheme_management__impute__missing_values': nan, 'preprocessor__scheme_management__impute__strategy': 'mean', 'preprocessor__scheme_name__impute__missing_values': nan, 'preprocessor__scheme_name__impute__strategy': 'mean'}\n"
     ]
    }
   ],
   "source": [
    "rfc = { 'model': RandomForestClassifier(random_state=42), 'params': rfc_params }\n",
    "\n",
    "rfc_test_preds, rfc_train_preds, rfc_pipeline = fit_predict(rfc, X_train, X_test, y_train, y_test)"
   ]
  },
  {
   "cell_type": "markdown",
   "metadata": {},
   "source": [
    "### Evaluating Random Forest"
   ]
  },
  {
   "cell_type": "code",
   "execution_count": 51,
   "metadata": {},
   "outputs": [
    {
     "name": "stdout",
     "output_type": "stream",
     "text": [
      "Model: Random Forest\n",
      "------------------------------------------------------------\n"
     ]
    },
    {
     "data": {
      "image/png": "[encoded data removed]",
      "text/plain": [
       "<Figure size 432x288 with 2 Axes>"
      ]
     },
     "metadata": {
      "needs_background": "light"
     },
     "output_type": "display_data"
    },
    {
     "name": "stdout",
     "output_type": "stream",
     "text": [
      "------------------------------------------------------------\n",
      "test accuracy: 0.7759259259259259\n",
      "train accuracy: 0.8112373737373737\n",
      "------------------------------------------------------------\n",
      "\n",
      "test report:\n",
      "              precision    recall  f1-score   support\n",
      "\n",
      "           0       0.76      0.90      0.82      6457\n",
      "           1       0.68      0.19      0.30       851\n",
      "           2       0.81      0.71      0.76      4572\n",
      "\n",
      "    accuracy                           0.78     11880\n",
      "   macro avg       0.75      0.60      0.63     11880\n",
      "weighted avg       0.77      0.78      0.76     11880\n",
      "\n",
      "~~~~~~~~~~~~~~~~~~~~~~~~~~~~~~~~~~~~~~~~~~~~~~~~~~~~~~~~~~~~\n",
      "\n",
      "train report:\n",
      "              precision    recall  f1-score   support\n",
      "\n",
      "           0       0.79      0.93      0.85     25802\n",
      "           1       0.77      0.23      0.36      3466\n",
      "           2       0.86      0.75      0.80     18252\n",
      "\n",
      "    accuracy                           0.81     47520\n",
      "   macro avg       0.81      0.64      0.67     47520\n",
      "weighted avg       0.81      0.81      0.80     47520\n",
      "\n",
      "------------------------------------------------------------\n"
     ]
    }
   ],
   "source": [
    "metrics('Random Forest', y_train, y_test, rfc_train_preds, rfc_test_preds)"
   ]
  },
  {
   "cell_type": "markdown",
   "metadata": {},
   "source": [
    "## Conclusion"
   ]
  },
  {
   "cell_type": "markdown",
   "metadata": {},
   "source": [
    "### Top Features"
   ]
  },
  {
   "cell_type": "code",
   "execution_count": 85,
   "metadata": {},
   "outputs": [],
   "source": [
    "def get_categorical():\n",
    "    feature_names = []\n",
    "    for key in ['high_card', 'other_high_card', 'scheme_management', 'scheme_name', 'cat', 'extraction']:\n",
    "        try:\n",
    "            feature_names += xgboost_pipe.best_estimator_.named_steps['preprocessor'].named_transformers_[key].named_steps['transform'].column_names.tolist()\n",
    "        except:\n",
    "            feature_names += list(xgboost_pipe.best_estimator_.named_steps['preprocessor'].named_transformers_[key].named_steps['onehot'].get_feature_names())\n",
    "    return feature_names"
   ]
  },
  {
   "cell_type": "code",
   "execution_count": 1,
   "metadata": {},
   "outputs": [
    {
     "ename": "ModuleNotFoundError",
     "evalue": "No module named 'eli5'",
     "output_type": "error",
     "traceback": [
      "\u001b[0;31m---------------------------------------------------------------------------\u001b[0m",
      "\u001b[0;31mModuleNotFoundError\u001b[0m                       Traceback (most recent call last)",
      "\u001b[0;32m<ipython-input-1-69b3d9d7b635>\u001b[0m in \u001b[0;36m<module>\u001b[0;34m\u001b[0m\n\u001b[0;32m----> 1\u001b[0;31m \u001b[0;32mimport\u001b[0m \u001b[0meli5\u001b[0m\u001b[0;34m\u001b[0m\u001b[0;34m\u001b[0m\u001b[0m\n\u001b[0m\u001b[1;32m      2\u001b[0m \u001b[0;32mdef\u001b[0m \u001b[0mtop_feat\u001b[0m\u001b[0;34m(\u001b[0m\u001b[0mmodel_pipe\u001b[0m\u001b[0;34m)\u001b[0m\u001b[0;34m:\u001b[0m\u001b[0;34m\u001b[0m\u001b[0;34m\u001b[0m\u001b[0m\n\u001b[1;32m      3\u001b[0m     '''This function is used to find the best features of our models\n\u001b[1;32m      4\u001b[0m \u001b[0;34m\u001b[0m\u001b[0m\n\u001b[1;32m      5\u001b[0m     \u001b[0mArgs\u001b[0m\u001b[0;34m:\u001b[0m\u001b[0;34m\u001b[0m\u001b[0;34m\u001b[0m\u001b[0m\n",
      "\u001b[0;31mModuleNotFoundError\u001b[0m: No module named 'eli5'"
     ]
    }
   ],
   "source": [
    "import eli5\n",
    "def top_feat(model_pipe):\n",
    "    '''This function is used to find the best features of our models\n",
    "\n",
    "    Args:\n",
    "        model_pipe (GridSearchCV): model_pipe is a pipeline\n",
    "\n",
    "    Returns:\n",
    "        the top features of the model\n",
    "    '''\n",
    "\n",
    "    onehot_columns = get_categorical()\n",
    "    numeric_features_list = list(X.select_dtypes(include='number').columns)\n",
    "    numeric_features_list.extend(onehot_columns)\n",
    "    return eli5.explain_weights(model_pipe.best_estimator_.named_steps['model'], top=20, feature_names=numeric_features_list)"
   ]
  },
  {
   "cell_type": "code",
   "execution_count": 98,
   "metadata": {},
   "outputs": [
    {
     "data": {
      "text/plain": [
       "['installer_0',\n",
       " 'installer_1',\n",
       " 'installer_2',\n",
       " 'lga_0',\n",
       " 'lga_1',\n",
       " 'lga_2',\n",
       " 'ward_0',\n",
       " 'ward_1',\n",
       " 'ward_2',\n",
       " 'funder_0',\n",
       " 'funder_1',\n",
       " 'funder_2',\n",
       " 'scheme_management_0',\n",
       " 'scheme_management_1',\n",
       " 'scheme_management_2',\n",
       " 'scheme_name_0',\n",
       " 'scheme_name_1',\n",
       " 'scheme_name_2',\n",
       " 'x0_Internal',\n",
       " 'x0_Lake Nyasa',\n",
       " 'x0_Lake Rukwa',\n",
       " 'x0_Lake Tanganyika',\n",
       " 'x0_Lake Victoria',\n",
       " 'x0_Pangani',\n",
       " 'x0_Rufiji',\n",
       " 'x0_Ruvuma / Southern Coast',\n",
       " 'x0_Wami / Ruvu',\n",
       " 'x1_False',\n",
       " 'x1_True',\n",
       " 'x2_False',\n",
       " 'x2_True',\n",
       " 'x3_company',\n",
       " 'x3_other',\n",
       " 'x3_other - school',\n",
       " 'x3_parastatal',\n",
       " 'x3_private operator',\n",
       " 'x3_trust',\n",
       " 'x3_unknown',\n",
       " 'x3_vwc',\n",
       " 'x3_water authority',\n",
       " 'x3_water board',\n",
       " 'x3_wua',\n",
       " 'x3_wug',\n",
       " 'x4_commercial',\n",
       " 'x4_other',\n",
       " 'x4_parastatal',\n",
       " 'x4_unknown',\n",
       " 'x4_user-group',\n",
       " 'x5_never pay',\n",
       " 'x5_other',\n",
       " 'x5_pay annually',\n",
       " 'x5_pay monthly',\n",
       " 'x5_pay per bucket',\n",
       " 'x5_pay when scheme fails',\n",
       " 'x5_unknown',\n",
       " 'x6_coloured',\n",
       " 'x6_fluoride',\n",
       " 'x6_fluoride abandoned',\n",
       " 'x6_milky',\n",
       " 'x6_salty',\n",
       " 'x6_salty abandoned',\n",
       " 'x6_soft',\n",
       " 'x6_unknown',\n",
       " 'x7_dry',\n",
       " 'x7_enough',\n",
       " 'x7_insufficient',\n",
       " 'x7_seasonal',\n",
       " 'x7_unknown',\n",
       " 'x8_dam',\n",
       " 'x8_hand dtw',\n",
       " 'x8_lake',\n",
       " 'x8_machine dbh',\n",
       " 'x8_other',\n",
       " 'x8_rainwater harvesting',\n",
       " 'x8_river',\n",
       " 'x8_shallow well',\n",
       " 'x8_spring',\n",
       " 'x8_unknown',\n",
       " 'x9_groundwater',\n",
       " 'x9_surface',\n",
       " 'x9_unknown',\n",
       " 'x10_cattle trough',\n",
       " 'x10_communal standpipe',\n",
       " 'x10_communal standpipe multiple',\n",
       " 'x10_dam',\n",
       " 'x10_hand pump',\n",
       " 'x10_improved spring',\n",
       " 'x10_other',\n",
       " 'x0_gravity',\n",
       " 'x0_handpump:afridev',\n",
       " 'x0_handpump:india mark ii',\n",
       " 'x0_handpump:india mark iii',\n",
       " 'x0_handpump:nira/tanira',\n",
       " 'x0_handpump:other handpump:other - mkulima/shinyanga',\n",
       " 'x0_handpump:other handpump:other - play pump',\n",
       " 'x0_handpump:other handpump:other - swn 81',\n",
       " 'x0_handpump:other handpump:walimi',\n",
       " 'x0_handpump:swn 80',\n",
       " 'x0_motorpump:mono',\n",
       " 'x0_motorpump:other motorpump:cemo',\n",
       " 'x0_motorpump:other motorpump:climax',\n",
       " 'x0_other',\n",
       " 'x0_rope pump:other - rope pump',\n",
       " 'x0_submersible',\n",
       " 'x0_submersible:ksb',\n",
       " 'x0_wind-powered:windmill']"
      ]
     },
     "execution_count": 98,
     "metadata": {},
     "output_type": "execute_result"
    }
   ],
   "source": [
    "feature_names"
   ]
  },
  {
   "cell_type": "code",
   "execution_count": 101,
   "metadata": {},
   "outputs": [
    {
     "ename": "NameError",
     "evalue": "name 'eli5' is not defined",
     "output_type": "error",
     "traceback": [
      "\u001b[0;31m---------------------------------------------------------------------------\u001b[0m",
      "\u001b[0;31mNameError\u001b[0m                                 Traceback (most recent call last)",
      "\u001b[0;32m<ipython-input-101-5f3d78860479>\u001b[0m in \u001b[0;36m<module>\u001b[0;34m\u001b[0m\n\u001b[0;32m----> 1\u001b[0;31m \u001b[0mtop_feat\u001b[0m\u001b[0;34m(\u001b[0m\u001b[0mxgboost_pipe\u001b[0m\u001b[0;34m)\u001b[0m\u001b[0;34m\u001b[0m\u001b[0;34m\u001b[0m\u001b[0m\n\u001b[0m",
      "\u001b[0;32m<ipython-input-92-180613f45ff8>\u001b[0m in \u001b[0;36mtop_feat\u001b[0;34m(model_pipe)\u001b[0m\n\u001b[1;32m     12\u001b[0m     \u001b[0mnumeric_features_list\u001b[0m \u001b[0;34m=\u001b[0m \u001b[0mlist\u001b[0m\u001b[0;34m(\u001b[0m\u001b[0mX\u001b[0m\u001b[0;34m.\u001b[0m\u001b[0mselect_dtypes\u001b[0m\u001b[0;34m(\u001b[0m\u001b[0minclude\u001b[0m\u001b[0;34m=\u001b[0m\u001b[0;34m'number'\u001b[0m\u001b[0;34m)\u001b[0m\u001b[0;34m.\u001b[0m\u001b[0mcolumns\u001b[0m\u001b[0;34m)\u001b[0m\u001b[0;34m\u001b[0m\u001b[0;34m\u001b[0m\u001b[0m\n\u001b[1;32m     13\u001b[0m     \u001b[0mnumeric_features_list\u001b[0m\u001b[0;34m.\u001b[0m\u001b[0mextend\u001b[0m\u001b[0;34m(\u001b[0m\u001b[0monehot_columns\u001b[0m\u001b[0;34m)\u001b[0m\u001b[0;34m\u001b[0m\u001b[0;34m\u001b[0m\u001b[0m\n\u001b[0;32m---> 14\u001b[0;31m     \u001b[0;32mreturn\u001b[0m \u001b[0meli5\u001b[0m\u001b[0;34m.\u001b[0m\u001b[0mexplain_weights\u001b[0m\u001b[0;34m(\u001b[0m\u001b[0mmodel_pipe\u001b[0m\u001b[0;34m.\u001b[0m\u001b[0mbest_estimator_\u001b[0m\u001b[0;34m.\u001b[0m\u001b[0mnamed_steps\u001b[0m\u001b[0;34m[\u001b[0m\u001b[0;34m'model'\u001b[0m\u001b[0;34m]\u001b[0m\u001b[0;34m,\u001b[0m \u001b[0mtop\u001b[0m\u001b[0;34m=\u001b[0m\u001b[0;36m20\u001b[0m\u001b[0;34m,\u001b[0m \u001b[0mfeature_names\u001b[0m\u001b[0;34m=\u001b[0m\u001b[0mnumeric_features_list\u001b[0m\u001b[0;34m)\u001b[0m\u001b[0;34m\u001b[0m\u001b[0;34m\u001b[0m\u001b[0m\n\u001b[0m",
      "\u001b[0;31mNameError\u001b[0m: name 'eli5' is not defined"
     ]
    }
   ],
   "source": [
    "top_feat(xgboost_pipe)"
   ]
  },
  {
   "cell_type": "code",
   "execution_count": 100,
   "metadata": {},
   "outputs": [],
   "source": [
    "# submission = X_contest['status_group']\n",
    "# submission.to_csv('submission_01.csv')\n",
    "# X_contest.shape"
   ]
  },
  {
   "cell_type": "code",
   "execution_count": null,
   "metadata": {},
   "outputs": [],
   "source": []
  }
 ],
 "metadata": {
  "kernelspec": {
   "display_name": "Python 3.8.3 64-bit ('tanzania': conda)",
   "language": "python",
   "name": "python38364bittanzaniaconda1967df85bc744431ae2cc16ca55f626b"
  },
  "language_info": {
   "codemirror_mode": {
    "name": "ipython",
    "version": 3
   },
   "file_extension": ".py",
   "mimetype": "text/x-python",
   "name": "python",
   "nbconvert_exporter": "python",
   "pygments_lexer": "ipython3",
   "version": "3.8.3"
  }
 },
 "nbformat": 4,
 "nbformat_minor": 4
}
